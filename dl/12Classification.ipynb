{
 "cells": [
  {
   "cell_type": "code",
   "execution_count": 1,
   "id": "7024fc48",
   "metadata": {},
   "outputs": [],
   "source": [
    "import numpy as np\n",
    "import matplotlib.pyplot as plt"
   ]
  },
  {
   "cell_type": "code",
   "execution_count": 3,
   "id": "0ca8ffc9",
   "metadata": {},
   "outputs": [],
   "source": [
    "X = np.arange(-1.0, 1.1, 0.1)\n",
    "Y = np.arange(-1.0, 1.1, 0.1)\n",
    "input_data = []\n",
    "correct_data = []\n",
    "for x in X:\n",
    "    for y in Y:\n",
    "        input_data.append([x, y])\n",
    "        if y < np.sin(x):\n",
    "            correct_data.append([0, 1])\n",
    "        else :\n",
    "            correct_data.append([1, 0])"
   ]
  },
  {
   "cell_type": "code",
   "execution_count": 5,
   "id": "fc0f9087",
   "metadata": {},
   "outputs": [],
   "source": [
    "n_data = len(correct_data)\n",
    "input_data = np.array(input_data)\n",
    "correct_data = np.array(correct_data)"
   ]
  },
  {
   "cell_type": "code",
   "execution_count": 6,
   "id": "7ccc1ca9",
   "metadata": {},
   "outputs": [],
   "source": [
    "n_in = 2\n",
    "n_mid = 6\n",
    "n_out = 2"
   ]
  },
  {
   "cell_type": "code",
   "execution_count": null,
   "id": "6ebdbb18",
   "metadata": {},
   "outputs": [],
   "source": []
  }
 ],
 "metadata": {
  "kernelspec": {
   "display_name": "Python 3 (ipykernel)",
   "language": "python",
   "name": "python3"
  },
  "language_info": {
   "codemirror_mode": {
    "name": "ipython",
    "version": 3
   },
   "file_extension": ".py",
   "mimetype": "text/x-python",
   "name": "python",
   "nbconvert_exporter": "python",
   "pygments_lexer": "ipython3",
   "version": "3.8.15"
  }
 },
 "nbformat": 4,
 "nbformat_minor": 5
}
