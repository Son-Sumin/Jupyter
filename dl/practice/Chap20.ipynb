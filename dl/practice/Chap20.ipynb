{
 "cells": [
  {
   "cell_type": "markdown",
   "id": "55d06fdd",
   "metadata": {},
   "source": [
    "# 모두의 딥러닝 개정 3판 \n",
    "## 20장 전이 학습을 통해 딥러닝의 성능 극대화하기"
   ]
  },
  {
   "cell_type": "markdown",
   "id": "b48d2a32",
   "metadata": {},
   "source": [
    "- 머신 러닝과 달리 딥러닝은 스스로 중요한 속성을 뽑아 학습하기 때문에 비교적 많은 양의 데이터 필요\n",
    "- 딥러닝의 데이터양이 충분하지 않을 때 활용할 수 있는 방법들 배울 예정\n",
    "   * 전이 학습(transfer learning): 수만 장에 달하는 기존의 이미지에서 학습한 정보를 가져와 내 프로젝트에 활용하는 것"
   ]
  },
  {
   "cell_type": "markdown",
   "id": "b97c6528",
   "metadata": {},
   "source": [
    "### 1 소규모 데이터셋으로 만드는 강력한 학습 모델\n",
    "- 지도학습(supervised learning) : 정답을 알고 학습\n",
    "  폐암수술 환자의 생존율 예측, 피마 인디언의 당뇨병 예측, CNN을 이용한 MNIST 분류, CNN을 이용한 치매환자 MRI 뇌 사진 분류\n",
    "- 비지도학습(unsupervised learning) : 정답 없이 시작하여 정답 예측\n",
    "  GAN이, 오토인코더"
   ]
  },
  {
   "cell_type": "code",
   "execution_count": 1,
   "id": "31911d54",
   "metadata": {},
   "outputs": [],
   "source": [
    "from tensorflow.keras import models, layers, optimizers\n",
    "from tensorflow.keras.preprocessing.image import ImageDataGenerator\n",
    "from tensorflow.keras.callbacks import EarlyStopping\n",
    "import numpy as np\n",
    "import matplotlib.pyplot as plt\n",
    "import os\n",
    "os.environ[\"KMP_DUPLICATE_LIB_OK\"]=\"TRUE\""
   ]
  },
  {
   "cell_type": "code",
   "execution_count": 2,
   "id": "5e909b1e",
   "metadata": {},
   "outputs": [],
   "source": [
    "BATCH_SIZE = 5"
   ]
  },
  {
   "cell_type": "markdown",
   "id": "7b4ac491",
   "metadata": {},
   "source": [
    "- ImageDataGenerator() : keras에서 제공하는 데이터가 아닌 내 데이터 읽어오기   \n",
    "  주어진 데이터 변형한 이미지를 만들어 학습셋에 포함시켜줌\n",
    "  이는 학습셋에만 적용하는 것이 좋음. 테스트셋에 실제 정보를 유지시키는 것이 과적합 위험 방지 가능\n",
    "- flow_from_directory() : 폴더에 저장된 데이터를 불러오기"
   ]
  },
  {
   "cell_type": "code",
   "execution_count": 3,
   "id": "4f0f1086",
   "metadata": {},
   "outputs": [
    {
     "name": "stdout",
     "output_type": "stream",
     "text": [
      "Found 160 images belonging to 2 classes.\n",
      "Found 120 images belonging to 2 classes.\n"
     ]
    }
   ],
   "source": [
    "# 데이터 특성에 맞게 항목을 골라써야함\n",
    "train_datagen = ImageDataGenerator(rescale=1./255,          # 주어진 이미지의 크기를 설정(0~1 값 고정)\n",
    "                                  horizontal_flip=True,     # 수평 대칭 이미지를 50% 확률로 만들어 추가\n",
    "                                  width_shift_range=0.1,    # 전체 크기의 15% 범위에서 좌우로 이동\n",
    "                                  height_shift_range=0.1,   # 마찬가지로 위, 아래로 이동(정확히 10%가 아님)\n",
    "                                  #rotation_range=5,        # 정해진 각도만큼 회전\n",
    "                                  #shear_range=0.7,         # 좌표 하나를 고정시키고 나머지를 이동\n",
    "                                  #zoom_range=1.2,          # 확대 또는 축소\n",
    "                                  #vertical_flip=True,      # 수직 대칭 이미지 생성\n",
    "                                  #fill_mode='nearest'      # 빈 공간을 채우는 방법. nearest 옵션:가장 비슷한 색으로 채워줌\n",
    "                                  )\n",
    "\n",
    "train_generator = train_datagen.flow_from_directory(\n",
    "       './data/train',       # 학습셋이 있는 폴더의 위치\n",
    "       target_size=(150, 150),\n",
    "       batch_size=BATCH_SIZE,\n",
    "       class_mode='binary')  # 이진분류 (정상0 / 치매1)\n",
    "\n",
    "# 테스트셋 이미지 생성 옵션 부여 및 생성\n",
    "test_datagen = ImageDataGenerator(rescale=1./255)  \n",
    "\n",
    "test_generator = test_datagen.flow_from_directory(\n",
    "       './data/test',   # 테스트셋이 있는 폴더의 위치\n",
    "       target_size=(150, 150),\n",
    "       batch_size=BATCH_SIZE,\n",
    "       class_mode='binary')"
   ]
  },
  {
   "cell_type": "code",
   "execution_count": 4,
   "id": "b08571e4",
   "metadata": {},
   "outputs": [
    {
     "name": "stdout",
     "output_type": "stream",
     "text": [
      "Model: \"sequential\"\n",
      "_________________________________________________________________\n",
      " Layer (type)                Output Shape              Param #   \n",
      "=================================================================\n",
      " conv2d (Conv2D)             (None, 148, 148, 32)      896       \n",
      "                                                                 \n",
      " activation (Activation)     (None, 148, 148, 32)      0         \n",
      "                                                                 \n",
      " max_pooling2d (MaxPooling2D  (None, 74, 74, 32)       0         \n",
      " )                                                               \n",
      "                                                                 \n",
      " conv2d_1 (Conv2D)           (None, 72, 72, 32)        9248      \n",
      "                                                                 \n",
      " activation_1 (Activation)   (None, 72, 72, 32)        0         \n",
      "                                                                 \n",
      " max_pooling2d_1 (MaxPooling  (None, 36, 36, 32)       0         \n",
      " 2D)                                                             \n",
      "                                                                 \n",
      " conv2d_2 (Conv2D)           (None, 34, 34, 64)        18496     \n",
      "                                                                 \n",
      " activation_2 (Activation)   (None, 34, 34, 64)        0         \n",
      "                                                                 \n",
      " max_pooling2d_2 (MaxPooling  (None, 17, 17, 64)       0         \n",
      " 2D)                                                             \n",
      "                                                                 \n",
      " flatten (Flatten)           (None, 18496)             0         \n",
      "                                                                 \n",
      " dense (Dense)               (None, 64)                1183808   \n",
      "                                                                 \n",
      " activation_3 (Activation)   (None, 64)                0         \n",
      "                                                                 \n",
      " dropout (Dropout)           (None, 64)                0         \n",
      "                                                                 \n",
      " dense_1 (Dense)             (None, 1)                 65        \n",
      "                                                                 \n",
      " activation_4 (Activation)   (None, 1)                 0         \n",
      "                                                                 \n",
      "=================================================================\n",
      "Total params: 1,212,513\n",
      "Trainable params: 1,212,513\n",
      "Non-trainable params: 0\n",
      "_________________________________________________________________\n"
     ]
    }
   ],
   "source": [
    "# 모델 만들기\n",
    "model = models.Sequential()\n",
    "\n",
    "model.add(layers.Conv2D(32, (3,3), input_shape=(150,150,3)))\n",
    "model.add(layers.Activation('relu'))\n",
    "model.add(layers.MaxPooling2D(pool_size=(2,2)))\n",
    "\n",
    "model.add(layers.Conv2D(32, (3,3)))\n",
    "model.add(layers.Activation('relu'))\n",
    "model.add(layers.MaxPooling2D(pool_size=(2,2)))\n",
    "\n",
    "model.add(layers.Conv2D(64, (3,3)))\n",
    "model.add(layers.Activation('relu'))\n",
    "model.add(layers.MaxPooling2D(pool_size=(2,2)))\n",
    "\n",
    "model.add(layers.Flatten())\n",
    "model.add(layers.Dense(64))\n",
    "model.add(layers.Activation('relu'))\n",
    "model.add(layers.Dropout(0.5))\n",
    "model.add(layers.Dense(1))\n",
    "model.add(layers.Activation('sigmoid'))\n",
    "\n",
    "model.summary()"
   ]
  },
  {
   "cell_type": "code",
   "execution_count": 5,
   "id": "4bcbe0d9",
   "metadata": {},
   "outputs": [],
   "source": [
    "model.compile(loss='binary_crossentropy',\n",
    "              optimizer=optimizers.Adam(learning_rate=0.0002),  # optimizers -> 학습률 지정\n",
    "              metrics=['accuracy'])"
   ]
  },
  {
   "cell_type": "code",
   "execution_count": 6,
   "id": "5e38fc02",
   "metadata": {},
   "outputs": [],
   "source": [
    "early_stopping = EarlyStopping(monitor='val_loss', patience=5)"
   ]
  },
  {
   "cell_type": "code",
   "execution_count": 7,
   "id": "710c3efb",
   "metadata": {},
   "outputs": [
    {
     "name": "stdout",
     "output_type": "stream",
     "text": [
      "Epoch 1/100\n",
      "32/32 [==============================] - 3s 71ms/step - loss: 0.6995 - accuracy: 0.4812 - val_loss: 0.6911 - val_accuracy: 0.5000\n",
      "Epoch 2/100\n",
      "32/32 [==============================] - 2s 70ms/step - loss: 0.6912 - accuracy: 0.5500 - val_loss: 0.6886 - val_accuracy: 0.5000\n",
      "Epoch 3/100\n",
      "32/32 [==============================] - 2s 64ms/step - loss: 0.6912 - accuracy: 0.5125 - val_loss: 0.6859 - val_accuracy: 0.5000\n",
      "Epoch 4/100\n",
      "32/32 [==============================] - 2s 64ms/step - loss: 0.6895 - accuracy: 0.5437 - val_loss: 0.6802 - val_accuracy: 0.5000\n",
      "Epoch 5/100\n",
      "32/32 [==============================] - 2s 68ms/step - loss: 0.6713 - accuracy: 0.6125 - val_loss: 0.6664 - val_accuracy: 0.5167\n",
      "Epoch 6/100\n",
      "32/32 [==============================] - 2s 61ms/step - loss: 0.6521 - accuracy: 0.6500 - val_loss: 0.6555 - val_accuracy: 0.5417\n",
      "Epoch 7/100\n",
      "32/32 [==============================] - 2s 62ms/step - loss: 0.6309 - accuracy: 0.6313 - val_loss: 0.6244 - val_accuracy: 0.5750\n",
      "Epoch 8/100\n",
      "32/32 [==============================] - 2s 63ms/step - loss: 0.6379 - accuracy: 0.6000 - val_loss: 0.6280 - val_accuracy: 0.5833\n",
      "Epoch 9/100\n",
      "32/32 [==============================] - 2s 60ms/step - loss: 0.5781 - accuracy: 0.7375 - val_loss: 0.5468 - val_accuracy: 0.7000\n",
      "Epoch 10/100\n",
      "32/32 [==============================] - 2s 62ms/step - loss: 0.4898 - accuracy: 0.8188 - val_loss: 0.3835 - val_accuracy: 0.8583\n",
      "Epoch 11/100\n",
      "32/32 [==============================] - 2s 70ms/step - loss: 0.5120 - accuracy: 0.7437 - val_loss: 0.3682 - val_accuracy: 0.9083\n",
      "Epoch 12/100\n",
      "32/32 [==============================] - 2s 67ms/step - loss: 0.3760 - accuracy: 0.8562 - val_loss: 0.3784 - val_accuracy: 0.8083\n",
      "Epoch 13/100\n",
      "32/32 [==============================] - 2s 61ms/step - loss: 0.3924 - accuracy: 0.8250 - val_loss: 0.2601 - val_accuracy: 0.9250\n",
      "Epoch 14/100\n",
      "32/32 [==============================] - 2s 62ms/step - loss: 0.3826 - accuracy: 0.8313 - val_loss: 0.2534 - val_accuracy: 0.9417\n",
      "Epoch 15/100\n",
      "32/32 [==============================] - 2s 63ms/step - loss: 0.2583 - accuracy: 0.9125 - val_loss: 0.1804 - val_accuracy: 0.9167\n",
      "Epoch 16/100\n",
      "32/32 [==============================] - 2s 65ms/step - loss: 0.2519 - accuracy: 0.9187 - val_loss: 0.1901 - val_accuracy: 0.9417\n",
      "Epoch 17/100\n",
      "32/32 [==============================] - 2s 69ms/step - loss: 0.2328 - accuracy: 0.9312 - val_loss: 0.1381 - val_accuracy: 0.9667\n",
      "Epoch 18/100\n",
      "32/32 [==============================] - 2s 62ms/step - loss: 0.1896 - accuracy: 0.9625 - val_loss: 0.1157 - val_accuracy: 0.9750\n",
      "Epoch 19/100\n",
      "32/32 [==============================] - 2s 62ms/step - loss: 0.1810 - accuracy: 0.9500 - val_loss: 0.1266 - val_accuracy: 0.9667\n",
      "Epoch 20/100\n",
      "32/32 [==============================] - 2s 62ms/step - loss: 0.1574 - accuracy: 0.9500 - val_loss: 0.1020 - val_accuracy: 0.9667\n",
      "Epoch 21/100\n",
      "32/32 [==============================] - 2s 65ms/step - loss: 0.1389 - accuracy: 0.9625 - val_loss: 0.1747 - val_accuracy: 0.9167\n",
      "Epoch 22/100\n",
      "32/32 [==============================] - 2s 62ms/step - loss: 0.1986 - accuracy: 0.9438 - val_loss: 0.0968 - val_accuracy: 0.9833\n",
      "Epoch 23/100\n",
      "32/32 [==============================] - 2s 60ms/step - loss: 0.1434 - accuracy: 0.9438 - val_loss: 0.1044 - val_accuracy: 0.9750\n",
      "Epoch 24/100\n",
      "32/32 [==============================] - 2s 63ms/step - loss: 0.1479 - accuracy: 0.9438 - val_loss: 0.0853 - val_accuracy: 0.9833\n",
      "Epoch 25/100\n",
      "32/32 [==============================] - 2s 61ms/step - loss: 0.1223 - accuracy: 0.9750 - val_loss: 0.0788 - val_accuracy: 0.9833\n",
      "Epoch 26/100\n",
      "32/32 [==============================] - 2s 62ms/step - loss: 0.1507 - accuracy: 0.9375 - val_loss: 0.0696 - val_accuracy: 0.9750\n",
      "Epoch 27/100\n",
      "32/32 [==============================] - 2s 61ms/step - loss: 0.0901 - accuracy: 0.9750 - val_loss: 0.0648 - val_accuracy: 0.9750\n",
      "Epoch 28/100\n",
      "32/32 [==============================] - 2s 68ms/step - loss: 0.0895 - accuracy: 0.9688 - val_loss: 0.0828 - val_accuracy: 0.9750\n",
      "Epoch 29/100\n",
      "32/32 [==============================] - 2s 62ms/step - loss: 0.1299 - accuracy: 0.9500 - val_loss: 0.0664 - val_accuracy: 0.9750\n",
      "Epoch 30/100\n",
      "32/32 [==============================] - 2s 61ms/step - loss: 0.0837 - accuracy: 0.9688 - val_loss: 0.0547 - val_accuracy: 0.9750\n",
      "Epoch 31/100\n",
      "32/32 [==============================] - 2s 62ms/step - loss: 0.0860 - accuracy: 0.9812 - val_loss: 0.0489 - val_accuracy: 0.9750\n",
      "Epoch 32/100\n",
      "32/32 [==============================] - 2s 63ms/step - loss: 0.0857 - accuracy: 0.9625 - val_loss: 0.1211 - val_accuracy: 0.9333\n",
      "Epoch 33/100\n",
      "32/32 [==============================] - 2s 61ms/step - loss: 0.0945 - accuracy: 0.9688 - val_loss: 0.3182 - val_accuracy: 0.8417\n",
      "Epoch 34/100\n",
      "32/32 [==============================] - 2s 63ms/step - loss: 0.1647 - accuracy: 0.9312 - val_loss: 0.0852 - val_accuracy: 0.9833\n",
      "Epoch 35/100\n",
      "32/32 [==============================] - 2s 61ms/step - loss: 0.0911 - accuracy: 0.9688 - val_loss: 0.0747 - val_accuracy: 0.9833\n",
      "Epoch 36/100\n",
      "32/32 [==============================] - 2s 61ms/step - loss: 0.0780 - accuracy: 0.9688 - val_loss: 0.0476 - val_accuracy: 0.9750\n",
      "Epoch 37/100\n",
      "32/32 [==============================] - 2s 62ms/step - loss: 0.0801 - accuracy: 0.9688 - val_loss: 0.0527 - val_accuracy: 0.9833\n",
      "Epoch 38/100\n",
      "32/32 [==============================] - 2s 64ms/step - loss: 0.1069 - accuracy: 0.9688 - val_loss: 0.0468 - val_accuracy: 0.9917\n",
      "Epoch 39/100\n",
      "32/32 [==============================] - 2s 70ms/step - loss: 0.0958 - accuracy: 0.9625 - val_loss: 0.0505 - val_accuracy: 0.9833\n",
      "Epoch 40/100\n",
      "32/32 [==============================] - 2s 60ms/step - loss: 0.0929 - accuracy: 0.9750 - val_loss: 0.0723 - val_accuracy: 0.9750\n",
      "Epoch 41/100\n",
      "32/32 [==============================] - 2s 62ms/step - loss: 0.0664 - accuracy: 0.9812 - val_loss: 0.0460 - val_accuracy: 0.9917\n",
      "Epoch 42/100\n",
      "32/32 [==============================] - 2s 63ms/step - loss: 0.1010 - accuracy: 0.9563 - val_loss: 0.0844 - val_accuracy: 0.9667\n",
      "Epoch 43/100\n",
      "32/32 [==============================] - 2s 63ms/step - loss: 0.0516 - accuracy: 0.9937 - val_loss: 0.0451 - val_accuracy: 0.9833\n",
      "Epoch 44/100\n",
      "32/32 [==============================] - 2s 67ms/step - loss: 0.0578 - accuracy: 0.9875 - val_loss: 0.0994 - val_accuracy: 0.9667\n",
      "Epoch 45/100\n",
      "32/32 [==============================] - 2s 61ms/step - loss: 0.0615 - accuracy: 0.9625 - val_loss: 0.0507 - val_accuracy: 0.9917\n",
      "Epoch 46/100\n",
      "32/32 [==============================] - 2s 62ms/step - loss: 0.0847 - accuracy: 0.9625 - val_loss: 0.0388 - val_accuracy: 0.9917\n",
      "Epoch 47/100\n",
      "32/32 [==============================] - 2s 64ms/step - loss: 0.0766 - accuracy: 0.9750 - val_loss: 0.0381 - val_accuracy: 0.9833\n",
      "Epoch 48/100\n",
      "32/32 [==============================] - 2s 64ms/step - loss: 0.0916 - accuracy: 0.9563 - val_loss: 0.0541 - val_accuracy: 0.9917\n",
      "Epoch 49/100\n",
      "32/32 [==============================] - 2s 73ms/step - loss: 0.0699 - accuracy: 0.9812 - val_loss: 0.0474 - val_accuracy: 0.9917\n",
      "Epoch 50/100\n",
      "32/32 [==============================] - 2s 64ms/step - loss: 0.0788 - accuracy: 0.9812 - val_loss: 0.0979 - val_accuracy: 0.9500\n",
      "Epoch 51/100\n",
      "32/32 [==============================] - 2s 63ms/step - loss: 0.0746 - accuracy: 0.9750 - val_loss: 0.0598 - val_accuracy: 0.9750\n",
      "Epoch 52/100\n",
      "32/32 [==============================] - 2s 66ms/step - loss: 0.1013 - accuracy: 0.9625 - val_loss: 0.0362 - val_accuracy: 0.9917\n",
      "Epoch 53/100\n",
      "32/32 [==============================] - 2s 65ms/step - loss: 0.0538 - accuracy: 0.9812 - val_loss: 0.0595 - val_accuracy: 0.9750\n",
      "Epoch 54/100\n",
      "32/32 [==============================] - 2s 63ms/step - loss: 0.0820 - accuracy: 0.9812 - val_loss: 0.1581 - val_accuracy: 0.9167\n",
      "Epoch 55/100\n",
      "32/32 [==============================] - 2s 62ms/step - loss: 0.0720 - accuracy: 0.9750 - val_loss: 0.0368 - val_accuracy: 0.9917\n",
      "Epoch 56/100\n",
      "32/32 [==============================] - 2s 63ms/step - loss: 0.0603 - accuracy: 0.9875 - val_loss: 0.0431 - val_accuracy: 0.9833\n",
      "Epoch 57/100\n",
      "32/32 [==============================] - 2s 63ms/step - loss: 0.0376 - accuracy: 0.9875 - val_loss: 0.0588 - val_accuracy: 0.9750\n"
     ]
    }
   ],
   "source": [
    "history = model.fit(\n",
    "    train_generator, epochs=100,\n",
    "    validation_data=test_generator,\n",
    "    callbacks=[early_stopping]\n",
    ")"
   ]
  },
  {
   "cell_type": "code",
   "execution_count": 8,
   "id": "23ff6179",
   "metadata": {},
   "outputs": [
    {
     "data": {
      "image/png": "[encoded data removed]",
      "text/plain": [
       "<Figure size 640x480 with 1 Axes>"
      ]
     },
     "metadata": {},
     "output_type": "display_data"
    }
   ],
   "source": [
    "y_vloss = history.history['val_loss']\n",
    "y_loss = history.history['loss']\n",
    "\n",
    "# 그래프로 표현해 봅니다.\n",
    "x_len = np.arange(len(y_loss))\n",
    "plt.plot(x_len, y_vloss, marker='.', c=\"red\", label='Testset_loss')\n",
    "plt.plot(x_len, y_loss, marker='.', c=\"blue\", label='Trainset_loss')\n",
    "\n",
    "# 그래프에 그리드를 주고 레이블을 표시하겠습니다.\n",
    "plt.legend(loc='upper right')\n",
    "plt.grid()\n",
    "plt.xlabel('epoch')\n",
    "plt.ylabel('loss')\n",
    "plt.show()"
   ]
  }
 ],
 "metadata": {
  "kernelspec": {
   "display_name": "Python 3 (ipykernel)",
   "language": "python",
   "name": "python3"
  },
  "language_info": {
   "codemirror_mode": {
    "name": "ipython",
    "version": 3
   },
   "file_extension": ".py",
   "mimetype": "text/x-python",
   "name": "python",
   "nbconvert_exporter": "python",
   "pygments_lexer": "ipython3",
   "version": "3.8.15"
  }
 },
 "nbformat": 4,
 "nbformat_minor": 5
}
