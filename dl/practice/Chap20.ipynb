{
 "cells": [
  {
   "cell_type": "markdown",
   "id": "55d06fdd",
   "metadata": {},
   "source": [
    "# 모두의 딥러닝 개정 3판 \n",
    "## 20장 전이 학습을 통해 딥러닝의 성능 극대화하기"
   ]
  },
  {
   "cell_type": "markdown",
   "id": "b48d2a32",
   "metadata": {},
   "source": [
    "- 머신 러닝과 달리 딥러닝은 스스로 중요한 속성을 뽑아 학습하기 때문에 비교적 많은 양의 데이터 필요\n",
    "- 딥러닝의 데이터양이 충분하지 않을 때 활용할 수 있는 방법들 배울 예정"
   ]
  },
  {
   "cell_type": "markdown",
   "id": "b97c6528",
   "metadata": {},
   "source": [
    "- 지도학습(supervised learning) : 정답을 알고 학습\n",
    "  폐암수술 환자의 생존율 예측, 피마 인디언의 당뇨병 예측, CNN을 이용한 MNIST 분류, MRI 뇌 사진 분류\n",
    "- 비지도학습(unsupervised learning) : 정답 없이 시작하여 정답 예측\n",
    "  GAN이, 오토인코더"
   ]
  },
  {
   "cell_type": "code",
   "execution_count": 1,
   "id": "31911d54",
   "metadata": {},
   "outputs": [],
   "source": [
    "from tensorflow.keras import models, layers, optimizers\n",
    "from tensorflow.keras.preprocessing.image import ImageDataGenerator\n",
    "from tensorflow.keras.callbacks import EarlyStopping\n",
    "import numpy as np\n",
    "import matplotlib.pyplot as plt\n",
    "import os\n",
    "os.environ[\"KMP_DUPLICATE_LIB_OK\"]=\"TRUE\""
   ]
  },
  {
   "cell_type": "code",
   "execution_count": 2,
   "id": "5e909b1e",
   "metadata": {},
   "outputs": [],
   "source": [
    "BATCH_SIZE = 5"
   ]
  },
  {
   "cell_type": "code",
   "execution_count": 3,
   "id": "4f0f1086",
   "metadata": {},
   "outputs": [],
   "source": [
    "# 데이터 특성에 맞게 항목을 골라써야함\n",
    "train_datagen = ImageDataGenerator(rescale=1./255,          # 주어진 이미지의 크기를 설정(0~1 값 고정)\n",
    "                                  horizontal_flip=True,     # 수평 대칭 이미지를 50% 확률로 만들어 추가\n",
    "                                  width_shift_range=0.1,    # 전체 크기의 15% 범위에서 좌우로 이동합니다.\n",
    "                                  height_shift_range=0.1,   # 마찬가지로 위, 아래로 이동합니다.(정확히 10%가 아님)\n",
    "                                  #rotation_range=5,        # 정해진 각도만큼 회전시킵니다.\n",
    "                                  #shear_range=0.7,         # 좌표 하나를 고정시키고 나머지를 이동시킵니다.\n",
    "                                  #zoom_range=1.2,          # 확대 또는 축소시킵니다.\n",
    "                                  #vertical_flip=True,      # 수직 대칭 이미지를 만듭니다.\n",
    "                                  #fill_mode='nearest'      # 빈 공간을 채우는 방법입니다. nearest 옵션은 가장 비슷한 색으로 채우게 됩니다.\n",
    "                                  )      "
   ]
  },
  {
   "cell_type": "code",
   "execution_count": 4,
   "id": "ca3b5c73",
   "metadata": {},
   "outputs": [
    {
     "name": "stdout",
     "output_type": "stream",
     "text": [
      "Found 160 images belonging to 2 classes.\n",
      "Found 120 images belonging to 2 classes.\n"
     ]
    }
   ],
   "source": [
    "train_generator = train_datagen.flow_from_directory(\n",
    "       './data/train',   # 학습셋이 있는 폴더의 위치\n",
    "       target_size=(150, 150),\n",
    "       batch_size=BATCH_SIZE,\n",
    "       class_mode='binary')  # 이진분류 (정상0/치매1)\n",
    "\n",
    "test_datagen = ImageDataGenerator(rescale=1./255)  \n",
    "\n",
    "test_generator = test_datagen.flow_from_directory(\n",
    "       './data/test',   # 테스트셋이 있는 폴더의 위치\n",
    "       target_size=(150, 150),\n",
    "       batch_size=BATCH_SIZE,\n",
    "       class_mode='binary')"
   ]
  },
  {
   "cell_type": "code",
   "execution_count": 5,
   "id": "b08571e4",
   "metadata": {},
   "outputs": [
    {
     "name": "stdout",
     "output_type": "stream",
     "text": [
      "Model: \"sequential\"\n",
      "_________________________________________________________________\n",
      " Layer (type)                Output Shape              Param #   \n",
      "=================================================================\n",
      " conv2d (Conv2D)             (None, 148, 148, 32)      896       \n",
      "                                                                 \n",
      " activation (Activation)     (None, 148, 148, 32)      0         \n",
      "                                                                 \n",
      " max_pooling2d (MaxPooling2D  (None, 74, 74, 32)       0         \n",
      " )                                                               \n",
      "                                                                 \n",
      " conv2d_1 (Conv2D)           (None, 72, 72, 32)        9248      \n",
      "                                                                 \n",
      " activation_1 (Activation)   (None, 72, 72, 32)        0         \n",
      "                                                                 \n",
      " max_pooling2d_1 (MaxPooling  (None, 36, 36, 32)       0         \n",
      " 2D)                                                             \n",
      "                                                                 \n",
      " conv2d_2 (Conv2D)           (None, 34, 34, 64)        18496     \n",
      "                                                                 \n",
      " activation_2 (Activation)   (None, 34, 34, 64)        0         \n",
      "                                                                 \n",
      " max_pooling2d_2 (MaxPooling  (None, 17, 17, 64)       0         \n",
      " 2D)                                                             \n",
      "                                                                 \n",
      " flatten (Flatten)           (None, 18496)             0         \n",
      "                                                                 \n",
      " dense (Dense)               (None, 64)                1183808   \n",
      "                                                                 \n",
      " activation_3 (Activation)   (None, 64)                0         \n",
      "                                                                 \n",
      " dropout (Dropout)           (None, 64)                0         \n",
      "                                                                 \n",
      " dense_1 (Dense)             (None, 1)                 65        \n",
      "                                                                 \n",
      " activation_4 (Activation)   (None, 1)                 0         \n",
      "                                                                 \n",
      "=================================================================\n",
      "Total params: 1,212,513\n",
      "Trainable params: 1,212,513\n",
      "Non-trainable params: 0\n",
      "_________________________________________________________________\n"
     ]
    }
   ],
   "source": [
    "# 모델 만들기\n",
    "model = models.Sequential()\n",
    "\n",
    "model.add(layers.Conv2D(32, (3,3), input_shape=(150,150,3)))\n",
    "model.add(layers.Activation('relu'))\n",
    "model.add(layers.MaxPooling2D(pool_size=(2,2)))\n",
    "\n",
    "model.add(layers.Conv2D(32, (3,3)))\n",
    "model.add(layers.Activation('relu'))\n",
    "model.add(layers.MaxPooling2D(pool_size=(2,2)))\n",
    "\n",
    "model.add(layers.Conv2D(64, (3,3)))\n",
    "model.add(layers.Activation('relu'))\n",
    "model.add(layers.MaxPooling2D(pool_size=(2,2)))\n",
    "\n",
    "model.add(layers.Flatten())\n",
    "model.add(layers.Dense(64))\n",
    "model.add(layers.Activation('relu'))\n",
    "model.add(layers.Dropout(0.5))\n",
    "model.add(layers.Dense(1))\n",
    "model.add(layers.Activation('sigmoid'))\n",
    "\n",
    "model.summary()"
   ]
  },
  {
   "cell_type": "code",
   "execution_count": 6,
   "id": "4bcbe0d9",
   "metadata": {},
   "outputs": [],
   "source": [
    "model.compile(loss='binary_crossentropy',\n",
    "              optimizer=optimizers.Adam(learning_rate=0.0002),\n",
    "              metrics=['accuracy'])"
   ]
  },
  {
   "cell_type": "code",
   "execution_count": 7,
   "id": "5e38fc02",
   "metadata": {},
   "outputs": [],
   "source": [
    "early_stopping = EarlyStopping(monitor='val_loss', patience=5)"
   ]
  },
  {
   "cell_type": "code",
   "execution_count": 8,
   "id": "710c3efb",
   "metadata": {},
   "outputs": [
    {
     "name": "stdout",
     "output_type": "stream",
     "text": [
      "Epoch 1/100\n",
      "32/32 [==============================] - 3s 69ms/step - loss: 0.7061 - accuracy: 0.4563 - val_loss: 0.6921 - val_accuracy: 0.5250\n",
      "Epoch 2/100\n",
      "32/32 [==============================] - 2s 60ms/step - loss: 0.6956 - accuracy: 0.4688 - val_loss: 0.6916 - val_accuracy: 0.5000\n",
      "Epoch 3/100\n",
      "32/32 [==============================] - 2s 60ms/step - loss: 0.6917 - accuracy: 0.5688 - val_loss: 0.6891 - val_accuracy: 0.5000\n",
      "Epoch 4/100\n",
      "32/32 [==============================] - 2s 64ms/step - loss: 0.6885 - accuracy: 0.5437 - val_loss: 0.6907 - val_accuracy: 0.5000\n",
      "Epoch 5/100\n",
      "32/32 [==============================] - 2s 61ms/step - loss: 0.6842 - accuracy: 0.6187 - val_loss: 0.6738 - val_accuracy: 0.8083\n",
      "Epoch 6/100\n",
      "32/32 [==============================] - 2s 62ms/step - loss: 0.6916 - accuracy: 0.5312 - val_loss: 0.6718 - val_accuracy: 0.8000\n",
      "Epoch 7/100\n",
      "32/32 [==============================] - 2s 67ms/step - loss: 0.6807 - accuracy: 0.5813 - val_loss: 0.6540 - val_accuracy: 0.6167\n",
      "Epoch 8/100\n",
      "32/32 [==============================] - 2s 63ms/step - loss: 0.6495 - accuracy: 0.6500 - val_loss: 0.6243 - val_accuracy: 0.8000\n",
      "Epoch 9/100\n",
      "32/32 [==============================] - 2s 62ms/step - loss: 0.6106 - accuracy: 0.6938 - val_loss: 0.5519 - val_accuracy: 0.8833\n",
      "Epoch 10/100\n",
      "32/32 [==============================] - 2s 63ms/step - loss: 0.5933 - accuracy: 0.7250 - val_loss: 0.4910 - val_accuracy: 0.7833\n",
      "Epoch 11/100\n",
      "32/32 [==============================] - 2s 64ms/step - loss: 0.5409 - accuracy: 0.7437 - val_loss: 0.4622 - val_accuracy: 0.8750\n",
      "Epoch 12/100\n",
      "32/32 [==============================] - 2s 61ms/step - loss: 0.5182 - accuracy: 0.7750 - val_loss: 0.3863 - val_accuracy: 0.9167\n",
      "Epoch 13/100\n",
      "32/32 [==============================] - 2s 63ms/step - loss: 0.4275 - accuracy: 0.8188 - val_loss: 0.3779 - val_accuracy: 0.8500\n",
      "Epoch 14/100\n",
      "32/32 [==============================] - 2s 62ms/step - loss: 0.4025 - accuracy: 0.8375 - val_loss: 0.3083 - val_accuracy: 0.9083\n",
      "Epoch 15/100\n",
      "32/32 [==============================] - 2s 62ms/step - loss: 0.4490 - accuracy: 0.8062 - val_loss: 0.3682 - val_accuracy: 0.8583\n",
      "Epoch 16/100\n",
      "32/32 [==============================] - 2s 63ms/step - loss: 0.3400 - accuracy: 0.8687 - val_loss: 0.2510 - val_accuracy: 0.9250\n",
      "Epoch 17/100\n",
      "32/32 [==============================] - 2s 62ms/step - loss: 0.3144 - accuracy: 0.8500 - val_loss: 0.2222 - val_accuracy: 0.9417\n",
      "Epoch 18/100\n",
      "32/32 [==============================] - 2s 62ms/step - loss: 0.2856 - accuracy: 0.8687 - val_loss: 0.1730 - val_accuracy: 0.9500\n",
      "Epoch 19/100\n",
      "32/32 [==============================] - 2s 62ms/step - loss: 0.2421 - accuracy: 0.9062 - val_loss: 0.1538 - val_accuracy: 0.9417\n",
      "Epoch 20/100\n",
      "32/32 [==============================] - 2s 63ms/step - loss: 0.2000 - accuracy: 0.9312 - val_loss: 0.1232 - val_accuracy: 0.9750\n",
      "Epoch 21/100\n",
      "32/32 [==============================] - 2s 64ms/step - loss: 0.2016 - accuracy: 0.9000 - val_loss: 0.1561 - val_accuracy: 0.9333\n",
      "Epoch 22/100\n",
      "32/32 [==============================] - 2s 60ms/step - loss: 0.1908 - accuracy: 0.9250 - val_loss: 0.1112 - val_accuracy: 0.9667\n",
      "Epoch 23/100\n",
      "32/32 [==============================] - 2s 61ms/step - loss: 0.1608 - accuracy: 0.9375 - val_loss: 0.1018 - val_accuracy: 0.9667\n",
      "Epoch 24/100\n",
      "32/32 [==============================] - 2s 63ms/step - loss: 0.1935 - accuracy: 0.9438 - val_loss: 0.1381 - val_accuracy: 0.9583\n",
      "Epoch 25/100\n",
      "32/32 [==============================] - 2s 63ms/step - loss: 0.1677 - accuracy: 0.9250 - val_loss: 0.1057 - val_accuracy: 0.9667\n",
      "Epoch 26/100\n",
      "32/32 [==============================] - 2s 63ms/step - loss: 0.1802 - accuracy: 0.9250 - val_loss: 0.0967 - val_accuracy: 0.9833\n",
      "Epoch 27/100\n",
      "32/32 [==============================] - 2s 61ms/step - loss: 0.1502 - accuracy: 0.9688 - val_loss: 0.0829 - val_accuracy: 0.9667\n",
      "Epoch 28/100\n",
      "32/32 [==============================] - 2s 62ms/step - loss: 0.1108 - accuracy: 0.9688 - val_loss: 0.0989 - val_accuracy: 0.9750\n",
      "Epoch 29/100\n",
      "32/32 [==============================] - 2s 62ms/step - loss: 0.1346 - accuracy: 0.9625 - val_loss: 0.1109 - val_accuracy: 0.9417\n",
      "Epoch 30/100\n",
      "32/32 [==============================] - 2s 62ms/step - loss: 0.1928 - accuracy: 0.9438 - val_loss: 0.0722 - val_accuracy: 0.9833\n",
      "Epoch 31/100\n",
      "32/32 [==============================] - 2s 63ms/step - loss: 0.1234 - accuracy: 0.9688 - val_loss: 0.0650 - val_accuracy: 0.9833\n",
      "Epoch 32/100\n",
      "32/32 [==============================] - 2s 63ms/step - loss: 0.1029 - accuracy: 0.9750 - val_loss: 0.0713 - val_accuracy: 0.9833\n",
      "Epoch 33/100\n",
      "32/32 [==============================] - 2s 62ms/step - loss: 0.1150 - accuracy: 0.9438 - val_loss: 0.0678 - val_accuracy: 0.9833\n",
      "Epoch 34/100\n",
      "32/32 [==============================] - 2s 64ms/step - loss: 0.1628 - accuracy: 0.9563 - val_loss: 0.1115 - val_accuracy: 0.9500\n",
      "Epoch 35/100\n",
      "32/32 [==============================] - 2s 61ms/step - loss: 0.0873 - accuracy: 0.9688 - val_loss: 0.0535 - val_accuracy: 0.9833\n",
      "Epoch 36/100\n",
      "32/32 [==============================] - 2s 64ms/step - loss: 0.0841 - accuracy: 0.9688 - val_loss: 0.1188 - val_accuracy: 0.9583\n",
      "Epoch 37/100\n",
      "32/32 [==============================] - 2s 62ms/step - loss: 0.1312 - accuracy: 0.9438 - val_loss: 0.0721 - val_accuracy: 0.9750\n",
      "Epoch 38/100\n",
      "32/32 [==============================] - 2s 62ms/step - loss: 0.1272 - accuracy: 0.9625 - val_loss: 0.0659 - val_accuracy: 0.9750\n",
      "Epoch 39/100\n",
      "32/32 [==============================] - 2s 62ms/step - loss: 0.0857 - accuracy: 0.9750 - val_loss: 0.0627 - val_accuracy: 0.9833\n",
      "Epoch 40/100\n",
      "32/32 [==============================] - 2s 63ms/step - loss: 0.1040 - accuracy: 0.9625 - val_loss: 0.0540 - val_accuracy: 0.9833\n"
     ]
    }
   ],
   "source": [
    "history = model.fit(\n",
    "    train_generator, epochs=100,\n",
    "    validation_data=test_generator,\n",
    "    callbacks=[early_stopping]\n",
    ")"
   ]
  },
  {
   "cell_type": "code",
   "execution_count": 9,
   "id": "23ff6179",
   "metadata": {},
   "outputs": [
    {
     "data": {
      "image/png": "[encoded data removed]",
      "text/plain": [
       "<Figure size 640x480 with 1 Axes>"
      ]
     },
     "metadata": {},
     "output_type": "display_data"
    }
   ],
   "source": [
    "y_vloss = history.history['val_loss']\n",
    "y_loss = history.history['loss']\n",
    "\n",
    "# 그래프로 표현해 봅니다.\n",
    "x_len = np.arange(len(y_loss))\n",
    "plt.plot(x_len, y_vloss, marker='.', c=\"red\", label='Testset_loss')\n",
    "plt.plot(x_len, y_loss, marker='.', c=\"blue\", label='Trainset_loss')\n",
    "\n",
    "# 그래프에 그리드를 주고 레이블을 표시하겠습니다.\n",
    "plt.legend(loc='upper right')\n",
    "plt.grid()\n",
    "plt.xlabel('epoch')\n",
    "plt.ylabel('loss')\n",
    "plt.show()"
   ]
  }
 ],
 "metadata": {
  "kernelspec": {
   "display_name": "Python 3 (ipykernel)",
   "language": "python",
   "name": "python3"
  },
  "language_info": {
   "codemirror_mode": {
    "name": "ipython",
    "version": 3
   },
   "file_extension": ".py",
   "mimetype": "text/x-python",
   "name": "python",
   "nbconvert_exporter": "python",
   "pygments_lexer": "ipython3",
   "version": "3.8.15"
  }
 },
 "nbformat": 4,
 "nbformat_minor": 5
}
