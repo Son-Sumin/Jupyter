{
 "cells": [
  {
   "cell_type": "markdown",
   "id": "22d9fc41",
   "metadata": {},
   "source": [
    "# 모두의 딥러닝 개정 3판 \n",
    "## 18장 시퀀스 배열로 다루는 순환 신경망(RNN)"
   ]
  },
  {
   "cell_type": "markdown",
   "id": "acd09f12",
   "metadata": {},
   "source": [
    "**<참고> https://dgkim5360.tistory.com/entry/understanding-long-short-term-memory-lstm-kr**   \n",
    "\n",
    "x 단어\n",
    "t 시간\n",
    "A 인공지능\n",
    "h 출력값\n",
    "\n",
    "최초 t=0\n",
    "1단계 LSTM의 첫 단계로는 cell state로부터 어떤 정보를 버릴 것인지를 정하는 것으로, sigmoid layer에 의해 결정된다. (행렬곱 실시)   \n",
    "2단계 forget gate layer\n",
    "3단계 input gate layer   \n",
    "\n",
    "keras에서 LSTM 제공해줌"
   ]
  },
  {
   "cell_type": "markdown",
   "id": "2803ca47",
   "metadata": {},
   "source": [
    "#다중분류\n"
   ]
  },
  {
   "cell_type": "code",
   "execution_count": 1,
   "id": "9d6a5e37",
   "metadata": {},
   "outputs": [],
   "source": [
    "from tensorflow.keras import models, layers\n",
    "from tensorflow.keras.utils import to_categorical\n",
    "from tensorflow.keras.preprocessing import sequence\n",
    "from tensorflow.keras.datasets import reuters\n",
    "from tensorflow.keras.callbacks import EarlyStopping\n",
    "import numpy as np\n",
    "import matplotlib.pyplot as plt\n",
    "import os\n",
    "os.environ[\"KMP_DUPLICATE_LIB_OK\"]=\"TRUE\""
   ]
  },
  {
   "cell_type": "code",
   "execution_count": 2,
   "id": "9735dc6a",
   "metadata": {},
   "outputs": [],
   "source": [
    "# 학습셋, 테스트셋 분류\n",
    "(X_train, y_train), (X_test, y_test) = \\\n",
    "reuters.load_data(num_words=1000, test_split=0.2)\n",
    "# num_words=1000 :\n",
    "# 단어별 토크나이징 후 이미 숫자화시킨 데이터 중 빈도 수 상위 999번까지 갖고와라(총 999개 존재)"
   ]
  },
  {
   "cell_type": "code",
   "execution_count": 3,
   "id": "5e24e95b",
   "metadata": {},
   "outputs": [
    {
     "name": "stdout",
     "output_type": "stream",
     "text": [
      "46\n",
      "8982\n",
      "2246\n",
      "[1, 2, 2, 8, 43, 10, 447, 5, 25, 207, 270, 5, 2, 111, 16, 369, 186, 90, 67, 7, 89, 5, 19, 102, 6, 19, 124, 15, 90, 67, 84, 22, 482, 26, 7, 48, 4, 49, 8, 864, 39, 209, 154, 6, 151, 6, 83, 11, 15, 22, 155, 11, 15, 7, 48, 9, 2, 2, 504, 6, 258, 6, 272, 11, 15, 22, 134, 44, 11, 15, 16, 8, 197, 2, 90, 67, 52, 29, 209, 30, 32, 132, 6, 109, 15, 17, 12]\n"
     ]
    }
   ],
   "source": [
    "# target(카테고리) 46개\n",
    "print(np.max(y_train) + 1)\n",
    "\n",
    "# 기사 갯수 확인\n",
    "print(len(X_train))\n",
    "print(len(X_test))\n",
    "\n",
    "# 기사 이미 숫자화 완료\n",
    "print(X_train[0])"
   ]
  },
  {
   "cell_type": "code",
   "execution_count": 4,
   "id": "a9190406",
   "metadata": {},
   "outputs": [],
   "source": [
    "# 길이가 다른 기사 내 단어들 맞추기 pad_sequences\n",
    "# maxlen=100은 단어 수를 100개로 맞추라는 의미, 그 이사이면 버림\n",
    "X_train = sequence.pad_sequences(X_train, maxlen=100)\n",
    "X_test = sequence.pad_sequences(X_test, maxlen=100)"
   ]
  },
  {
   "cell_type": "code",
   "execution_count": 5,
   "id": "662b039a",
   "metadata": {},
   "outputs": [
    {
     "name": "stdout",
     "output_type": "stream",
     "text": [
      "[3 4 3 4 4]\n"
     ]
    }
   ],
   "source": [
    "print(y_train[:5])"
   ]
  },
  {
   "cell_type": "code",
   "execution_count": 6,
   "id": "3331792e",
   "metadata": {},
   "outputs": [],
   "source": [
    "# one-hot encoding (데이터 전처리)\n",
    "y_train = to_categorical(y_train)\n",
    "y_test = to_categorical(y_test)"
   ]
  },
  {
   "cell_type": "code",
   "execution_count": 7,
   "id": "c66339aa",
   "metadata": {},
   "outputs": [
    {
     "name": "stdout",
     "output_type": "stream",
     "text": [
      "[[0. 0. 0. 1. 0. 0. 0. 0. 0. 0. 0. 0. 0. 0. 0. 0. 0. 0. 0. 0. 0. 0. 0. 0.\n",
      "  0. 0. 0. 0. 0. 0. 0. 0. 0. 0. 0. 0. 0. 0. 0. 0. 0. 0. 0. 0. 0. 0.]\n",
      " [0. 0. 0. 0. 1. 0. 0. 0. 0. 0. 0. 0. 0. 0. 0. 0. 0. 0. 0. 0. 0. 0. 0. 0.\n",
      "  0. 0. 0. 0. 0. 0. 0. 0. 0. 0. 0. 0. 0. 0. 0. 0. 0. 0. 0. 0. 0. 0.]\n",
      " [0. 0. 0. 1. 0. 0. 0. 0. 0. 0. 0. 0. 0. 0. 0. 0. 0. 0. 0. 0. 0. 0. 0. 0.\n",
      "  0. 0. 0. 0. 0. 0. 0. 0. 0. 0. 0. 0. 0. 0. 0. 0. 0. 0. 0. 0. 0. 0.]\n",
      " [0. 0. 0. 0. 1. 0. 0. 0. 0. 0. 0. 0. 0. 0. 0. 0. 0. 0. 0. 0. 0. 0. 0. 0.\n",
      "  0. 0. 0. 0. 0. 0. 0. 0. 0. 0. 0. 0. 0. 0. 0. 0. 0. 0. 0. 0. 0. 0.]\n",
      " [0. 0. 0. 0. 1. 0. 0. 0. 0. 0. 0. 0. 0. 0. 0. 0. 0. 0. 0. 0. 0. 0. 0. 0.\n",
      "  0. 0. 0. 0. 0. 0. 0. 0. 0. 0. 0. 0. 0. 0. 0. 0. 0. 0. 0. 0. 0. 0.]]\n"
     ]
    }
   ],
   "source": [
    "# one-hot encoding 확인\n",
    "print(y_train[:5])"
   ]
  },
  {
   "cell_type": "code",
   "execution_count": 8,
   "id": "960860f4",
   "metadata": {},
   "outputs": [],
   "source": [
    "# 모델 만들기\n",
    "model = models.Sequential()\n",
    "model.add(layers.Embedding(1000, 100))  # Embedding('불러온 단어의 총수'+1, 100차원으로 만들어라) \n",
    "model.add(layers.LSTM(100, activation='tanh')) # LSTM(기사당 단어 수, 옵션)\n",
    "model.add(layers.Dense(46, activation='softmax'))"
   ]
  },
  {
   "cell_type": "code",
   "execution_count": 9,
   "id": "4d3bed9c",
   "metadata": {},
   "outputs": [
    {
     "name": "stdout",
     "output_type": "stream",
     "text": [
      "Model: \"sequential\"\n",
      "_________________________________________________________________\n",
      " Layer (type)                Output Shape              Param #   \n",
      "=================================================================\n",
      " embedding (Embedding)       (None, None, 100)         100000    \n",
      "                                                                 \n",
      " lstm (LSTM)                 (None, 100)               80400     \n",
      "                                                                 \n",
      " dense (Dense)               (None, 46)                4646      \n",
      "                                                                 \n",
      "=================================================================\n",
      "Total params: 185,046\n",
      "Trainable params: 185,046\n",
      "Non-trainable params: 0\n",
      "_________________________________________________________________\n"
     ]
    }
   ],
   "source": [
    "model. summary()"
   ]
  },
  {
   "cell_type": "markdown",
   "id": "996f49ac",
   "metadata": {},
   "source": [
    "* embedding(1000, 100)   \n",
    "파라미터 = input * output = 1000 * 100\n",
    "***\n",
    "* LSTM 100   \n",
    "  W.shqpe = input * output  ==> (100 + 100) * 100   \n",
    "  B.shqpe = 1 * output      ==> 100\n",
    "\n",
    "  input = 100 + 100 (pre 셀 출력 + this 셀 입력)   \n",
    "  output = 100\n",
    "\n",
    "  1개의 신경망 파라미터 = (100 + 100) * 100 + 100 = 20100   \n",
    "  4개의 신경망 파라미터 = 20100 * 4 = 80400\n",
    "***\n",
    "* Dense 46   \n",
    "  input 100   \n",
    "  weight 100 * 46   \n",
    "  bias 1 * 46   \n",
    "  output 46   \n",
    "  파라미터 = (100 * 46) + (1 * 46) = 4646"
   ]
  },
  {
   "cell_type": "code",
   "execution_count": 10,
   "id": "2540a61f",
   "metadata": {},
   "outputs": [],
   "source": [
    "model.compile(loss='categorical_crossentropy', optimizer='adam', metrics=['accuracy'])\n",
    "early_stopping = EarlyStopping(monitor='val_loss', patience=5)"
   ]
  },
  {
   "cell_type": "code",
   "execution_count": 11,
   "id": "de908885",
   "metadata": {},
   "outputs": [
    {
     "name": "stdout",
     "output_type": "stream",
     "text": [
      "Epoch 1/20\n",
      "450/450 [==============================] - 20s 37ms/step - loss: 2.1806 - accuracy: 0.4502 - val_loss: 2.0043 - val_accuracy: 0.4960\n",
      "Epoch 2/20\n",
      "450/450 [==============================] - 16s 36ms/step - loss: 1.8777 - accuracy: 0.5185 - val_loss: 1.8014 - val_accuracy: 0.5445\n",
      "Epoch 3/20\n",
      "450/450 [==============================] - 19s 43ms/step - loss: 1.7191 - accuracy: 0.5538 - val_loss: 1.7489 - val_accuracy: 0.5463\n",
      "Epoch 4/20\n",
      "450/450 [==============================] - 16s 37ms/step - loss: 1.5709 - accuracy: 0.5910 - val_loss: 1.5188 - val_accuracy: 0.6162\n",
      "Epoch 5/20\n",
      "450/450 [==============================] - 17s 38ms/step - loss: 1.4666 - accuracy: 0.6269 - val_loss: 1.4713 - val_accuracy: 0.6224\n",
      "Epoch 6/20\n",
      "450/450 [==============================] - 17s 38ms/step - loss: 1.3174 - accuracy: 0.6614 - val_loss: 1.3597 - val_accuracy: 0.6576\n",
      "Epoch 7/20\n",
      "450/450 [==============================] - 16s 36ms/step - loss: 1.2126 - accuracy: 0.6928 - val_loss: 1.3325 - val_accuracy: 0.6683\n",
      "Epoch 8/20\n",
      "450/450 [==============================] - 17s 38ms/step - loss: 1.1377 - accuracy: 0.7105 - val_loss: 1.3000 - val_accuracy: 0.6834\n",
      "Epoch 9/20\n",
      "450/450 [==============================] - 18s 40ms/step - loss: 1.0598 - accuracy: 0.7326 - val_loss: 1.1971 - val_accuracy: 0.6959\n",
      "Epoch 10/20\n",
      "450/450 [==============================] - 88s 196ms/step - loss: 0.9819 - accuracy: 0.7479 - val_loss: 1.1795 - val_accuracy: 0.7044\n",
      "Epoch 11/20\n",
      "450/450 [==============================] - 88s 196ms/step - loss: 0.9027 - accuracy: 0.7688 - val_loss: 1.1327 - val_accuracy: 0.7199\n",
      "Epoch 12/20\n",
      "450/450 [==============================] - 84s 187ms/step - loss: 0.8336 - accuracy: 0.7908 - val_loss: 1.1377 - val_accuracy: 0.7208\n",
      "Epoch 13/20\n",
      "450/450 [==============================] - 27s 61ms/step - loss: 0.7766 - accuracy: 0.8043 - val_loss: 1.1270 - val_accuracy: 0.7248\n",
      "Epoch 14/20\n",
      "450/450 [==============================] - 88s 195ms/step - loss: 0.7158 - accuracy: 0.8211 - val_loss: 1.1404 - val_accuracy: 0.7284\n",
      "Epoch 15/20\n",
      "450/450 [==============================] - 120s 267ms/step - loss: 0.6646 - accuracy: 0.8323 - val_loss: 1.1595 - val_accuracy: 0.7364\n",
      "Epoch 16/20\n",
      "450/450 [==============================] - 43s 95ms/step - loss: 0.6112 - accuracy: 0.8446 - val_loss: 1.1763 - val_accuracy: 0.7329\n",
      "Epoch 17/20\n",
      "450/450 [==============================] - 15s 34ms/step - loss: 0.5640 - accuracy: 0.8591 - val_loss: 1.1932 - val_accuracy: 0.7337\n",
      "Epoch 18/20\n",
      "450/450 [==============================] - 15s 33ms/step - loss: 0.5231 - accuracy: 0.8706 - val_loss: 1.2256 - val_accuracy: 0.7266\n"
     ]
    }
   ],
   "source": [
    "# 모델 실행(학습시키기)\n",
    "history = model.fit(X_train, y_train, batch_size=20, epochs=20,\n",
    "                   validation_data=(X_test, y_test), callbacks=[early_stopping])"
   ]
  },
  {
   "cell_type": "code",
   "execution_count": 12,
   "id": "9e3a0a3f",
   "metadata": {},
   "outputs": [
    {
     "name": "stdout",
     "output_type": "stream",
     "text": [
      "71/71 [==============================] - 1s 11ms/step - loss: 1.2256 - accuracy: 0.7266\n",
      "Test Accuracy: 0.7266\n"
     ]
    }
   ],
   "source": [
    "print('Test Accuracy: %.4f' % (model.evaluate(X_test, y_test)[1]))"
   ]
  },
  {
   "cell_type": "code",
   "execution_count": 13,
   "id": "5f687a7d",
   "metadata": {},
   "outputs": [
    {
     "data": {
      "image/png": "[encoded data removed]",
      "text/plain": [
       "<Figure size 640x480 with 1 Axes>"
      ]
     },
     "metadata": {},
     "output_type": "display_data"
    }
   ],
   "source": [
    "y_vloss = history.history['val_loss']\n",
    "y_loss = history.history['loss']\n",
    "\n",
    "# 그래프로 표현해 보겠습니다.\n",
    "x_len = np.arange(len(y_loss))\n",
    "plt.plot(x_len, y_vloss, marker='.', c=\"red\", label='Testset_loss')\n",
    "plt.plot(x_len, y_loss, marker='.', c=\"blue\", label='Trainset_loss')\n",
    "\n",
    "# 그래프에 그리드를 주고 레이블을 표시하겠습니다. \n",
    "plt.legend(loc='upper right')\n",
    "plt.grid()\n",
    "plt.xlabel('epoch')\n",
    "plt.ylabel('loss')\n",
    "plt.show()\n",
    "\n",
    "# epoch 10~11 사이가 적당, 그 이후는 과대적합 우려있음"
   ]
  }
 ],
 "metadata": {
  "kernelspec": {
   "display_name": "Python 3 (ipykernel)",
   "language": "python",
   "name": "python3"
  },
  "language_info": {
   "codemirror_mode": {
    "name": "ipython",
    "version": 3
   },
   "file_extension": ".py",
   "mimetype": "text/x-python",
   "name": "python",
   "nbconvert_exporter": "python",
   "pygments_lexer": "ipython3",
   "version": "3.8.15"
  }
 },
 "nbformat": 4,
 "nbformat_minor": 5
}
