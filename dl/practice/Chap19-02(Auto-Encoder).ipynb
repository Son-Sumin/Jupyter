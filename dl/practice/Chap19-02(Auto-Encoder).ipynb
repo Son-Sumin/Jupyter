{
 "cells": [
  {
   "cell_type": "markdown",
   "id": "41194f17",
   "metadata": {},
   "source": [
    "# 모두의 딥러닝 개정 3판 \n",
    "## 19장 세상에 없는 얼굴 GAN, 오토인코더\n",
    "- **이미지의 특징을 추출하는 오토인코더(Auto-Encoder, AE)**\n",
    "  * GAN이 세상에 존재하지 않는 완전한 가상의 것을 만들어냄   \n",
    "    실존하지 않지만 완전한 가상 이미지 생성\n",
    "  * AE는 입력 데이터의 특징을 효율적으로 담아낸 이미지를 만들어냄\n",
    "    초점이 좀 흐릿하고 윤곽이 불명확하지만 데이터의 특징을 유추할 수 있는 것들이 모아 이미지 생성\n",
    "  * AE 장점: 부족한 학습 데이터 수를 효과적으로 늘려줌"
   ]
  },
  {
   "cell_type": "code",
   "execution_count": 1,
   "id": "dbfe0cb2",
   "metadata": {},
   "outputs": [],
   "source": [
    "from tensorflow.keras.datasets import mnist\n",
    "from tensorflow.keras import models, layers\n",
    "import matplotlib.pyplot as plt\n",
    "import numpy as np\n",
    "import os\n",
    "os.environ[\"KMP_DUPLICATE_LIB_OK\"]=\"TRUE\""
   ]
  },
  {
   "cell_type": "code",
   "execution_count": 2,
   "id": "0b0a9647",
   "metadata": {},
   "outputs": [],
   "source": [
    "# MNIST 데이터셋 불러오기\n",
    "(X_train, _), (X_test, _) = mnist.load_data()\n",
    "X_train = X_train.reshape(X_train.shape[0], 28 ,28, 1).astype(float) / 255\n",
    "X_test = X_test.reshape(X_test.shape[0], 28 ,28, 1).astype(float) / 255"
   ]
  },
  {
   "cell_type": "code",
   "execution_count": 3,
   "id": "d8715e52",
   "metadata": {},
   "outputs": [
    {
     "name": "stdout",
     "output_type": "stream",
     "text": [
      "Model: \"sequential\"\n",
      "_________________________________________________________________\n",
      " Layer (type)                Output Shape              Param #   \n",
      "=================================================================\n",
      " conv2d (Conv2D)             (None, 28, 28, 16)        160       \n",
      "                                                                 \n",
      " max_pooling2d (MaxPooling2D  (None, 14, 14, 16)       0         \n",
      " )                                                               \n",
      "                                                                 \n",
      " conv2d_1 (Conv2D)           (None, 14, 14, 8)         1160      \n",
      "                                                                 \n",
      " max_pooling2d_1 (MaxPooling  (None, 7, 7, 8)          0         \n",
      " 2D)                                                             \n",
      "                                                                 \n",
      " conv2d_2 (Conv2D)           (None, 4, 4, 8)           584       \n",
      "                                                                 \n",
      " conv2d_3 (Conv2D)           (None, 4, 4, 8)           584       \n",
      "                                                                 \n",
      " up_sampling2d (UpSampling2D  (None, 8, 8, 8)          0         \n",
      " )                                                               \n",
      "                                                                 \n",
      " conv2d_4 (Conv2D)           (None, 8, 8, 8)           584       \n",
      "                                                                 \n",
      " up_sampling2d_1 (UpSampling  (None, 16, 16, 8)        0         \n",
      " 2D)                                                             \n",
      "                                                                 \n",
      " conv2d_5 (Conv2D)           (None, 14, 14, 16)        1168      \n",
      "                                                                 \n",
      " up_sampling2d_2 (UpSampling  (None, 28, 28, 16)       0         \n",
      " 2D)                                                             \n",
      "                                                                 \n",
      " conv2d_6 (Conv2D)           (None, 28, 28, 1)         145       \n",
      "                                                                 \n",
      "=================================================================\n",
      "Total params: 4,385\n",
      "Trainable params: 4,385\n",
      "Non-trainable params: 0\n",
      "_________________________________________________________________\n"
     ]
    }
   ],
   "source": [
    "# 생성자 모델 만들기\n",
    "autoencoder = models.Sequential()\n",
    "\n",
    "# 인코딩 부분 (차원 축소)\n",
    "autoencoder.add(layers.Conv2D(16, kernel_size=3, padding='same',\n",
    "                             input_shape=(28, 28, 1), activation='relu'))\n",
    "autoencoder.add(layers.MaxPooling2D(pool_size=2, padding='same'))\n",
    "autoencoder.add(layers.Conv2D(8, kernel_size=3, padding='same', activation='relu'))\n",
    "autoencoder.add(layers.MaxPooling2D(pool_size=2, padding='same'))\n",
    "autoencoder.add(layers.Conv2D(8, kernel_size=3, padding='same', activation='relu', strides=2))\n",
    "# MaxPooling2D : 특징만 갖고 크기 줄이기\n",
    "# Conv2D : 학습할 파라미터를 가지고 연산함\n",
    "\n",
    "\n",
    "# 디코딩 부분  (차원 확장)\n",
    "autoencoder.add(layers.Conv2D(8, kernel_size=3, padding='same', activation='relu'))\n",
    "autoencoder.add(layers.UpSampling2D())\n",
    "autoencoder.add(layers.Conv2D(8, kernel_size=3, padding='same', activation='relu'))\n",
    "autoencoder.add(layers.UpSampling2D())\n",
    "autoencoder.add(layers.Conv2D(16, kernel_size=3, activation='relu'))\n",
    "autoencoder.add(layers.UpSampling2D())\n",
    "autoencoder.add(layers.Conv2D(1, kernel_size=3, padding='same', activation='sigmoid'))\n",
    "\n",
    "# 모델 구조 확인\n",
    "# input_shape의 크기 집중\n",
    "autoencoder.summary()"
   ]
  },
  {
   "cell_type": "code",
   "execution_count": 4,
   "id": "a541cd73",
   "metadata": {},
   "outputs": [
    {
     "name": "stdout",
     "output_type": "stream",
     "text": [
      "Epoch 1/50\n",
      "469/469 [==============================] - 89s 188ms/step - loss: 0.2192 - val_loss: 0.1340\n",
      "Epoch 2/50\n",
      "469/469 [==============================] - 88s 188ms/step - loss: 0.1246 - val_loss: 0.1164\n",
      "Epoch 3/50\n",
      "469/469 [==============================] - 88s 188ms/step - loss: 0.1138 - val_loss: 0.1090\n",
      "Epoch 4/50\n",
      "469/469 [==============================] - 90s 192ms/step - loss: 0.1080 - val_loss: 0.1045\n",
      "Epoch 5/50\n",
      "469/469 [==============================] - 90s 191ms/step - loss: 0.1039 - val_loss: 0.1007\n",
      "Epoch 6/50\n",
      "469/469 [==============================] - 88s 187ms/step - loss: 0.1007 - val_loss: 0.0983\n",
      "Epoch 7/50\n",
      "469/469 [==============================] - 90s 191ms/step - loss: 0.0982 - val_loss: 0.0958\n",
      "Epoch 8/50\n",
      "469/469 [==============================] - 89s 189ms/step - loss: 0.0963 - val_loss: 0.0944\n",
      "Epoch 9/50\n",
      "469/469 [==============================] - 89s 191ms/step - loss: 0.0949 - val_loss: 0.0934\n",
      "Epoch 10/50\n",
      "469/469 [==============================] - 90s 192ms/step - loss: 0.0937 - val_loss: 0.0919\n",
      "Epoch 11/50\n",
      "469/469 [==============================] - 92s 196ms/step - loss: 0.0927 - val_loss: 0.0910\n",
      "Epoch 12/50\n",
      "469/469 [==============================] - 89s 190ms/step - loss: 0.0920 - val_loss: 0.0906\n",
      "Epoch 13/50\n",
      "469/469 [==============================] - 90s 192ms/step - loss: 0.0913 - val_loss: 0.0900\n",
      "Epoch 14/50\n",
      "469/469 [==============================] - 89s 190ms/step - loss: 0.0908 - val_loss: 0.0899\n",
      "Epoch 15/50\n",
      "469/469 [==============================] - 90s 191ms/step - loss: 0.0902 - val_loss: 0.0886\n",
      "Epoch 16/50\n",
      "469/469 [==============================] - 89s 190ms/step - loss: 0.0898 - val_loss: 0.0885\n",
      "Epoch 17/50\n",
      "469/469 [==============================] - 88s 188ms/step - loss: 0.0893 - val_loss: 0.0877\n",
      "Epoch 18/50\n",
      "469/469 [==============================] - 88s 188ms/step - loss: 0.0889 - val_loss: 0.0876\n",
      "Epoch 19/50\n",
      "469/469 [==============================] - 87s 186ms/step - loss: 0.0885 - val_loss: 0.0872\n",
      "Epoch 20/50\n",
      "469/469 [==============================] - 88s 187ms/step - loss: 0.0882 - val_loss: 0.0866\n",
      "Epoch 21/50\n",
      "469/469 [==============================] - 90s 192ms/step - loss: 0.0879 - val_loss: 0.0865\n",
      "Epoch 22/50\n",
      "469/469 [==============================] - 91s 195ms/step - loss: 0.0875 - val_loss: 0.0863\n",
      "Epoch 23/50\n",
      "469/469 [==============================] - 95s 203ms/step - loss: 0.0873 - val_loss: 0.0860\n",
      "Epoch 24/50\n",
      "469/469 [==============================] - 93s 197ms/step - loss: 0.0870 - val_loss: 0.0859\n",
      "Epoch 25/50\n",
      "469/469 [==============================] - 91s 193ms/step - loss: 0.0867 - val_loss: 0.0857\n",
      "Epoch 26/50\n",
      "469/469 [==============================] - 84s 179ms/step - loss: 0.0865 - val_loss: 0.0852\n",
      "Epoch 27/50\n",
      "469/469 [==============================] - 93s 198ms/step - loss: 0.0863 - val_loss: 0.0849\n",
      "Epoch 28/50\n",
      "469/469 [==============================] - 93s 199ms/step - loss: 0.0860 - val_loss: 0.0851\n",
      "Epoch 29/50\n",
      "469/469 [==============================] - 94s 200ms/step - loss: 0.0858 - val_loss: 0.0857\n",
      "Epoch 30/50\n",
      "469/469 [==============================] - 93s 199ms/step - loss: 0.0856 - val_loss: 0.0846\n",
      "Epoch 31/50\n",
      "469/469 [==============================] - 92s 195ms/step - loss: 0.0855 - val_loss: 0.0844\n",
      "Epoch 32/50\n",
      "469/469 [==============================] - 91s 195ms/step - loss: 0.0853 - val_loss: 0.0842\n",
      "Epoch 33/50\n",
      "469/469 [==============================] - 91s 194ms/step - loss: 0.0851 - val_loss: 0.0844\n",
      "Epoch 34/50\n",
      "469/469 [==============================] - 88s 188ms/step - loss: 0.0849 - val_loss: 0.0837\n",
      "Epoch 35/50\n",
      "469/469 [==============================] - 87s 185ms/step - loss: 0.0847 - val_loss: 0.0839\n",
      "Epoch 36/50\n",
      "469/469 [==============================] - 89s 191ms/step - loss: 0.0845 - val_loss: 0.0833\n",
      "Epoch 37/50\n",
      "469/469 [==============================] - 91s 194ms/step - loss: 0.0844 - val_loss: 0.0833\n",
      "Epoch 38/50\n",
      "469/469 [==============================] - 89s 189ms/step - loss: 0.0842 - val_loss: 0.0830\n",
      "Epoch 39/50\n",
      "469/469 [==============================] - 90s 191ms/step - loss: 0.0841 - val_loss: 0.0831\n",
      "Epoch 40/50\n",
      "469/469 [==============================] - 92s 196ms/step - loss: 0.0839 - val_loss: 0.0828\n",
      "Epoch 41/50\n",
      "469/469 [==============================] - 89s 191ms/step - loss: 0.0838 - val_loss: 0.0826\n",
      "Epoch 42/50\n",
      "469/469 [==============================] - 91s 195ms/step - loss: 0.0836 - val_loss: 0.0824\n",
      "Epoch 43/50\n",
      "469/469 [==============================] - 90s 192ms/step - loss: 0.0835 - val_loss: 0.0823\n",
      "Epoch 44/50\n",
      "469/469 [==============================] - 89s 189ms/step - loss: 0.0834 - val_loss: 0.0822\n",
      "Epoch 45/50\n",
      "469/469 [==============================] - 93s 199ms/step - loss: 0.0833 - val_loss: 0.0822\n",
      "Epoch 46/50\n",
      "469/469 [==============================] - 95s 202ms/step - loss: 0.0832 - val_loss: 0.0820\n",
      "Epoch 47/50\n",
      "469/469 [==============================] - 93s 198ms/step - loss: 0.0830 - val_loss: 0.0819\n",
      "Epoch 48/50\n",
      "469/469 [==============================] - 87s 185ms/step - loss: 0.0829 - val_loss: 0.0818\n",
      "Epoch 49/50\n",
      "469/469 [==============================] - 90s 192ms/step - loss: 0.0828 - val_loss: 0.0816\n",
      "Epoch 50/50\n",
      "469/469 [==============================] - 88s 189ms/step - loss: 0.0826 - val_loss: 0.0815\n"
     ]
    },
    {
     "data": {
      "text/plain": [
       "<keras.callbacks.History at 0x1bbdd509880>"
      ]
     },
     "execution_count": 4,
     "metadata": {},
     "output_type": "execute_result"
    }
   ],
   "source": [
    "# 컴파일 및 학습\n",
    "autoencoder.compile(loss='binary_crossentropy', optimizer='adam')\n",
    "autoencoder.fit(X_train, X_train, epochs=50, batch_size=128,\n",
    "               validation_data=(X_test, X_test))\n",
    "# X_train(입력값, 원데이터), X_train(target, autoencoder 과정을 지난 출력값)"
   ]
  },
  {
   "cell_type": "code",
   "execution_count": 5,
   "id": "5475c122",
   "metadata": {
    "scrolled": true
   },
   "outputs": [
    {
     "name": "stdout",
     "output_type": "stream",
     "text": [
      "313/313 [==============================] - 1s 3ms/step\n"
     ]
    },
    {
     "data": {
      "image/png": "[encoded data removed]",
      "text/plain": [
       "<Figure size 700x200 with 10 Axes>"
      ]
     },
     "metadata": {},
     "output_type": "display_data"
    }
   ],
   "source": [
    "# 학습된 결과를 출력\n",
    "\n",
    "random_test = np.random.randint(X_test.shape[0], size=5)  # 테스트할 이미지를 랜덤하게 불러옵니다.\n",
    "ae_imgs = autoencoder.predict(X_test)                     # 위 오토인코더 모델에 집어 넣습니다.\n",
    "# 정답 이미지\n",
    "\n",
    "plt.figure(figsize=(7, 2))                         # 출력될 이미지의 크기 정하기\n",
    "\n",
    "for i, image_idx in enumerate(random_test):       # 랜덤하게 뽑은 이미지를 차례로 나열\n",
    "   ax = plt.subplot(2, 7, i+1) \n",
    "   plt.imshow(X_test[image_idx].reshape(28, 28))   # 테스트할 이미지(원본 이미지)\n",
    "   ax.axis('off')\n",
    "   ax = plt.subplot(2, 7, 7+i+1)\n",
    "   plt.imshow(ae_imgs[image_idx].reshape(28, 28)) # 오토인코딩 결과를 다음열에 출력\n",
    "   ax.axis('off')\n",
    "plt.show()"
   ]
  }
 ],
 "metadata": {
  "kernelspec": {
   "display_name": "Python 3 (ipykernel)",
   "language": "python",
   "name": "python3"
  },
  "language_info": {
   "codemirror_mode": {
    "name": "ipython",
    "version": 3
   },
   "file_extension": ".py",
   "mimetype": "text/x-python",
   "name": "python",
   "nbconvert_exporter": "python",
   "pygments_lexer": "ipython3",
   "version": "3.8.15"
  }
 },
 "nbformat": 4,
 "nbformat_minor": 5
}
