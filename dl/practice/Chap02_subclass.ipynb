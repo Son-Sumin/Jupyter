{
 "cells": [
  {
   "cell_type": "markdown",
   "id": "dd9f8a20",
   "metadata": {},
   "source": [
    "### SubClassing"
   ]
  },
  {
   "cell_type": "code",
   "execution_count": 1,
   "id": "0bc2cb65",
   "metadata": {},
   "outputs": [],
   "source": [
    "from tensorflow.keras import models, layers\n",
    "import numpy as np"
   ]
  },
  {
   "cell_type": "code",
   "execution_count": 2,
   "id": "a11e9db4",
   "metadata": {},
   "outputs": [],
   "source": [
    "data_set = np.loadtxt('data/ThoraricSurgery3.csv', delimiter=',')  # delimiter:구분자\n",
    "X = data_set[:, :16]  # : 모든 행  # trainset\n",
    "y = data_set[:, 16]   # testset"
   ]
  },
  {
   "cell_type": "code",
   "execution_count": 3,
   "id": "f5aae75e",
   "metadata": {},
   "outputs": [],
   "source": [
    "model_name = 'thoraric_surgery'\n",
    "batch_size = 16\n",
    "params = {\n",
    "    'model_name': model_name,\n",
    "    'input_dim': 16,\n",
    "    'hidden_dim': 30,\n",
    "    'output_dim': 1\n",
    "}"
   ]
  },
  {
   "cell_type": "code",
   "execution_count": 4,
   "id": "dbec2d1c",
   "metadata": {},
   "outputs": [],
   "source": [
    "import tensorflow as tf\n",
    "class ThoraricSurgery(tf.keras.Model):\n",
    "    def __init__(self, **kargs):\n",
    "        super(ThoraricSurgery, self).__init__(name=kargs['model_name'])\n",
    "        self.fc1 = layers.Dense(kargs['hidden_dim'], input_dim=kargs['input_dim'],\n",
    "                               activation='relu')\n",
    "        self.fc2 = layers.Dense(kargs['output_dim'], activation='sigmoid')\n",
    "        \n",
    "    def call(self, x):\n",
    "        x = self.fc1(x)\n",
    "        x = self.fc2(x)\n",
    "        return x"
   ]
  },
  {
   "cell_type": "code",
   "execution_count": 5,
   "id": "e8142917",
   "metadata": {},
   "outputs": [],
   "source": [
    "model = ThoraricSurgery(**params)"
   ]
  },
  {
   "cell_type": "code",
   "execution_count": 6,
   "id": "e89c1841",
   "metadata": {},
   "outputs": [],
   "source": [
    "model.compile(loss='binary_crossentropy', optimizer='adam', metrics=['accuracy'])"
   ]
  },
  {
   "cell_type": "code",
   "execution_count": 7,
   "id": "e339ea98",
   "metadata": {},
   "outputs": [
    {
     "name": "stdout",
     "output_type": "stream",
     "text": [
      "Epoch 1/5\n",
      "30/30 [==============================] - 1s 2ms/step - loss: 6.3478 - accuracy: 0.1745\n",
      "Epoch 2/5\n",
      "30/30 [==============================] - 0s 1ms/step - loss: 0.6548 - accuracy: 0.7319\n",
      "Epoch 3/5\n",
      "30/30 [==============================] - 0s 1ms/step - loss: 0.5012 - accuracy: 0.8511\n",
      "Epoch 4/5\n",
      "30/30 [==============================] - 0s 1ms/step - loss: 0.4559 - accuracy: 0.8511\n",
      "Epoch 5/5\n",
      "30/30 [==============================] - 0s 1ms/step - loss: 0.4493 - accuracy: 0.8511\n"
     ]
    }
   ],
   "source": [
    "history = model.fit(X, y, epochs=5, batch_size=batch_size)"
   ]
  },
  {
   "cell_type": "code",
   "execution_count": null,
   "id": "f71fe8ff",
   "metadata": {},
   "outputs": [],
   "source": []
  }
 ],
 "metadata": {
  "kernelspec": {
   "display_name": "Python 3 (ipykernel)",
   "language": "python",
   "name": "python3"
  },
  "language_info": {
   "codemirror_mode": {
    "name": "ipython",
    "version": 3
   },
   "file_extension": ".py",
   "mimetype": "text/x-python",
   "name": "python",
   "nbconvert_exporter": "python",
   "pygments_lexer": "ipython3",
   "version": "3.8.15"
  }
 },
 "nbformat": 4,
 "nbformat_minor": 5
}
