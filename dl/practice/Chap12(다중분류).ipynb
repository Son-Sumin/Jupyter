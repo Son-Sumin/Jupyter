{
 "cells": [
  {
   "cell_type": "markdown",
   "id": "c21096f7",
   "metadata": {},
   "source": [
    "# 모두의 딥러닝 개정 3판 \n",
    "## 12장 다중 분류 문제 해결하기"
   ]
  },
  {
   "cell_type": "code",
   "execution_count": 1,
   "id": "66d267da",
   "metadata": {},
   "outputs": [],
   "source": [
    "import pandas as pd"
   ]
  },
  {
   "cell_type": "code",
   "execution_count": 2,
   "id": "34de4b90",
   "metadata": {},
   "outputs": [
    {
     "data": {
      "text/html": [
       "<div>\n",
       "<style scoped>\n",
       "    .dataframe tbody tr th:only-of-type {\n",
       "        vertical-align: middle;\n",
       "    }\n",
       "\n",
       "    .dataframe tbody tr th {\n",
       "        vertical-align: top;\n",
       "    }\n",
       "\n",
       "    .dataframe thead th {\n",
       "        text-align: right;\n",
       "    }\n",
       "</style>\n",
       "<table border=\"1\" class=\"dataframe\">\n",
       "  <thead>\n",
       "    <tr style=\"text-align: right;\">\n",
       "      <th></th>\n",
       "      <th>sepal_length</th>\n",
       "      <th>sepal_width</th>\n",
       "      <th>petal_length</th>\n",
       "      <th>petal_width</th>\n",
       "      <th>species</th>\n",
       "    </tr>\n",
       "  </thead>\n",
       "  <tbody>\n",
       "    <tr>\n",
       "      <th>0</th>\n",
       "      <td>5.1</td>\n",
       "      <td>3.5</td>\n",
       "      <td>1.4</td>\n",
       "      <td>0.2</td>\n",
       "      <td>Iris-setosa</td>\n",
       "    </tr>\n",
       "    <tr>\n",
       "      <th>1</th>\n",
       "      <td>4.9</td>\n",
       "      <td>3.0</td>\n",
       "      <td>1.4</td>\n",
       "      <td>0.2</td>\n",
       "      <td>Iris-setosa</td>\n",
       "    </tr>\n",
       "    <tr>\n",
       "      <th>2</th>\n",
       "      <td>4.7</td>\n",
       "      <td>3.2</td>\n",
       "      <td>1.3</td>\n",
       "      <td>0.2</td>\n",
       "      <td>Iris-setosa</td>\n",
       "    </tr>\n",
       "    <tr>\n",
       "      <th>3</th>\n",
       "      <td>4.6</td>\n",
       "      <td>3.1</td>\n",
       "      <td>1.5</td>\n",
       "      <td>0.2</td>\n",
       "      <td>Iris-setosa</td>\n",
       "    </tr>\n",
       "    <tr>\n",
       "      <th>4</th>\n",
       "      <td>5.0</td>\n",
       "      <td>3.6</td>\n",
       "      <td>1.4</td>\n",
       "      <td>0.2</td>\n",
       "      <td>Iris-setosa</td>\n",
       "    </tr>\n",
       "  </tbody>\n",
       "</table>\n",
       "</div>"
      ],
      "text/plain": [
       "   sepal_length  sepal_width  petal_length  petal_width      species\n",
       "0           5.1          3.5           1.4          0.2  Iris-setosa\n",
       "1           4.9          3.0           1.4          0.2  Iris-setosa\n",
       "2           4.7          3.2           1.3          0.2  Iris-setosa\n",
       "3           4.6          3.1           1.5          0.2  Iris-setosa\n",
       "4           5.0          3.6           1.4          0.2  Iris-setosa"
      ]
     },
     "execution_count": 2,
     "metadata": {},
     "output_type": "execute_result"
    }
   ],
   "source": [
    "# 다중분류\n",
    "# 입력 feature 4개, target 1개\n",
    "df = pd.read_csv('data/iris3.csv')\n",
    "df.head()"
   ]
  },
  {
   "cell_type": "code",
   "execution_count": 15,
   "id": "ec45e3c7",
   "metadata": {},
   "outputs": [],
   "source": [
    "X = df.iloc[:, :4]\n",
    "y = df.iloc[:, 4]"
   ]
  },
  {
   "cell_type": "code",
   "execution_count": 16,
   "id": "9ad9e698",
   "metadata": {},
   "outputs": [
    {
     "name": "stdout",
     "output_type": "stream",
     "text": [
      "   sepal_length  sepal_width  petal_length  petal_width\n",
      "0           5.1          3.5           1.4          0.2\n",
      "1           4.9          3.0           1.4          0.2\n",
      "2           4.7          3.2           1.3          0.2\n",
      "3           4.6          3.1           1.5          0.2\n",
      "4           5.0          3.6           1.4          0.2\n",
      "0    Iris-setosa\n",
      "1    Iris-setosa\n",
      "2    Iris-setosa\n",
      "3    Iris-setosa\n",
      "4    Iris-setosa\n",
      "Name: species, dtype: object\n"
     ]
    }
   ],
   "source": [
    "print(X[:5])\n",
    "print(y[:5])"
   ]
  },
  {
   "cell_type": "code",
   "execution_count": 6,
   "id": "16c24031",
   "metadata": {},
   "outputs": [
    {
     "name": "stdout",
     "output_type": "stream",
     "text": [
      "140    Iris-virginica\n",
      "141    Iris-virginica\n",
      "142    Iris-virginica\n",
      "143    Iris-virginica\n",
      "144    Iris-virginica\n",
      "145    Iris-virginica\n",
      "146    Iris-virginica\n",
      "147    Iris-virginica\n",
      "148    Iris-virginica\n",
      "149    Iris-virginica\n",
      "Name: species, dtype: object\n"
     ]
    }
   ],
   "source": [
    "print(y[-10:])  # 뒤에서부터 10개"
   ]
  },
  {
   "cell_type": "code",
   "execution_count": 7,
   "id": "b0ad920f",
   "metadata": {},
   "outputs": [
    {
     "name": "stdout",
     "output_type": "stream",
     "text": [
      "<class 'pandas.core.frame.DataFrame'>\n",
      "RangeIndex: 150 entries, 0 to 149\n",
      "Data columns (total 5 columns):\n",
      " #   Column        Non-Null Count  Dtype  \n",
      "---  ------        --------------  -----  \n",
      " 0   sepal_length  150 non-null    float64\n",
      " 1   sepal_width   150 non-null    float64\n",
      " 2   petal_length  150 non-null    float64\n",
      " 3   petal_width   150 non-null    float64\n",
      " 4   species       150 non-null    object \n",
      "dtypes: float64(4), object(1)\n",
      "memory usage: 6.0+ KB\n"
     ]
    }
   ],
   "source": [
    "df.info()"
   ]
  },
  {
   "cell_type": "markdown",
   "id": "c7b95a38",
   "metadata": {},
   "source": [
    "### 원핫 인코딩(one-hot encoding)\n",
    "- 여러 개의 값으로 된 문자열을 0과 1로만 이루어진 형태로 만들어 주는 과정\n",
    "- 3차원 one-hot encoding으로 data conversion by get_dummies() from Pandas"
   ]
  },
  {
   "cell_type": "code",
   "execution_count": 8,
   "id": "19053c27",
   "metadata": {},
   "outputs": [
    {
     "name": "stdout",
     "output_type": "stream",
     "text": [
      "   Iris-setosa  Iris-versicolor  Iris-virginica\n",
      "0            1                0               0\n",
      "1            1                0               0\n",
      "2            1                0               0\n",
      "3            1                0               0\n",
      "4            1                0               0\n",
      "5            1                0               0\n",
      "6            1                0               0\n",
      "7            1                0               0\n",
      "8            1                0               0\n",
      "9            1                0               0\n"
     ]
    }
   ],
   "source": [
    "y = pd.get_dummies(y)\n",
    "print(y[:10])"
   ]
  },
  {
   "cell_type": "code",
   "execution_count": 9,
   "id": "346ecc8d",
   "metadata": {},
   "outputs": [],
   "source": [
    "from tensorflow.keras import models, layers"
   ]
  },
  {
   "cell_type": "code",
   "execution_count": 10,
   "id": "a4c5937e",
   "metadata": {},
   "outputs": [],
   "source": [
    "model = models.Sequential()\n",
    "model.add(layers.Dense(12, input_dim=4, activation='relu'))\n",
    "model.add(layers.Dense(8, activation='relu'))\n",
    "model.add(layers.Dense(3, activation='softmax'))  # 3차원이니까 3"
   ]
  },
  {
   "cell_type": "markdown",
   "id": "a6aa7b4f",
   "metadata": {},
   "source": [
    "입력층 weight 4 12   \n",
    "입력층 bias 1 12\n",
    "\n",
    "은닉층 weight 12 8   \n",
    "은닉층 bias 1 8\n",
    "\n",
    "출력층 weight 8 3   \n",
    "출력층 bias 1 3   \n",
    "param 191 (60+104+27)"
   ]
  },
  {
   "cell_type": "code",
   "execution_count": 11,
   "id": "2d50582a",
   "metadata": {},
   "outputs": [
    {
     "name": "stdout",
     "output_type": "stream",
     "text": [
      "Model: \"sequential\"\n",
      "_________________________________________________________________\n",
      " Layer (type)                Output Shape              Param #   \n",
      "=================================================================\n",
      " dense (Dense)               (None, 12)                60        \n",
      "                                                                 \n",
      " dense_1 (Dense)             (None, 8)                 104       \n",
      "                                                                 \n",
      " dense_2 (Dense)             (None, 3)                 27        \n",
      "                                                                 \n",
      "=================================================================\n",
      "Total params: 191\n",
      "Trainable params: 191\n",
      "Non-trainable params: 0\n",
      "_________________________________________________________________\n"
     ]
    }
   ],
   "source": [
    "model.summary()"
   ]
  },
  {
   "cell_type": "code",
   "execution_count": 12,
   "id": "7dc60a35",
   "metadata": {},
   "outputs": [],
   "source": [
    "# 다중분류를 위한 손실함수\n",
    "model.compile(loss='categorical_crossentropy', optimizer='adam', metrics=['accuracy'])"
   ]
  },
  {
   "cell_type": "code",
   "execution_count": 13,
   "id": "7836dfab",
   "metadata": {},
   "outputs": [
    {
     "name": "stdout",
     "output_type": "stream",
     "text": [
      "Epoch 1/30\n",
      "30/30 [==============================] - 1s 1ms/step - loss: 0.9430 - accuracy: 0.3333\n",
      "Epoch 2/30\n",
      "30/30 [==============================] - 0s 1ms/step - loss: 0.9125 - accuracy: 0.3600\n",
      "Epoch 3/30\n",
      "30/30 [==============================] - 0s 1ms/step - loss: 0.8611 - accuracy: 0.6667\n",
      "Epoch 4/30\n",
      "30/30 [==============================] - 0s 1ms/step - loss: 0.7820 - accuracy: 0.6733\n",
      "Epoch 5/30\n",
      "30/30 [==============================] - 0s 1ms/step - loss: 0.7100 - accuracy: 0.6800\n",
      "Epoch 6/30\n",
      "30/30 [==============================] - 0s 1ms/step - loss: 0.6473 - accuracy: 0.6800\n",
      "Epoch 7/30\n",
      "30/30 [==============================] - 0s 1ms/step - loss: 0.5789 - accuracy: 0.7133\n",
      "Epoch 8/30\n",
      "30/30 [==============================] - 0s 1ms/step - loss: 0.5168 - accuracy: 0.8267\n",
      "Epoch 9/30\n",
      "30/30 [==============================] - 0s 1ms/step - loss: 0.4578 - accuracy: 0.8600\n",
      "Epoch 10/30\n",
      "30/30 [==============================] - 0s 1ms/step - loss: 0.4196 - accuracy: 0.9333\n",
      "Epoch 11/30\n",
      "30/30 [==============================] - 0s 1ms/step - loss: 0.3829 - accuracy: 0.9067\n",
      "Epoch 12/30\n",
      "30/30 [==============================] - 0s 1ms/step - loss: 0.3517 - accuracy: 0.9600\n",
      "Epoch 13/30\n",
      "30/30 [==============================] - 0s 1ms/step - loss: 0.3288 - accuracy: 0.9400\n",
      "Epoch 14/30\n",
      "30/30 [==============================] - 0s 1ms/step - loss: 0.3067 - accuracy: 0.9733\n",
      "Epoch 15/30\n",
      "30/30 [==============================] - 0s 1ms/step - loss: 0.2912 - accuracy: 0.9533\n",
      "Epoch 16/30\n",
      "30/30 [==============================] - 0s 1ms/step - loss: 0.2764 - accuracy: 0.9600\n",
      "Epoch 17/30\n",
      "30/30 [==============================] - 0s 1ms/step - loss: 0.2586 - accuracy: 0.9667\n",
      "Epoch 18/30\n",
      "30/30 [==============================] - 0s 1ms/step - loss: 0.2471 - accuracy: 0.9800\n",
      "Epoch 19/30\n",
      "30/30 [==============================] - 0s 1ms/step - loss: 0.2378 - accuracy: 0.9600\n",
      "Epoch 20/30\n",
      "30/30 [==============================] - 0s 1ms/step - loss: 0.2272 - accuracy: 0.9733\n",
      "Epoch 21/30\n",
      "30/30 [==============================] - 0s 1ms/step - loss: 0.2145 - accuracy: 0.9667\n",
      "Epoch 22/30\n",
      "30/30 [==============================] - 0s 1ms/step - loss: 0.2029 - accuracy: 0.9733\n",
      "Epoch 23/30\n",
      "30/30 [==============================] - 0s 1ms/step - loss: 0.1924 - accuracy: 0.9667\n",
      "Epoch 24/30\n",
      "30/30 [==============================] - 0s 1ms/step - loss: 0.1859 - accuracy: 0.9800\n",
      "Epoch 25/30\n",
      "30/30 [==============================] - 0s 1ms/step - loss: 0.1787 - accuracy: 0.9600\n",
      "Epoch 26/30\n",
      "30/30 [==============================] - 0s 1ms/step - loss: 0.1800 - accuracy: 0.9733\n",
      "Epoch 27/30\n",
      "30/30 [==============================] - 0s 1ms/step - loss: 0.1648 - accuracy: 0.9733\n",
      "Epoch 28/30\n",
      "30/30 [==============================] - 0s 1ms/step - loss: 0.1618 - accuracy: 0.9667\n",
      "Epoch 29/30\n",
      "30/30 [==============================] - 0s 1ms/step - loss: 0.1522 - accuracy: 0.9800\n",
      "Epoch 30/30\n",
      "30/30 [==============================] - 0s 1ms/step - loss: 0.1458 - accuracy: 0.9733\n"
     ]
    }
   ],
   "source": [
    "history = model.fit(X, y, epochs=30, batch_size=5)\n",
    "# df.info() 결과상 RangeIndex: 150 \n",
    "# 한 epoch당 30번 파라미터 갱신"
   ]
  }
 ],
 "metadata": {
  "kernelspec": {
   "display_name": "Python 3 (ipykernel)",
   "language": "python",
   "name": "python3"
  },
  "language_info": {
   "codemirror_mode": {
    "name": "ipython",
    "version": 3
   },
   "file_extension": ".py",
   "mimetype": "text/x-python",
   "name": "python",
   "nbconvert_exporter": "python",
   "pygments_lexer": "ipython3",
   "version": "3.8.15"
  }
 },
 "nbformat": 4,
 "nbformat_minor": 5
}
