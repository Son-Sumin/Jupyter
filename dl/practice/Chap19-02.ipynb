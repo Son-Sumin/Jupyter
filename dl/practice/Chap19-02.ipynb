{
 "cells": [
  {
   "cell_type": "markdown",
   "id": "5ceafbca",
   "metadata": {},
   "source": [
    "# 모두의 딥러닝 개정 3판 \n",
    "## 19장 세상에 없는 얼굴 GAN, 오토인코더\n",
    "- 4.  이미지의 특징을 추출하는 오토인코더"
   ]
  },
  {
   "cell_type": "code",
   "execution_count": null,
   "id": "ba6cdccb",
   "metadata": {},
   "outputs": [],
   "source": []
  }
 ],
 "metadata": {
  "kernelspec": {
   "display_name": "Python 3 (ipykernel)",
   "language": "python",
   "name": "python3"
  },
  "language_info": {
   "codemirror_mode": {
    "name": "ipython",
    "version": 3
   },
   "file_extension": ".py",
   "mimetype": "text/x-python",
   "name": "python",
   "nbconvert_exporter": "python",
   "pygments_lexer": "ipython3",
   "version": "3.8.15"
  }
 },
 "nbformat": 4,
 "nbformat_minor": 5
}
