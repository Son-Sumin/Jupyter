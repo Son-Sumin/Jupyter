{
 "cells": [
  {
   "cell_type": "markdown",
   "id": "cc0ab8cd",
   "metadata": {},
   "source": [
    "# 모두의 딥러닝 개정 3판 \n",
    "## 19장 세상에 없는 얼굴 GAN, 오토인코더\n",
    "- 생성적 적대 신경망(Generative Adversarial Networks, GAN(간))"
   ]
  },
  {
   "cell_type": "code",
   "execution_count": 1,
   "id": "dd830681",
   "metadata": {},
   "outputs": [],
   "source": [
    "from tensorflow.keras.datasets import mnist\n",
    "from tensorflow.keras import models, layers\n",
    "import numpy as np\n",
    "import os\n",
    "os.environ[\"KMP_DUPLICATE_LIB_OK\"]=\"TRUE\""
   ]
  },
  {
   "cell_type": "code",
   "execution_count": 2,
   "id": "284f2a05",
   "metadata": {},
   "outputs": [
    {
     "name": "stdout",
     "output_type": "stream",
     "text": [
      "Model: \"sequential\"\n",
      "_________________________________________________________________\n",
      " Layer (type)                Output Shape              Param #   \n",
      "=================================================================\n",
      " dense (Dense)               (None, 6272)              633472    \n",
      "                                                                 \n",
      " batch_normalization (BatchN  (None, 6272)             25088     \n",
      " ormalization)                                                   \n",
      "                                                                 \n",
      " reshape (Reshape)           (None, 7, 7, 128)         0         \n",
      "                                                                 \n",
      " up_sampling2d (UpSampling2D  (None, 14, 14, 128)      0         \n",
      " )                                                               \n",
      "                                                                 \n",
      " conv2d (Conv2D)             (None, 14, 14, 64)        204864    \n",
      "                                                                 \n",
      " batch_normalization_1 (Batc  (None, 14, 14, 64)       256       \n",
      " hNormalization)                                                 \n",
      "                                                                 \n",
      " activation (Activation)     (None, 14, 14, 64)        0         \n",
      "                                                                 \n",
      " up_sampling2d_1 (UpSampling  (None, 28, 28, 64)       0         \n",
      " 2D)                                                             \n",
      "                                                                 \n",
      " conv2d_1 (Conv2D)           (None, 28, 28, 1)         1601      \n",
      "                                                                 \n",
      "=================================================================\n",
      "Total params: 865,281\n",
      "Trainable params: 852,609\n",
      "Non-trainable params: 12,672\n",
      "_________________________________________________________________\n"
     ]
    }
   ],
   "source": [
    "# 생성자 모델 만들기\n",
    "\n",
    "generator = models.Sequential()\n",
    "# 7*7 이미지 채널 128개짜리 만들기 위해 식으로 표현\n",
    "# layers.LeakyReLU(0.2) '' 이 아니라 직접 쓴 이유, 이후에 하이퍼 파라미터 만들기 위해\n",
    "generator.add(layers.Dense(7*7*128, input_dim=100,\n",
    "              activation=layers.LeakyReLU(0.2)))\n",
    "# Dense 출력이 BatchNormalization 입력으로 들어와 평균=0, 표준편차=1로 스케일링해줌\n",
    "generator.add(layers.BatchNormalization())\n",
    "\n",
    "generator.add(layers.Reshape((7, 7, 128)))\n",
    "# UpSampling2D: MaxPooling 정반대 7*7 -> 14*14로 늘리는 중\n",
    "generator.add(layers.UpSampling2D())\n",
    "\n",
    "# padding='same': 원본 사이즈 유지하겠다\n",
    "# kernel_size=5이니 상하좌우 2줄씩 0으로\n",
    "generator.add(layers.Conv2D(64, kernel_size=5, padding='same'))\n",
    "generator.add(layers.BatchNormalization())\n",
    "generator.add(layers.Activation(layers.LeakyReLU(0.2)))\n",
    "generator.add(layers.UpSampling2D())\n",
    "generator.add(layers.Conv2D(1, kernel_size=5, padding='same', activation='tanh'))\n",
    "generator.summary()"
   ]
  },
  {
   "cell_type": "code",
   "execution_count": 3,
   "id": "00211032",
   "metadata": {},
   "outputs": [
    {
     "name": "stdout",
     "output_type": "stream",
     "text": [
      "Model: \"sequential_1\"\n",
      "_________________________________________________________________\n",
      " Layer (type)                Output Shape              Param #   \n",
      "=================================================================\n",
      " conv2d_2 (Conv2D)           (None, 14, 14, 64)        1664      \n",
      "                                                                 \n",
      " activation_1 (Activation)   (None, 14, 14, 64)        0         \n",
      "                                                                 \n",
      " dropout (Dropout)           (None, 14, 14, 64)        0         \n",
      "                                                                 \n",
      " conv2d_3 (Conv2D)           (None, 7, 7, 128)         204928    \n",
      "                                                                 \n",
      " activation_2 (Activation)   (None, 7, 7, 128)         0         \n",
      "                                                                 \n",
      " dropout_1 (Dropout)         (None, 7, 7, 128)         0         \n",
      "                                                                 \n",
      " flatten (Flatten)           (None, 6272)              0         \n",
      "                                                                 \n",
      " dense_1 (Dense)             (None, 1)                 6273      \n",
      "                                                                 \n",
      "=================================================================\n",
      "Total params: 212,865\n",
      "Trainable params: 0\n",
      "Non-trainable params: 212,865\n",
      "_________________________________________________________________\n"
     ]
    }
   ],
   "source": [
    "# 판별자 모델 만들기\n",
    "\n",
    "discriminator = models.Sequential()\n",
    "# strides=2; 2픽셀씩 확인(듬성듬성 특징을 뽑아내겠다, 계산량 줄어듬, 세밀함 줄어듬)\n",
    "discriminator.add(layers.Conv2D(64, kernel_size=5, input_shape=(28,28,1), strides=2, padding='same'))\n",
    "discriminator.add(layers.Activation(layers.LeakyReLU(0.2)))\n",
    "discriminator.add(layers.Dropout(0.3))\n",
    "discriminator.add(layers.Conv2D(128, kernel_size=5, strides=2, padding='same'))\n",
    "discriminator.add(layers.Activation(layers.LeakyReLU(0.2)))\n",
    "discriminator.add(layers.Dropout(0.3))\n",
    "discriminator.add(layers.Flatten())\n",
    "discriminator.add(layers.Dense(1, activation='sigmoid'))\n",
    "discriminator.compile(loss='binary_crossentropy', optimizer='adam')\n",
    "discriminator.trainable = False\n",
    "# 생성자가 가짜 noise를 던지면 순전파를 통해 판별자에게 옴\n",
    "# 판별자는 오차를 판별하여 다시 생성자에게 보내면 생성자는 돌려받은 것으로 파라미터 갱신\n",
    "# 그런데 이때 생성자가 보낸 오류가 많은 정보로 학습을 하면 안되니 기본적으로 학습 미실시로 세팅\n",
    "# 따로 학습시켜야함\n",
    "\n",
    "discriminator.summary()"
   ]
  },
  {
   "cell_type": "code",
   "execution_count": 5,
   "id": "090fa8e3",
   "metadata": {},
   "outputs": [
    {
     "name": "stdout",
     "output_type": "stream",
     "text": [
      "Model: \"model\"\n",
      "_________________________________________________________________\n",
      " Layer (type)                Output Shape              Param #   \n",
      "=================================================================\n",
      " input_1 (InputLayer)        [(None, 100)]             0         \n",
      "                                                                 \n",
      " sequential (Sequential)     (None, 28, 28, 1)         865281    \n",
      "                                                                 \n",
      " sequential_1 (Sequential)   (None, 1)                 212865    \n",
      "                                                                 \n",
      "=================================================================\n",
      "Total params: 1,078,146\n",
      "Trainable params: 852,609\n",
      "Non-trainable params: 225,537\n",
      "_________________________________________________________________\n"
     ]
    }
   ],
   "source": [
    "ginput = layers.Input(shape=(100))\n",
    "dis_output = discriminator(generator(ginput))\n",
    "gan = models.Model(ginput, dis_output)\n",
    "gan.compile(loss='binary_crossentropy', optimizer='adam')\n",
    "gan.summary()"
   ]
  },
  {
   "cell_type": "code",
   "execution_count": null,
   "id": "bee3231f",
   "metadata": {},
   "outputs": [],
   "source": []
  }
 ],
 "metadata": {
  "kernelspec": {
   "display_name": "Python 3 (ipykernel)",
   "language": "python",
   "name": "python3"
  },
  "language_info": {
   "codemirror_mode": {
    "name": "ipython",
    "version": 3
   },
   "file_extension": ".py",
   "mimetype": "text/x-python",
   "name": "python",
   "nbconvert_exporter": "python",
   "pygments_lexer": "ipython3",
   "version": "3.8.15"
  }
 },
 "nbformat": 4,
 "nbformat_minor": 5
}
