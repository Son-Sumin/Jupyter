{
 "cells": [
  {
   "cell_type": "markdown",
   "id": "71ee66e0",
   "metadata": {},
   "source": [
    "## 컨볼루션 신경망(Convolutional Neural Network, CNN)\n",
    "- 실습 예제 : Cats_Dogs   \n",
    "https://www.kaggle.com/competitions/dogs-vs-cats/data   \n",
    "train.zip 다운로드\n",
    "- 추천 도서   \n",
    "https://thebook.io/080315/   \n",
    "케라스 창시자에게 배우는 딥러닝 개정 2판"
   ]
  },
  {
   "cell_type": "code",
   "execution_count": 1,
   "id": "2ac75419",
   "metadata": {},
   "outputs": [],
   "source": [
    "import os, shutil\n",
    "os.environ[\"KMP_DUPLICATE_LIB_OK\"]=\"TRUE\""
   ]
  },
  {
   "cell_type": "code",
   "execution_count": 2,
   "id": "eea3b39b",
   "metadata": {},
   "outputs": [],
   "source": [
    "original_dataset_dir='./train'\n",
    "\n",
    "base_dir = './data/cats_and_dogs'\n",
    "if not os.path.exists(base_dir):\n",
    "    os.mkdir(base_dir)"
   ]
  },
  {
   "cell_type": "code",
   "execution_count": 3,
   "id": "c5365826",
   "metadata": {},
   "outputs": [],
   "source": [
    "train_dir = os.path.join(base_dir, 'train')\n",
    "if not os.path.exists(train_dir):\n",
    "    os.mkdir(train_dir)\n",
    "    \n",
    "test_dir = os.path.join(base_dir, 'test')\n",
    "if not os.path.exists(test_dir):\n",
    "    os.mkdir(test_dir)"
   ]
  },
  {
   "cell_type": "code",
   "execution_count": 4,
   "id": "1f2da96c",
   "metadata": {},
   "outputs": [],
   "source": [
    "train_cats_dir = os.path.join(train_dir, 'cats')\n",
    "if not os.path.exists(train_cats_dir):\n",
    "    os.mkdir(train_cats_dir)\n",
    "    \n",
    "train_dogs_dir = os.path.join(train_dir, 'dogs')\n",
    "if not os.path.exists(train_dogs_dir):\n",
    "    os.mkdir(train_dogs_dir)"
   ]
  },
  {
   "cell_type": "code",
   "execution_count": 5,
   "id": "62783126",
   "metadata": {},
   "outputs": [],
   "source": [
    "test_cats_dir = os.path.join(test_dir, 'cats')\n",
    "if not os.path.exists(test_cats_dir):\n",
    "    os.mkdir(test_cats_dir)\n",
    "\n",
    "test_dogs_dir = os.path.join(test_dir, 'dogs')\n",
    "if not os.path.exists(test_dogs_dir):\n",
    "    os.mkdir(test_dogs_dir)"
   ]
  },
  {
   "cell_type": "code",
   "execution_count": 6,
   "id": "6327ca6f",
   "metadata": {},
   "outputs": [],
   "source": [
    "# test set과 train set 나누기\n",
    "\n",
    "fnames = ['cat.{}.jpg'.format(i) for i in range(10000)]\n",
    "for fname in fnames:\n",
    "    src = os.path.join(original_dataset_dir, fname)\n",
    "    dst = os.path.join(train_cats_dir, fname)\n",
    "    shutil.copyfile(src, dst)"
   ]
  },
  {
   "cell_type": "code",
   "execution_count": 7,
   "id": "453c1132",
   "metadata": {},
   "outputs": [],
   "source": [
    "fnames = ['cat.{}.jpg'.format(i) for i in range(10000, 12500)]\n",
    "for fname in fnames:\n",
    "    src = os.path.join(original_dataset_dir, fname)\n",
    "    dst = os.path.join(test_cats_dir, fname)\n",
    "    shutil.copyfile(src, dst)"
   ]
  },
  {
   "cell_type": "code",
   "execution_count": 8,
   "id": "5ca10e45",
   "metadata": {},
   "outputs": [],
   "source": [
    "fnames = ['dog.{}.jpg'.format(i) for i in range(10000)]\n",
    "for fname in fnames:\n",
    "    src = os.path.join(original_dataset_dir, fname)\n",
    "    dst = os.path.join(train_dogs_dir, fname)\n",
    "    shutil.copyfile(src, dst)"
   ]
  },
  {
   "cell_type": "code",
   "execution_count": 9,
   "id": "c2f42a9d",
   "metadata": {},
   "outputs": [],
   "source": [
    "fnames = ['dog.{}.jpg'.format(i) for i in range(10000, 12500)]\n",
    "for fname in fnames:\n",
    "    src = os.path.join(original_dataset_dir, fname)\n",
    "    dst = os.path.join(test_dogs_dir, fname)\n",
    "    shutil.copyfile(src, dst)"
   ]
  },
  {
   "cell_type": "code",
   "execution_count": 10,
   "id": "c04d2483",
   "metadata": {},
   "outputs": [
    {
     "name": "stdout",
     "output_type": "stream",
     "text": [
      "훈련용 고양이 이미지 전체 개수: 10000\n",
      "훈련용 강아지 이미지 전체 개수: 10000\n",
      "테스트용 고양이 이미지 전체 개수: 2500\n",
      "테스트용 강아지 이미지 전체 개수: 2500\n"
     ]
    }
   ],
   "source": [
    "print('훈련용 고양이 이미지 전체 개수:', len(os.listdir(train_cats_dir)))\n",
    "print('훈련용 강아지 이미지 전체 개수:', len(os.listdir(train_dogs_dir)))\n",
    "print('테스트용 고양이 이미지 전체 개수:', len(os.listdir(test_cats_dir)))\n",
    "print('테스트용 강아지 이미지 전체 개수:', len(os.listdir(test_dogs_dir)))"
   ]
  },
  {
   "cell_type": "code",
   "execution_count": 11,
   "id": "72433517",
   "metadata": {},
   "outputs": [],
   "source": [
    "from tensorflow.keras import models, layers\n",
    "from tensorflow.keras.callbacks import ModelCheckpoint"
   ]
  },
  {
   "cell_type": "code",
   "execution_count": 12,
   "id": "caf01434",
   "metadata": {},
   "outputs": [],
   "source": [
    "model = models.Sequential()\n",
    "model.add(layers.Conv2D(32, (3,3), input_shape=(150, 150, 3), activation='relu'))  # input_shape; jpg마다 가로세로 픽셀크기가 다름\n",
    "model.add(layers.MaxPooling2D((2,2)))\n",
    "model.add(layers.Conv2D(64, (3,3), activation='relu'))\n",
    "model.add(layers.MaxPooling2D((2,2)))\n",
    "model.add(layers.Conv2D(128, (3,3), activation='relu'))\n",
    "model.add(layers.MaxPooling2D((2,2)))\n",
    "model.add(layers.Conv2D(128, (3,3), activation='relu'))\n",
    "model.add(layers.MaxPooling2D((2,2)))\n",
    "model.add(layers.Flatten())  # Dense에 넣기 위해\n",
    "model.add(layers.Dropout(0.5))\n",
    "model.add(layers.Dense(512, activation='relu'))\n",
    "model.add(layers.Dense(1, activation='sigmoid'))"
   ]
  },
  {
   "cell_type": "code",
   "execution_count": 13,
   "id": "97933157",
   "metadata": {
    "scrolled": false
   },
   "outputs": [
    {
     "name": "stdout",
     "output_type": "stream",
     "text": [
      "Model: \"sequential\"\n",
      "_________________________________________________________________\n",
      " Layer (type)                Output Shape              Param #   \n",
      "=================================================================\n",
      " conv2d (Conv2D)             (None, 148, 148, 32)      896       \n",
      "                                                                 \n",
      " max_pooling2d (MaxPooling2D  (None, 74, 74, 32)       0         \n",
      " )                                                               \n",
      "                                                                 \n",
      " conv2d_1 (Conv2D)           (None, 72, 72, 64)        18496     \n",
      "                                                                 \n",
      " max_pooling2d_1 (MaxPooling  (None, 36, 36, 64)       0         \n",
      " 2D)                                                             \n",
      "                                                                 \n",
      " conv2d_2 (Conv2D)           (None, 34, 34, 128)       73856     \n",
      "                                                                 \n",
      " max_pooling2d_2 (MaxPooling  (None, 17, 17, 128)      0         \n",
      " 2D)                                                             \n",
      "                                                                 \n",
      " conv2d_3 (Conv2D)           (None, 15, 15, 128)       147584    \n",
      "                                                                 \n",
      " max_pooling2d_3 (MaxPooling  (None, 7, 7, 128)        0         \n",
      " 2D)                                                             \n",
      "                                                                 \n",
      " flatten (Flatten)           (None, 6272)              0         \n",
      "                                                                 \n",
      " dropout (Dropout)           (None, 6272)              0         \n",
      "                                                                 \n",
      " dense (Dense)               (None, 512)               3211776   \n",
      "                                                                 \n",
      " dense_1 (Dense)             (None, 1)                 513       \n",
      "                                                                 \n",
      "=================================================================\n",
      "Total params: 3,453,121\n",
      "Trainable params: 3,453,121\n",
      "Non-trainable params: 0\n",
      "_________________________________________________________________\n"
     ]
    }
   ],
   "source": [
    "model.summary()"
   ]
  },
  {
   "cell_type": "markdown",
   "id": "586f171a",
   "metadata": {},
   "source": [
    "* Conv2D 32\n",
    "input 3 (150 150)   \n",
    "weight 9 (3 3)   \n",
    "bias 32 (1 32)   \n",
    "output 32 (148 148)   \n",
    "param 896 =  (3*9*32) + (1*32)   \n",
    "***\n",
    "* MaxPooling2D   \n",
    "input 32 (148 148)   \n",
    "output 32 (74 74)   \n",
    "***\n",
    "* Conv2D 64   \n",
    "input 32 (74 74)   \n",
    "weight 9 (3 3)   \n",
    "bias 64 (1 64)   \n",
    "output 64 (72 72)   \n",
    "param 18496 =  (32*9*64) + (1*64)   \n",
    "***\n",
    "* MaxPooling2D   \n",
    "input 64 (72 72)   \n",
    "output 64 (36 36)   \n",
    "***\n",
    "* Conv2D 128   \n",
    "input 64 (36 36)   \n",
    "weight 9 (3 3)    \n",
    "bias 128 (1 128)   \n",
    "output 128 (34 34)   \n",
    "param 73856 =  (64*9*128) + (1*128)    \n",
    "***\n",
    "* MaxPooling2D   \n",
    "input 128 (34 34)   \n",
    "output 128 (17 17)   \n",
    "***\n",
    "* Conv2D 128   \n",
    "input 128 (17 17)   \n",
    "weight 9 (3 3)    \n",
    "bias 128 (1 128)   \n",
    "output 128 (15 15)   \n",
    "param 147584 =  (128*9*128) + (1*128)   \n",
    "***\n",
    "* MaxPooling2D   \n",
    "input 128 (15 15)   \n",
    "output 128 (7 7)   \n",
    "***\n",
    "* Flatten   \n",
    "input 128 (7 7)   \n",
    "output 6272 = (7*7*128)   \n",
    "***\n",
    "* Dense 512   \n",
    "input 6272   \n",
    "weight 512 (6272 512)    \n",
    "bias 512 (1 512)   \n",
    "output 512   \n",
    "param 3211776 =  (6272*512) + (1*512)   \n",
    "***\n",
    "* Dense 1   \n",
    "input 512   \n",
    "weight 1 (512 1)    \n",
    "bias 1 (1 1)   \n",
    "output 1   \n",
    "param 513 =  (512*1) + (1*1)   "
   ]
  },
  {
   "cell_type": "code",
   "execution_count": 14,
   "id": "b2e7f265",
   "metadata": {},
   "outputs": [],
   "source": [
    "model.compile(loss='binary_crossentropy', optimizer='adam', metrics=['accuracy'])"
   ]
  },
  {
   "cell_type": "code",
   "execution_count": 15,
   "id": "83a0c63d",
   "metadata": {
    "scrolled": true
   },
   "outputs": [
    {
     "name": "stdout",
     "output_type": "stream",
     "text": [
      "Found 20000 images belonging to 2 classes.\n",
      "Found 5000 images belonging to 2 classes.\n"
     ]
    }
   ],
   "source": [
    "from tensorflow.keras.preprocessing.image import ImageDataGenerator\n",
    "\n",
    "train_datagen = ImageDataGenerator(rescale=1./255)  # 입력 feature를 0~1로 맞추기 위해, 소수 출력을 위해 1. 실수로 표기\n",
    "test_datagen = ImageDataGenerator(rescale=1./255)\n",
    "\n",
    "train_generator = train_datagen.flow_from_directory(\n",
    "    train_dir,  # 학습용 데이터 위치 지정\n",
    "    target_size=(150, 150),  # target 내의 jpg 크기 지정\n",
    "    batch_size=20,\n",
    "    class_mode='binary'  # 2개 클래스니까 cats, dogs, target[0]=cats, target[1]=dogs 알아서 레이블링 \n",
    ")\n",
    "\n",
    "validation_generator = test_datagen.flow_from_directory(\n",
    "    test_dir,\n",
    "    target_size=(150, 150), \n",
    "    batch_size=20,\n",
    "    class_mode='binary' \n",
    ")"
   ]
  },
  {
   "cell_type": "code",
   "execution_count": 16,
   "id": "c40ca555",
   "metadata": {
    "scrolled": false
   },
   "outputs": [
    {
     "name": "stdout",
     "output_type": "stream",
     "text": [
      "Epoch 1/30\n",
      "1000/1000 [==============================] - 275s 274ms/step - loss: 0.6678 - accuracy: 0.5807 - val_loss: 0.5930 - val_accuracy: 0.6796\n",
      "Epoch 2/30\n",
      "1000/1000 [==============================] - 217s 217ms/step - loss: 0.5377 - accuracy: 0.7320 - val_loss: 0.4602 - val_accuracy: 0.7798\n",
      "Epoch 3/30\n",
      "1000/1000 [==============================] - 218s 218ms/step - loss: 0.4345 - accuracy: 0.7998 - val_loss: 0.4000 - val_accuracy: 0.8178\n",
      "Epoch 4/30\n",
      "1000/1000 [==============================] - 217s 217ms/step - loss: 0.3701 - accuracy: 0.8365 - val_loss: 0.3494 - val_accuracy: 0.8462\n",
      "Epoch 5/30\n",
      "1000/1000 [==============================] - 217s 217ms/step - loss: 0.3258 - accuracy: 0.8592 - val_loss: 0.3105 - val_accuracy: 0.8652\n",
      "Epoch 6/30\n",
      "1000/1000 [==============================] - 216s 216ms/step - loss: 0.2847 - accuracy: 0.8791 - val_loss: 0.3590 - val_accuracy: 0.8406\n",
      "Epoch 7/30\n",
      "1000/1000 [==============================] - 217s 217ms/step - loss: 0.2555 - accuracy: 0.8924 - val_loss: 0.2772 - val_accuracy: 0.8810\n",
      "Epoch 8/30\n",
      "1000/1000 [==============================] - 217s 217ms/step - loss: 0.2166 - accuracy: 0.9092 - val_loss: 0.2887 - val_accuracy: 0.8792\n",
      "Epoch 9/30\n",
      "1000/1000 [==============================] - 218s 218ms/step - loss: 0.1993 - accuracy: 0.9171 - val_loss: 0.2531 - val_accuracy: 0.8962\n",
      "Epoch 10/30\n",
      "1000/1000 [==============================] - 217s 217ms/step - loss: 0.1762 - accuracy: 0.9293 - val_loss: 0.2826 - val_accuracy: 0.8904\n",
      "Epoch 11/30\n",
      "1000/1000 [==============================] - 217s 217ms/step - loss: 0.1543 - accuracy: 0.9374 - val_loss: 0.2469 - val_accuracy: 0.9006\n",
      "Epoch 12/30\n",
      "1000/1000 [==============================] - 218s 218ms/step - loss: 0.1391 - accuracy: 0.9445 - val_loss: 0.2728 - val_accuracy: 0.8994\n",
      "Epoch 13/30\n",
      "1000/1000 [==============================] - 218s 218ms/step - loss: 0.1272 - accuracy: 0.9499 - val_loss: 0.2896 - val_accuracy: 0.8882\n",
      "Epoch 14/30\n",
      "1000/1000 [==============================] - 217s 217ms/step - loss: 0.1142 - accuracy: 0.9564 - val_loss: 0.2589 - val_accuracy: 0.9082\n",
      "Epoch 15/30\n",
      "1000/1000 [==============================] - 217s 217ms/step - loss: 0.1080 - accuracy: 0.9578 - val_loss: 0.2666 - val_accuracy: 0.9028\n",
      "Epoch 16/30\n",
      "1000/1000 [==============================] - 217s 217ms/step - loss: 0.1002 - accuracy: 0.9614 - val_loss: 0.3289 - val_accuracy: 0.8904\n",
      "Epoch 17/30\n",
      "1000/1000 [==============================] - 218s 218ms/step - loss: 0.0898 - accuracy: 0.9657 - val_loss: 0.2913 - val_accuracy: 0.9066\n",
      "Epoch 18/30\n",
      "1000/1000 [==============================] - 217s 217ms/step - loss: 0.0884 - accuracy: 0.9656 - val_loss: 0.2513 - val_accuracy: 0.9110\n",
      "Epoch 19/30\n",
      "1000/1000 [==============================] - 217s 217ms/step - loss: 0.0796 - accuracy: 0.9707 - val_loss: 0.2770 - val_accuracy: 0.8996\n",
      "Epoch 20/30\n",
      "1000/1000 [==============================] - 218s 218ms/step - loss: 0.0826 - accuracy: 0.9712 - val_loss: 0.2663 - val_accuracy: 0.9094\n",
      "Epoch 21/30\n",
      "1000/1000 [==============================] - 219s 219ms/step - loss: 0.0698 - accuracy: 0.9752 - val_loss: 0.2827 - val_accuracy: 0.9090\n",
      "Epoch 22/30\n",
      "1000/1000 [==============================] - 233s 233ms/step - loss: 0.0728 - accuracy: 0.9730 - val_loss: 0.2885 - val_accuracy: 0.9064\n",
      "Epoch 23/30\n",
      "1000/1000 [==============================] - 229s 229ms/step - loss: 0.0668 - accuracy: 0.9768 - val_loss: 0.2987 - val_accuracy: 0.9044\n",
      "Epoch 24/30\n",
      "1000/1000 [==============================] - 223s 223ms/step - loss: 0.0598 - accuracy: 0.9786 - val_loss: 0.2882 - val_accuracy: 0.9114\n",
      "Epoch 25/30\n",
      "1000/1000 [==============================] - 222s 222ms/step - loss: 0.0639 - accuracy: 0.9801 - val_loss: 0.3134 - val_accuracy: 0.9132\n",
      "Epoch 26/30\n",
      "1000/1000 [==============================] - 222s 222ms/step - loss: 0.0614 - accuracy: 0.9787 - val_loss: 0.4471 - val_accuracy: 0.8924\n",
      "Epoch 27/30\n",
      "1000/1000 [==============================] - 220s 220ms/step - loss: 0.0615 - accuracy: 0.9785 - val_loss: 0.3267 - val_accuracy: 0.9006\n",
      "Epoch 28/30\n",
      "1000/1000 [==============================] - 220s 220ms/step - loss: 0.0504 - accuracy: 0.9826 - val_loss: 0.3313 - val_accuracy: 0.9162\n",
      "Epoch 29/30\n",
      " 900/1000 [==========================>...] - ETA: 21s - loss: 0.0638 - accuracy: 0.9780"
     ]
    },
    {
     "name": "stderr",
     "output_type": "stream",
     "text": [
      "IOPub message rate exceeded.\n",
      "The notebook server will temporarily stop sending output\n",
      "to the client in order to avoid crashing it.\n",
      "To change this limit, set the config variable\n",
      "`--NotebookApp.iopub_msg_rate_limit`.\n",
      "\n",
      "Current values:\n",
      "NotebookApp.iopub_msg_rate_limit=1000.0 (msgs/sec)\n",
      "NotebookApp.rate_limit_window=3.0 (secs)\n",
      "\n"
     ]
    }
   ],
   "source": [
    "history = model.fit(\n",
    "    train_generator,\n",
    "    epochs=30,\n",
    "    validation_data = validation_generator\n",
    ")"
   ]
  },
  {
   "cell_type": "markdown",
   "id": "1af6ad4d",
   "metadata": {},
   "source": [
    "32개의 결과를 얻기 위해 1장의 커널을 사용하지 않고 32장의 커널을 사용하는 이유는,   \n",
    "각 층의 여러 개 kernal을 두면 세밀해지기 때문이다.     \n",
    "그러나 kernel의 수와 세밀함은 비례하지 않다."
   ]
  },
  {
   "cell_type": "code",
   "execution_count": 17,
   "id": "badb0208",
   "metadata": {},
   "outputs": [
    {
     "data": {
      "image/png": "[encoded data removed]",
      "text/plain": [
       "<Figure size 640x480 with 1 Axes>"
      ]
     },
     "metadata": {},
     "output_type": "display_data"
    },
    {
     "data": {
      "image/png": "[encoded data removed]",
      "text/plain": [
       "<Figure size 640x480 with 1 Axes>"
      ]
     },
     "metadata": {},
     "output_type": "display_data"
    }
   ],
   "source": [
    "import matplotlib.pyplot as plt\n",
    "\n",
    "acc = history.history['accuracy']\n",
    "val_acc = history.history['val_accuracy']\n",
    "loss = history.history['loss']\n",
    "val_loss = history.history['val_loss']\n",
    "\n",
    "epochs = range(len(acc))\n",
    "\n",
    "plt.plot(epochs, acc, 'ro', label='Training acc')\n",
    "plt.plot(epochs, val_acc, 'b', label='Validation acc')\n",
    "plt.title('Training and validation accuracy')\n",
    "plt.legend()\n",
    "\n",
    "plt.figure()\n",
    "\n",
    "plt.plot(epochs, loss, 'ro', label='Training loss')\n",
    "plt.plot(epochs, val_loss, 'b', label='Validation loss')\n",
    "plt.title('Training and validation loss')\n",
    "plt.legend()\n",
    "\n",
    "plt.show()"
   ]
  }
 ],
 "metadata": {
  "kernelspec": {
   "display_name": "Python 3 (ipykernel)",
   "language": "python",
   "name": "python3"
  },
  "language_info": {
   "codemirror_mode": {
    "name": "ipython",
    "version": 3
   },
   "file_extension": ".py",
   "mimetype": "text/x-python",
   "name": "python",
   "nbconvert_exporter": "python",
   "pygments_lexer": "ipython3",
   "version": "3.8.15"
  }
 },
 "nbformat": 4,
 "nbformat_minor": 5
}
