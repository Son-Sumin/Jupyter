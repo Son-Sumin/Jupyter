{
 "cells": [
  {
   "cell_type": "markdown",
   "id": "37245c7d",
   "metadata": {},
   "source": [
    "## 컨볼루션 신경망(Convolutional Neural Network, CNN)\n",
    "### 이미지의 영역 처리(Convolution)\n",
    "- 공간영역 기반 처리\n",
    "- mask내의 원소값과 공간 영역에 있는 입력 영상의 화소값들을 대응되게 곱하여 출력값화소를 계산\n",
    "- mask를 이미지는 filter, AI는 kernal이라는 말을 사용\n",
    "\n",
    "- Blurring\n",
    "- Sharpening\n",
    "- Edge\n",
    "   * 차분연산 > 유사연사, 차연산\n",
    "   * 1차 미분연산 > Roberts edge detection, Prewitt edge detection, Sobel edge detection\n",
    "   * 2타 미분연산 > Laplacian edge detection, LoG, DoG\n",
    "   * Canndy edge detection; 블러링을 통한 노이즈 제거,화소 기울기의 강도와 방향 검출, 비최대치 억제, 이력 임계값으로 edge 결정\n",
    "   * Filtering > Min/max, 경계처리, median"
   ]
  },
  {
   "cell_type": "code",
   "execution_count": 1,
   "id": "83b1cde7",
   "metadata": {},
   "outputs": [],
   "source": [
    "from tensorflow.keras import models, layers\n",
    "from tensorflow.keras.callbacks import EarlyStopping, ModelCheckpoint\n",
    "import numpy as np\n",
    "from tensorflow.keras.datasets import mnist\n",
    "from tensorflow.keras.utils import to_categorical\n",
    "import matplotlib.pyplot as plt\n",
    "import os\n",
    "os.environ[\"KMP_DUPLICATE_LIB_OK\"]='1'"
   ]
  },
  {
   "cell_type": "code",
   "execution_count": 2,
   "id": "4ab5deba",
   "metadata": {},
   "outputs": [],
   "source": [
    "(X_train, y_train), (X_test, y_test) = mnist.load_data()\n",
    "X_train = X_train.reshape(X_train.shape[0], 28, 28, 1).astype(float) / 255  # 1(흑백): 이미지 채널 수, 3(컬러)\n",
    "X_test = X_test.reshape(X_test.shape[0], 28, 28, 1).astype(float) / 255\n",
    "y_train = to_categorical(y_train)\n",
    "y_test = to_categorical(y_test)"
   ]
  },
  {
   "cell_type": "code",
   "execution_count": 6,
   "id": "9ac8f183",
   "metadata": {},
   "outputs": [
    {
     "name": "stdout",
     "output_type": "stream",
     "text": [
      "Model: \"sequential_3\"\n",
      "_________________________________________________________________\n",
      " Layer (type)                Output Shape              Param #   \n",
      "=================================================================\n",
      " conv2d_5 (Conv2D)           (None, 26, 26, 32)        320       \n",
      "                                                                 \n",
      " conv2d_6 (Conv2D)           (None, 24, 24, 64)        18496     \n",
      "                                                                 \n",
      " max_pooling2d_2 (MaxPooling  (None, 12, 12, 64)       0         \n",
      " 2D)                                                             \n",
      "                                                                 \n",
      " dropout_4 (Dropout)         (None, 12, 12, 64)        0         \n",
      "                                                                 \n",
      " flatten_2 (Flatten)         (None, 9216)              0         \n",
      "                                                                 \n",
      " dense_4 (Dense)             (None, 128)               1179776   \n",
      "                                                                 \n",
      " dropout_5 (Dropout)         (None, 128)               0         \n",
      "                                                                 \n",
      " dense_5 (Dense)             (None, 10)                1290      \n",
      "                                                                 \n",
      "=================================================================\n",
      "Total params: 1,199,882\n",
      "Trainable params: 1,199,882\n",
      "Non-trainable params: 0\n",
      "_________________________________________________________________\n"
     ]
    }
   ],
   "source": [
    "model = models.Sequential()\n",
    "model.add(layers.Conv2D(32, kernel_size=(3, 3), input_shape=(28, 28, 1), activation='relu'))\n",
    "model.add(layers.Conv2D(64, kernel_size=(3, 3), activation='relu'))\n",
    "model.add(layers.MaxPooling2D(pool_size=(2, 2)))\n",
    "model.add(layers.Dropout(0.25))\n",
    "model.add(layers.Flatten())\n",
    "model.add(layers.Dense(128, activation='relu'))\n",
    "model.add(layers.Dropout(0.25))\n",
    "model.add(layers.Dense(10, activation='softmax'))\n",
    "model.summary()\n",
    "\n",
    "# 함수 Conv2D 제공: 그림 1장 들어가면 32장으로 만들어줌\n",
    "# kernel_size 각 칸의 수가 일종의 가중치\n",
    "# input_shape 28*28 -> 26*26 으로 나옴\n",
    "# 최종 32장을 만들어주니 kernel, kernel별 bias 모두 32개 존재\n",
    "# 파라미터 kernel_size 9개, bias 1개 -> 10개 => 320개\n",
    "\n",
    "# MaxPooling2D: pool_size=(2, 2) 내 최대값 산출 -> 전체 크기 1/4로 감소\n",
    "# shape을 줄여나가되 그 특징은 유지를 하겠다\n",
    "# 새로운 파라미터 생성 X\n",
    "\n",
    "# Dropout: 과대적합 방지\n",
    "# 순전파를 시킬 때 batch마다 0.25를 무작위로 잡아서 그 쪽은 순전파 미실시\n",
    "# 새로운 파라미터 생성 X\n",
    "\n",
    "# Flatten: 1차원으로 데이터 펼치기\n",
    "# Dense 사용 위해"
   ]
  }
 ],
 "metadata": {
  "kernelspec": {
   "display_name": "Python 3 (ipykernel)",
   "language": "python",
   "name": "python3"
  },
  "language_info": {
   "codemirror_mode": {
    "name": "ipython",
    "version": 3
   },
   "file_extension": ".py",
   "mimetype": "text/x-python",
   "name": "python",
   "nbconvert_exporter": "python",
   "pygments_lexer": "ipython3",
   "version": "3.8.15"
  }
 },
 "nbformat": 4,
 "nbformat_minor": 5
}
