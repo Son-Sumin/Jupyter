{
 "cells": [
  {
   "cell_type": "markdown",
   "id": "37245c7d",
   "metadata": {},
   "source": [
    "## 컨볼루션 신경망(Convolutional Neural Network, CNN)\n",
    "### 이미지의 영역 처리(Convolution)\n",
    "- 공간영역 기반 처리\n",
    "- mask내의 원소값과 공간 영역에 있는 입력 영상의 화소값들을 대응되게 곱하여 출력값화소를 계산\n",
    "- mask를 이미지는 filter, AI는 kernal이라는 말을 사용\n",
    "\n",
    "- Blurring\n",
    "- Sharpening\n",
    "- Edge\n",
    "   * 차분연산 > 유사연사, 차연산\n",
    "   * 1차 미분연산 > Roberts edge detection, Prewitt edge detection, Sobel edge detection\n",
    "   * 2타 미분연산 > Laplacian edge detection, LoG, DoG\n",
    "   * Canndy edge detection; 블러링을 통한 노이즈 제거,화소 기울기의 강도와 방향 검출, 비최대치 억제, 이력 임계값으로 edge 결정\n",
    "   * Filtering > Min/max, 경계처리, median"
   ]
  },
  {
   "cell_type": "code",
   "execution_count": 1,
   "id": "83b1cde7",
   "metadata": {},
   "outputs": [],
   "source": [
    "from tensorflow.keras import models, layers\n",
    "from tensorflow.keras.callbacks import EarlyStopping, ModelCheckpoint\n",
    "import numpy as np\n",
    "from tensorflow.keras.datasets import mnist\n",
    "from tensorflow.keras.utils import to_categorical\n",
    "import matplotlib.pyplot as plt\n",
    "import os\n",
    "os.environ[\"KMP_DUPLICATE_LIB_OK\"]='1'"
   ]
  },
  {
   "cell_type": "code",
   "execution_count": 2,
   "id": "4ab5deba",
   "metadata": {},
   "outputs": [],
   "source": [
    "(X_train, y_train), (X_test, y_test) = mnist.load_data()\n",
    "X_train = X_train.reshape(X_train.shape[0], 28, 28, 1).astype(float) / 255  # 1(흑백): 이미지 채널 수, 3(컬러)\n",
    "X_test = X_test.reshape(X_test.shape[0], 28, 28, 1).astype(float) / 255\n",
    "y_train = to_categorical(y_train)\n",
    "y_test = to_categorical(y_test)"
   ]
  },
  {
   "cell_type": "code",
   "execution_count": 3,
   "id": "9ac8f183",
   "metadata": {},
   "outputs": [
    {
     "name": "stdout",
     "output_type": "stream",
     "text": [
      "Model: \"sequential\"\n",
      "_________________________________________________________________\n",
      " Layer (type)                Output Shape              Param #   \n",
      "=================================================================\n",
      " conv2d (Conv2D)             (None, 26, 26, 32)        320       \n",
      "                                                                 \n",
      " conv2d_1 (Conv2D)           (None, 24, 24, 64)        18496     \n",
      "                                                                 \n",
      " max_pooling2d (MaxPooling2D  (None, 12, 12, 64)       0         \n",
      " )                                                               \n",
      "                                                                 \n",
      " dropout (Dropout)           (None, 12, 12, 64)        0         \n",
      "                                                                 \n",
      " flatten (Flatten)           (None, 9216)              0         \n",
      "                                                                 \n",
      " dense (Dense)               (None, 128)               1179776   \n",
      "                                                                 \n",
      " dropout_1 (Dropout)         (None, 128)               0         \n",
      "                                                                 \n",
      " dense_1 (Dense)             (None, 10)                1290      \n",
      "                                                                 \n",
      "=================================================================\n",
      "Total params: 1,199,882\n",
      "Trainable params: 1,199,882\n",
      "Non-trainable params: 0\n",
      "_________________________________________________________________\n"
     ]
    }
   ],
   "source": [
    "model = models.Sequential()\n",
    "model.add(layers.Conv2D(32, kernel_size=(3, 3), input_shape=(28, 28, 1), activation='relu'))\n",
    "model.add(layers.Conv2D(64, kernel_size=(3, 3), activation='relu'))\n",
    "model.add(layers.MaxPooling2D(pool_size=(2, 2)))\n",
    "model.add(layers.Dropout(0.25))\n",
    "model.add(layers.Flatten())\n",
    "model.add(layers.Dense(128, activation='relu'))\n",
    "model.add(layers.Dropout(0.25))\n",
    "model.add(layers.Dense(10, activation='softmax'))\n",
    "model.summary()\n",
    "\n",
    "# 함수 Conv2D 제공: 그림 1장 들어가면 32장으로 만들어줌\n",
    "# kernel_size 각 칸의 수가 일종의 가중치\n",
    "# input_shape 28*28 -> 26*26 으로 나옴\n",
    "# 최종 32장을 만들어주니 kernel, kernel별 bias 모두 32개 존재\n",
    "# 파라미터 kernel_size 9개, bias 1개 -> 10개 => 320개\n",
    "\n",
    "# MaxPooling2D: pool_size=(2, 2) 내 최대값 산출 -> 전체 크기 1/4로 감소\n",
    "# shape을 줄여나가되 그 특징은 유지를 하겠다\n",
    "# 새로운 파라미터 생성 X\n",
    "\n",
    "# Dropout: 과대적합 방지\n",
    "# 순전파를 시킬 때 batch마다 0.25를 무작위로 잡아서 그 쪽은 순전파 미실시\n",
    "# 새로운 파라미터 생성 X\n",
    "\n",
    "# Flatten: 1차원으로 데이터 펼치기\n",
    "# Dense 사용 위해"
   ]
  },
  {
   "cell_type": "code",
   "execution_count": 5,
   "id": "c97c0bdc",
   "metadata": {},
   "outputs": [],
   "source": [
    "model.compile(loss='categorical_crossentropy', optimizer='adam', metrics=['accuracy'])"
   ]
  },
  {
   "cell_type": "code",
   "execution_count": null,
   "id": "fdbaff98",
   "metadata": {},
   "outputs": [
    {
     "name": "stdout",
     "output_type": "stream",
     "text": [
      "Epoch 1/30\n",
      "225/225 [==============================] - 27s 116ms/step - loss: 0.2619 - accuracy: 0.9192 - val_loss: 0.0704 - val_accuracy: 0.9783\n",
      "Epoch 2/30\n",
      "225/225 [==============================] - 27s 118ms/step - loss: 0.0691 - accuracy: 0.9787 - val_loss: 0.0540 - val_accuracy: 0.9841\n",
      "Epoch 3/30\n",
      "225/225 [==============================] - 26s 114ms/step - loss: 0.0487 - accuracy: 0.9848 - val_loss: 0.0469 - val_accuracy: 0.9859\n",
      "Epoch 4/30\n",
      "225/225 [==============================] - 26s 115ms/step - loss: 0.0357 - accuracy: 0.9887 - val_loss: 0.0445 - val_accuracy: 0.9869\n",
      "Epoch 5/30\n",
      "225/225 [==============================] - 25s 111ms/step - loss: 0.0292 - accuracy: 0.9907 - val_loss: 0.0431 - val_accuracy: 0.9875\n",
      "Epoch 6/30\n",
      "225/225 [==============================] - 25s 111ms/step - loss: 0.0235 - accuracy: 0.9924 - val_loss: 0.0405 - val_accuracy: 0.9880\n",
      "Epoch 7/30\n",
      "225/225 [==============================] - 26s 116ms/step - loss: 0.0209 - accuracy: 0.9930 - val_loss: 0.0418 - val_accuracy: 0.9878\n",
      "Epoch 8/30\n",
      "225/225 [==============================] - 24s 107ms/step - loss: 0.0166 - accuracy: 0.9948 - val_loss: 0.0429 - val_accuracy: 0.9887\n",
      "Epoch 9/30\n",
      "225/225 [==============================] - 25s 110ms/step - loss: 0.0161 - accuracy: 0.9951 - val_loss: 0.0400 - val_accuracy: 0.9893\n",
      "Epoch 10/30\n",
      "225/225 [==============================] - 25s 111ms/step - loss: 0.0124 - accuracy: 0.9957 - val_loss: 0.0431 - val_accuracy: 0.9889\n",
      "Epoch 11/30\n",
      "225/225 [==============================] - 25s 109ms/step - loss: 0.0111 - accuracy: 0.9963 - val_loss: 0.0475 - val_accuracy: 0.9888\n",
      "Epoch 12/30\n",
      "225/225 [==============================] - 25s 113ms/step - loss: 0.0116 - accuracy: 0.9960 - val_loss: 0.0488 - val_accuracy: 0.9878\n",
      "Epoch 13/30\n",
      "225/225 [==============================] - 24s 106ms/step - loss: 0.0110 - accuracy: 0.9966 - val_loss: 0.0456 - val_accuracy: 0.9891\n",
      "Epoch 14/30\n",
      "225/225 [==============================] - 24s 108ms/step - loss: 0.0104 - accuracy: 0.9964 - val_loss: 0.0412 - val_accuracy: 0.9894\n",
      "Epoch 15/30\n",
      "225/225 [==============================] - 24s 108ms/step - loss: 0.0075 - accuracy: 0.9975 - val_loss: 0.0500 - val_accuracy: 0.9895\n",
      "Epoch 16/30\n",
      "225/225 [==============================] - 24s 107ms/step - loss: 0.0082 - accuracy: 0.9972 - val_loss: 0.0504 - val_accuracy: 0.9888\n",
      "Epoch 17/30\n",
      " 65/225 [=======>......................] - ETA: 17s - loss: 0.0064 - accuracy: 0.9976"
     ]
    }
   ],
   "source": [
    "early_stopping = EarlyStopping(monitor='val_loss', patience=10)\n",
    "\n",
    "history = model.fit(X_train, y_train, validation_split=0.25, epochs=30, batch_size=200, callbacks=[early_stopping])"
   ]
  },
  {
   "cell_type": "code",
   "execution_count": null,
   "id": "cada1a5e",
   "metadata": {},
   "outputs": [],
   "source": []
  }
 ],
 "metadata": {
  "kernelspec": {
   "display_name": "Python 3 (ipykernel)",
   "language": "python",
   "name": "python3"
  },
  "language_info": {
   "codemirror_mode": {
    "name": "ipython",
    "version": 3
   },
   "file_extension": ".py",
   "mimetype": "text/x-python",
   "name": "python",
   "nbconvert_exporter": "python",
   "pygments_lexer": "ipython3",
   "version": "3.8.15"
  }
 },
 "nbformat": 4,
 "nbformat_minor": 5
}
