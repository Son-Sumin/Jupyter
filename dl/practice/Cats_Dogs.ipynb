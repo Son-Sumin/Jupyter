{
 "cells": [
  {
   "cell_type": "markdown",
   "id": "71ee66e0",
   "metadata": {},
   "source": [
    "## 컨볼루션 신경망(Convolutional Neural Network, CNN) 예제"
   ]
  },
  {
   "cell_type": "code",
   "execution_count": 1,
   "id": "2ac75419",
   "metadata": {},
   "outputs": [],
   "source": [
    "imabport os, shutil"
   ]
  },
  {
   "cell_type": "code",
   "execution_count": 2,
   "id": "eea3b39b",
   "metadata": {},
   "outputs": [],
   "source": [
    "original_dataset_dir='./train'\n",
    "\n",
    "base_dir = './data/cats_and_dogs'\n",
    "if not os.path.exists(base_dir):\n",
    "    os.mkdir(base_dir)"
   ]
  },
  {
   "cell_type": "code",
   "execution_count": 4,
   "id": "c5365826",
   "metadata": {},
   "outputs": [],
   "source": [
    "train_dir = os.path.join(base_dir, 'train')\n",
    "if not os.path.exists(train_dir):\n",
    "    os.mkdir(train_dir)\n",
    "    \n",
    "test_dir = os.path.join(base_dir, 'test')\n",
    "if not os.path.exists(test_dir):\n",
    "    os.mkdir(test_dir)"
   ]
  },
  {
   "cell_type": "code",
   "execution_count": 5,
   "id": "1f2da96c",
   "metadata": {},
   "outputs": [],
   "source": [
    "train_cats_dir = os.path.join(train_dir, 'cats')\n",
    "if not os.path.exists(train_cats_dir):\n",
    "    os.mkdir(train_cats_dir)\n",
    "    \n",
    "train_dogs_dir = os.path.join(train_dir, 'dogs')\n",
    "if not os.path.exists(train_dogs_dir):\n",
    "    os.mkdir(train_dogs_dir)"
   ]
  },
  {
   "cell_type": "code",
   "execution_count": 5,
   "id": "62783126",
   "metadata": {},
   "outputs": [],
   "source": [
    "test_cats_dir = os.path.join(test_dir, 'cats')\n",
    "if not os.path.exists(test_cats_dir):\n",
    "    os.mkdir(test_cats_dir)\n",
    "\n",
    "test_dogs_dir = os.path.join(test_dir, 'dogs')\n",
    "if not os.path.exists(test_dogs_dir):\n",
    "    os.mkdir(test_dogs_dir)"
   ]
  },
  {
   "cell_type": "code",
   "execution_count": 6,
   "id": "6327ca6f",
   "metadata": {},
   "outputs": [],
   "source": [
    "# test set과 train set 나누기\n",
    "\n",
    "fnames = ['cat.{}.jpg'.format(i) for i in range(10000)]\n",
    "for fname in fnames:\n",
    "    src = os.path.join(original_dataset_dir, fname)\n",
    "    dst = os.path.join(train_cats_dir, fname)\n",
    "    shutil.copyfile(src, dst)"
   ]
  },
  {
   "cell_type": "code",
   "execution_count": 7,
   "id": "453c1132",
   "metadata": {},
   "outputs": [],
   "source": [
    "fnames = ['cat.{}.jpg'.format(i) for i in range(10000, 12500)]\n",
    "for fname in fnames:\n",
    "    src = os.path.join(original_dataset_dir, fname)\n",
    "    dst = os.path.join(test_cats_dir, fname)\n",
    "    shutil.copyfile(src, dst)"
   ]
  },
  {
   "cell_type": "code",
   "execution_count": 8,
   "id": "5ca10e45",
   "metadata": {},
   "outputs": [],
   "source": [
    "fnames = ['dog.{}.jpg'.format(i) for i in range(10000)]\n",
    "for fname in fnames:\n",
    "    src = os.path.join(original_dataset_dir, fname)\n",
    "    dst = os.path.join(train_dogs_dir, fname)\n",
    "    shutil.copyfile(src, dst)"
   ]
  },
  {
   "cell_type": "code",
   "execution_count": 9,
   "id": "c2f42a9d",
   "metadata": {},
   "outputs": [],
   "source": [
    "fnames = ['dog.{}.jpg'.format(i) for i in range(10000, 12500)]\n",
    "for fname in fnames:\n",
    "    src = os.path.join(original_dataset_dir, fname)\n",
    "    dst = os.path.join(test_dogs_dir, fname)\n",
    "    shutil.copyfile(src, dst)"
   ]
  },
  {
   "cell_type": "code",
   "execution_count": 10,
   "id": "c04d2483",
   "metadata": {},
   "outputs": [
    {
     "name": "stdout",
     "output_type": "stream",
     "text": [
      "훈련용 고양이 이미지 전체 개수: 10000\n",
      "훈련용 강아지 이미지 전체 개수: 10000\n",
      "테스트용 고양이 이미지 전체 개수: 2500\n",
      "테스트용 강아지 이미지 전체 개수: 2500\n"
     ]
    }
   ],
   "source": [
    "print('훈련용 고양이 이미지 전체 개수:', len(os.listdir(train_cats_dir)))\n",
    "print('훈련용 강아지 이미지 전체 개수:', len(os.listdir(train_dogs_dir)))\n",
    "print('테스트용 고양이 이미지 전체 개수:', len(os.listdir(test_cats_dir)))\n",
    "print('테스트용 강아지 이미지 전체 개수:', len(os.listdir(test_dogs_dir)))"
   ]
  },
  {
   "cell_type": "code",
   "execution_count": 11,
   "id": "72433517",
   "metadata": {},
   "outputs": [],
   "source": [
    "from tensorflow.keras import models, layers"
   ]
  },
  {
   "cell_type": "code",
   "execution_count": 12,
   "id": "caf01434",
   "metadata": {},
   "outputs": [],
   "source": [
    "model = models.Sequential()\n",
    "model.add(layers.Conv2D(32, (3,3), input_shape=(150, 150, 3), activation='relu'))  # input_shape; jpg마다 가로세로 픽셀크기가 다름\n",
    "model.add(layers.MaxPooling2D((2,2)))\n",
    "model.add(layers.Conv2D(64, (3,3), activation='relu'))\n",
    "model.add(layers.MaxPooling2D((2,2)))\n",
    "model.add(layers.Conv2D(128, (3,3), activation='relu'))\n",
    "model.add(layers.MaxPooling2D((2,2)))\n",
    "model.add(layers.Conv2D(128, (3,3), activation='relu'))\n",
    "model.add(layers.MaxPooling2D((2,2)))\n",
    "model.add(layers.Flatten())  # Dense에 넣기 위해\n",
    "model.add(layers.Dropout(0.5))\n",
    "model.add(layers.Dense(512, activation='relu'))\n",
    "model.add(layers.Dense(1, activation='sigmoid'))"
   ]
  },
  {
   "cell_type": "code",
   "execution_count": 13,
   "id": "97933157",
   "metadata": {
    "scrolled": false
   },
   "outputs": [
    {
     "name": "stdout",
     "output_type": "stream",
     "text": [
      "Model: \"sequential\"\n",
      "_________________________________________________________________\n",
      " Layer (type)                Output Shape              Param #   \n",
      "=================================================================\n",
      " conv2d (Conv2D)             (None, 148, 148, 32)      896       \n",
      "                                                                 \n",
      " max_pooling2d (MaxPooling2D  (None, 74, 74, 32)       0         \n",
      " )                                                               \n",
      "                                                                 \n",
      " conv2d_1 (Conv2D)           (None, 72, 72, 64)        18496     \n",
      "                                                                 \n",
      " max_pooling2d_1 (MaxPooling  (None, 36, 36, 64)       0         \n",
      " 2D)                                                             \n",
      "                                                                 \n",
      " conv2d_2 (Conv2D)           (None, 34, 34, 128)       73856     \n",
      "                                                                 \n",
      " max_pooling2d_2 (MaxPooling  (None, 17, 17, 128)      0         \n",
      " 2D)                                                             \n",
      "                                                                 \n",
      " conv2d_3 (Conv2D)           (None, 15, 15, 128)       147584    \n",
      "                                                                 \n",
      " max_pooling2d_3 (MaxPooling  (None, 7, 7, 128)        0         \n",
      " 2D)                                                             \n",
      "                                                                 \n",
      " flatten (Flatten)           (None, 6272)              0         \n",
      "                                                                 \n",
      " dropout (Dropout)           (None, 6272)              0         \n",
      "                                                                 \n",
      " dense (Dense)               (None, 512)               3211776   \n",
      "                                                                 \n",
      " dense_1 (Dense)             (None, 1)                 513       \n",
      "                                                                 \n",
      "=================================================================\n",
      "Total params: 3,453,121\n",
      "Trainable params: 3,453,121\n",
      "Non-trainable params: 0\n",
      "_________________________________________________________________\n"
     ]
    }
   ],
   "source": [
    "model.summary()"
   ]
  },
  {
   "cell_type": "markdown",
   "id": "586f171a",
   "metadata": {},
   "source": [
    "* Conv2D 32\n",
    "input 3 (150 150)   \n",
    "weight 9 (3 3)   \n",
    "bias 32 (1 32)   \n",
    "output 32 (148 148)   \n",
    "param 896 =  (3*9*32) + (1*32)   \n",
    "   \n",
    "* MaxPooling2D   \n",
    "input 32 (148 148)   \n",
    "output 32 (74 74)   \n",
    "\n",
    "* Conv2D 64   \n",
    "input 32 (74 74)   \n",
    "weight 9 (3 3)   \n",
    "bias 64 (1 64)   \n",
    "output 64 (72 72)   \n",
    "param 18496 =  (32*9*64) + (1*64)   \n",
    "\n",
    "* MaxPooling2D   \n",
    "input 64 (72 72)   \n",
    "output 64 (36 36)   \n",
    "\n",
    "* Conv2D 128   \n",
    "input 64 (36 36)   \n",
    "weight 9 (3 3)    \n",
    "bias 128 (1 128)   \n",
    "output 128 (34 34)   \n",
    "param 73856 =  (64*9*128) + (1*128)    \n",
    "\n",
    "* MaxPooling2D   \n",
    "input 128 (34 34)   \n",
    "output 128 (17 17)   \n",
    "\n",
    "* Conv2D 128   \n",
    "input 128 (17 17)   \n",
    "weight 9 (3 3)    \n",
    "bias 128 (1 128)   \n",
    "output 128 (15 15)   \n",
    "param 147584 =  (128*9*128) + (1*128)   \n",
    "\n",
    "* MaxPooling2D   \n",
    "input 128 (15 15)   \n",
    "output 128 (7 7)   \n",
    "\n",
    "* Flatten   \n",
    "input 128 (7 7)   \n",
    "output 6272 = (7*7*128)   \n",
    "\n",
    "* Dense 512   \n",
    "input 6272   \n",
    "weight 512 (6272 512)    \n",
    "bias 512 (1 512)   \n",
    "output 512   \n",
    "param 3211776 =  (6272*512) + (1*512)   \n",
    "\n",
    "* Dense 1   \n",
    "input 512   \n",
    "weight 1 (512 1)    \n",
    "bias 1 (1 1)   \n",
    "output 1   \n",
    "param 513 =  (512*1) + (1*1)   "
   ]
  },
  {
   "cell_type": "code",
   "execution_count": 15,
   "id": "b2e7f265",
   "metadata": {},
   "outputs": [],
   "source": [
    "model.compile(loss='binary_crossentropy', optimizer='adam', metrics=['accuracy'])"
   ]
  },
  {
   "cell_type": "code",
   "execution_count": 17,
   "id": "83a0c63d",
   "metadata": {
    "scrolled": true
   },
   "outputs": [
    {
     "name": "stdout",
     "output_type": "stream",
     "text": [
      "Found 20000 images belonging to 2 classes.\n",
      "Found 5000 images belonging to 2 classes.\n"
     ]
    }
   ],
   "source": [
    "from tensorflow.keras.preprocessing.image import ImageDataGenerator\n",
    "\n",
    "train_datagen = ImageDataGenerator(rescale=1./255)  # 입력 feature를 0~1로 맞추기 위해, 소수 출력을 위해 1. 실수로 표기\n",
    "test_datagen = ImageDataGenerator(rescale=1./255)\n",
    "\n",
    "train_generator = train_datagen.flow_from_directory(\n",
    "    train_dir,  # 학습용 데이터 위치 지정\n",
    "    target_size=(150, 150),  # target 내의 jpg 크기 지정\n",
    "    batch_size=20,\n",
    "    class_mode='binary'  # 2개 클래스니까 cats, dogs, target[0]=cats, target[1]=dogs 알아서 레이블링 \n",
    ")\n",
    "\n",
    "validation_generator = test_datagen.flow_from_directory(\n",
    "    test_dir,\n",
    "    target_size=(150, 150), \n",
    "    batch_size=20,\n",
    "    class_mode='binary' \n",
    ")"
   ]
  },
  {
   "cell_type": "code",
   "execution_count": 18,
   "id": "c40ca555",
   "metadata": {},
   "outputs": [
    {
     "name": "stdout",
     "output_type": "stream",
     "text": [
      "Epoch 1/30\n",
      "1000/1000 [==============================] - 391s 390ms/step - loss: 0.6640 - accuracy: 0.5849 - val_loss: 0.5904 - val_accuracy: 0.6778\n",
      "Epoch 2/30\n",
      "1000/1000 [==============================] - 240s 240ms/step - loss: 0.5680 - accuracy: 0.7000 - val_loss: 0.5345 - val_accuracy: 0.7240\n",
      "Epoch 3/30\n",
      "1000/1000 [==============================] - 257s 257ms/step - loss: 0.4791 - accuracy: 0.7723 - val_loss: 0.4155 - val_accuracy: 0.8172\n",
      "Epoch 4/30\n",
      "1000/1000 [==============================] - 247s 247ms/step - loss: 0.3868 - accuracy: 0.8238 - val_loss: 0.3586 - val_accuracy: 0.8416\n",
      "Epoch 5/30\n",
      "1000/1000 [==============================] - 308s 308ms/step - loss: 0.3274 - accuracy: 0.8572 - val_loss: 0.3023 - val_accuracy: 0.8676\n",
      "Epoch 6/30\n",
      "1000/1000 [==============================] - 236s 236ms/step - loss: 0.2795 - accuracy: 0.8800 - val_loss: 0.2837 - val_accuracy: 0.8774\n",
      "Epoch 7/30\n",
      "1000/1000 [==============================] - 237s 237ms/step - loss: 0.2470 - accuracy: 0.8957 - val_loss: 0.2613 - val_accuracy: 0.8906\n",
      "Epoch 8/30\n",
      "1000/1000 [==============================] - 216s 216ms/step - loss: 0.2146 - accuracy: 0.9089 - val_loss: 0.2633 - val_accuracy: 0.8886\n",
      "Epoch 9/30\n",
      "1000/1000 [==============================] - 227s 227ms/step - loss: 0.1902 - accuracy: 0.9217 - val_loss: 0.2407 - val_accuracy: 0.8984\n",
      "Epoch 10/30\n",
      "1000/1000 [==============================] - 250s 250ms/step - loss: 0.1752 - accuracy: 0.9281 - val_loss: 0.2534 - val_accuracy: 0.9004\n",
      "Epoch 11/30\n",
      "1000/1000 [==============================] - 233s 233ms/step - loss: 0.1624 - accuracy: 0.9334 - val_loss: 0.2429 - val_accuracy: 0.9032\n",
      "Epoch 12/30\n",
      "1000/1000 [==============================] - 233s 233ms/step - loss: 0.1475 - accuracy: 0.9399 - val_loss: 0.2346 - val_accuracy: 0.9092\n",
      "Epoch 13/30\n",
      "1000/1000 [==============================] - 234s 234ms/step - loss: 0.1317 - accuracy: 0.9471 - val_loss: 0.2325 - val_accuracy: 0.9052\n",
      "Epoch 14/30\n",
      "1000/1000 [==============================] - 223s 223ms/step - loss: 0.1213 - accuracy: 0.9513 - val_loss: 0.2375 - val_accuracy: 0.9036\n",
      "Epoch 15/30\n",
      "1000/1000 [==============================] - 221s 221ms/step - loss: 0.1135 - accuracy: 0.9538 - val_loss: 0.3028 - val_accuracy: 0.8898\n",
      "Epoch 16/30\n",
      "1000/1000 [==============================] - 221s 221ms/step - loss: 0.1051 - accuracy: 0.9595 - val_loss: 0.2559 - val_accuracy: 0.9062\n",
      "Epoch 17/30\n",
      "1000/1000 [==============================] - 222s 222ms/step - loss: 0.0945 - accuracy: 0.9629 - val_loss: 0.2653 - val_accuracy: 0.9030\n",
      "Epoch 18/30\n",
      "1000/1000 [==============================] - 224s 224ms/step - loss: 0.0956 - accuracy: 0.9638 - val_loss: 0.2629 - val_accuracy: 0.9026\n",
      "Epoch 19/30\n",
      "1000/1000 [==============================] - 223s 223ms/step - loss: 0.0872 - accuracy: 0.9669 - val_loss: 0.2810 - val_accuracy: 0.8966\n",
      "Epoch 20/30\n",
      "1000/1000 [==============================] - 219s 219ms/step - loss: 0.0872 - accuracy: 0.9671 - val_loss: 0.2659 - val_accuracy: 0.9122\n",
      "Epoch 21/30\n",
      "1000/1000 [==============================] - 218s 218ms/step - loss: 0.0789 - accuracy: 0.9704 - val_loss: 0.2511 - val_accuracy: 0.9020\n",
      "Epoch 22/30\n",
      "1000/1000 [==============================] - 223s 223ms/step - loss: 0.0810 - accuracy: 0.9700 - val_loss: 0.2609 - val_accuracy: 0.9118\n",
      "Epoch 23/30\n",
      "1000/1000 [==============================] - 252s 252ms/step - loss: 0.0737 - accuracy: 0.9743 - val_loss: 0.2945 - val_accuracy: 0.9084\n",
      "Epoch 24/30\n",
      "1000/1000 [==============================] - 237s 237ms/step - loss: 0.0700 - accuracy: 0.9744 - val_loss: 0.2871 - val_accuracy: 0.9122\n",
      "Epoch 25/30\n",
      "1000/1000 [==============================] - 224s 224ms/step - loss: 0.0655 - accuracy: 0.9755 - val_loss: 0.2664 - val_accuracy: 0.9068\n",
      "Epoch 26/30\n",
      "1000/1000 [==============================] - 228s 228ms/step - loss: 0.0666 - accuracy: 0.9768 - val_loss: 0.2924 - val_accuracy: 0.9072\n",
      "Epoch 27/30\n",
      "1000/1000 [==============================] - 227s 227ms/step - loss: 0.0656 - accuracy: 0.9747 - val_loss: 0.2817 - val_accuracy: 0.9054\n",
      "Epoch 28/30\n",
      "1000/1000 [==============================] - 232s 232ms/step - loss: 0.0626 - accuracy: 0.9779 - val_loss: 0.2909 - val_accuracy: 0.9060\n",
      "Epoch 29/30\n",
      "1000/1000 [==============================] - 223s 223ms/step - loss: 0.0597 - accuracy: 0.9789 - val_loss: 0.3078 - val_accuracy: 0.9026\n",
      "Epoch 30/30\n",
      "1000/1000 [==============================] - 240s 240ms/step - loss: 0.0550 - accuracy: 0.9809 - val_loss: 0.2977 - val_accuracy: 0.9080\n"
     ]
    },
    {
     "data": {
      "text/plain": [
       "<keras.callbacks.History at 0x2a7e8f09ca0>"
      ]
     },
     "execution_count": 18,
     "metadata": {},
     "output_type": "execute_result"
    }
   ],
   "source": [
    "history = model.fit(\n",
    "    train_generator,\n",
    "    epochs=30,\n",
    "    validation_data = validation_generator\n",
    ")"
   ]
  },
  {
   "cell_type": "markdown",
   "id": "1af6ad4d",
   "metadata": {},
   "source": [
    "32개의 결과를 얻기 위해 1장의 커널을 사용하지 않고 32장의 커널을 사용하는 이유는,   \n",
    "각 층의 여러 개 kernal을 두면 세밀해지기 때문이다.     \n",
    "그러나 kernel의 수와 세밀함은 비례하지 않다."
   ]
  },
  {
   "cell_type": "code",
   "execution_count": 19,
   "id": "badb0208",
   "metadata": {},
   "outputs": [
    {
     "ename": "NameError",
     "evalue": "name 'history' is not defined",
     "output_type": "error",
     "traceback": [
      "\u001b[1;31m---------------------------------------------------------------------------\u001b[0m",
      "\u001b[1;31mNameError\u001b[0m                                 Traceback (most recent call last)",
      "Cell \u001b[1;32mIn[19], line 1\u001b[0m\n\u001b[1;32m----> 1\u001b[0m acc \u001b[38;5;241m=\u001b[39m \u001b[43mhistory\u001b[49m\u001b[38;5;241m.\u001b[39mhistory[\u001b[38;5;124m'\u001b[39m\u001b[38;5;124maccuracy\u001b[39m\u001b[38;5;124m'\u001b[39m]\n\u001b[0;32m      2\u001b[0m val_acc \u001b[38;5;241m=\u001b[39m history\u001b[38;5;241m.\u001b[39mhistory[\u001b[38;5;124m'\u001b[39m\u001b[38;5;124mval_accuracy\u001b[39m\u001b[38;5;124m'\u001b[39m]\n\u001b[0;32m      3\u001b[0m loss \u001b[38;5;241m=\u001b[39m history\u001b[38;5;241m.\u001b[39mhistory[\u001b[38;5;124m'\u001b[39m\u001b[38;5;124mloss\u001b[39m\u001b[38;5;124m'\u001b[39m]\n",
      "\u001b[1;31mNameError\u001b[0m: name 'history' is not defined"
     ]
    }
   ],
   "source": [
    "acc = history.history['accuracy']\n",
    "val_acc = history.history['val_accuracy']\n",
    "loss = history.history['loss']\n",
    "val_loss = history.history['val_loss']\n",
    "\n",
    "epochs = range(len(acc))\n",
    "\n",
    "plt.plot(epochs, acc, 'ro', label='Training acc')\n",
    "plt.plot(epochs, val_acc, 'b', label='Validation acc')\n",
    "plt.title('Training and validation accuracy')\n",
    "plt.legend()\n",
    "\n",
    "plt.figure()\n",
    "\n",
    "plt.plot(epochs, loss, 'ro', label='Training loss')\n",
    "plt.plot(epochs, val_loss, 'b', label='Validation loss')\n",
    "plt.title('Training and validation loss')\n",
    "plt.legend()\n",
    "\n",
    "plt.show()"
   ]
  }
 ],
 "metadata": {
  "kernelspec": {
   "display_name": "Python 3 (ipykernel)",
   "language": "python",
   "name": "python3"
  },
  "language_info": {
   "codemirror_mode": {
    "name": "ipython",
    "version": 3
   },
   "file_extension": ".py",
   "mimetype": "text/x-python",
   "name": "python",
   "nbconvert_exporter": "python",
   "pygments_lexer": "ipython3",
   "version": "3.8.15"
  }
 },
 "nbformat": 4,
 "nbformat_minor": 5
}
