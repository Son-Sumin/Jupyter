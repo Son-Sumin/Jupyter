{
 "cells": [
  {
   "cell_type": "markdown",
   "id": "71ee66e0",
   "metadata": {},
   "source": [
    "## 컨볼루션 신경망(Convolutional Neural Network, CNN) 예제"
   ]
  },
  {
   "cell_type": "code",
   "execution_count": 2,
   "id": "2ac75419",
   "metadata": {},
   "outputs": [],
   "source": [
    "import os, shutil"
   ]
  },
  {
   "cell_type": "code",
   "execution_count": 2,
   "id": "eea3b39b",
   "metadata": {},
   "outputs": [],
   "source": [
    "original_dataset_dir='./train'\n",
    "\n",
    "base_dir = './data/cats_and_dogs'\n",
    "if not os.path.exists(base_dir):\n",
    "    os.mkdir(base_dir)"
   ]
  },
  {
   "cell_type": "code",
   "execution_count": 3,
   "id": "c5365826",
   "metadata": {},
   "outputs": [],
   "source": [
    "train_dir = os.path.join(base_dir, 'train')\n",
    "if not os.path.exists(train_dir):\n",
    "    os.mkdir(train_dir)\n",
    "    \n",
    "test_dir = os.path.join(base_dir, 'test')\n",
    "if not os.path.exists(test_dir):\n",
    "    os.mkdir(test_dir)"
   ]
  },
  {
   "cell_type": "code",
   "execution_count": 4,
   "id": "1f2da96c",
   "metadata": {},
   "outputs": [],
   "source": [
    "train_cats_dir = os.path.join(train_dir, 'cats')\n",
    "if not os.path.exists(train_cats_dir):\n",
    "    os.mkdir(train_cats_dir)\n",
    "    \n",
    "train_dogs_dir = os.path.join(train_dir, 'dogs')\n",
    "if not os.path.exists(train_dogs_dir):\n",
    "    os.mkdir(train_dogs_dir)"
   ]
  },
  {
   "cell_type": "code",
   "execution_count": 5,
   "id": "62783126",
   "metadata": {},
   "outputs": [],
   "source": [
    "test_cats_dir = os.path.join(test_dir, 'cats')\n",
    "if not os.path.exists(test_cats_dir):\n",
    "    os.mkdir(test_cats_dir)\n",
    "\n",
    "test_dogs_dir = os.path.join(test_dir, 'dogs')\n",
    "if not os.path.exists(test_dogs_dir):\n",
    "    os.mkdir(test_dogs_dir)"
   ]
  },
  {
   "cell_type": "code",
   "execution_count": 6,
   "id": "6327ca6f",
   "metadata": {},
   "outputs": [],
   "source": [
    "# test set과 train set 나누기\n",
    "\n",
    "fnames = ['cat.{}.jpg'.format(i) for i in range(10000)]\n",
    "for fname in fnames:\n",
    "    src = os.path.join(original_dataset_dir, fname)\n",
    "    dst = os.path.join(train_cats_dir, fname)\n",
    "    shutil.copyfile(src, dst)"
   ]
  },
  {
   "cell_type": "code",
   "execution_count": 7,
   "id": "453c1132",
   "metadata": {},
   "outputs": [],
   "source": [
    "fnames = ['cat.{}.jpg'.format(i) for i in range(10000, 12500)]\n",
    "for fname in fnames:\n",
    "    src = os.path.join(original_dataset_dir, fname)\n",
    "    dst = os.path.join(test_cats_dir, fname)\n",
    "    shutil.copyfile(src, dst)"
   ]
  },
  {
   "cell_type": "code",
   "execution_count": 8,
   "id": "5ca10e45",
   "metadata": {},
   "outputs": [],
   "source": [
    "fnames = ['dog.{}.jpg'.format(i) for i in range(10000)]\n",
    "for fname in fnames:\n",
    "    src = os.path.join(original_dataset_dir, fname)\n",
    "    dst = os.path.join(train_dogs_dir, fname)\n",
    "    shutil.copyfile(src, dst)"
   ]
  },
  {
   "cell_type": "code",
   "execution_count": 9,
   "id": "c2f42a9d",
   "metadata": {},
   "outputs": [],
   "source": [
    "fnames = ['dog.{}.jpg'.format(i) for i in range(10000, 12500)]\n",
    "for fname in fnames:\n",
    "    src = os.path.join(original_dataset_dir, fname)\n",
    "    dst = os.path.join(test_dogs_dir, fname)\n",
    "    shutil.copyfile(src, dst)"
   ]
  },
  {
   "cell_type": "code",
   "execution_count": 10,
   "id": "c04d2483",
   "metadata": {},
   "outputs": [
    {
     "name": "stdout",
     "output_type": "stream",
     "text": [
      "훈련용 고양이 이미지 전체 개수: 10000\n",
      "훈련용 강아지 이미지 전체 개수: 10000\n",
      "테스트용 고양이 이미지 전체 개수: 2500\n",
      "테스트용 강아지 이미지 전체 개수: 2500\n"
     ]
    }
   ],
   "source": [
    "print('훈련용 고양이 이미지 전체 개수:', len(os.listdir(train_cats_dir)))\n",
    "print('훈련용 강아지 이미지 전체 개수:', len(os.listdir(train_dogs_dir)))\n",
    "print('테스트용 고양이 이미지 전체 개수:', len(os.listdir(test_cats_dir)))\n",
    "print('테스트용 강아지 이미지 전체 개수:', len(os.listdir(test_dogs_dir)))"
   ]
  },
  {
   "cell_type": "code",
   "execution_count": 11,
   "id": "72433517",
   "metadata": {},
   "outputs": [],
   "source": [
    "from tensorflow.keras import models, layers, callbacks"
   ]
  },
  {
   "cell_type": "code",
   "execution_count": 12,
   "id": "caf01434",
   "metadata": {},
   "outputs": [],
   "source": [
    "model = models.Sequential()\n",
    "model.add(layers.Conv2D(32, (3,3), input_shape=(150, 150, 3), activation='relu'))  # input_shape; jpg마다 가로세로 픽셀크기가 다름\n",
    "model.add(layers.MaxPooling2D((2,2)))\n",
    "model.add(layers.Conv2D(64, (3,3), activation='relu'))\n",
    "model.add(layers.MaxPooling2D((2,2)))\n",
    "model.add(layers.Conv2D(128, (3,3), activation='relu'))\n",
    "model.add(layers.MaxPooling2D((2,2)))\n",
    "model.add(layers.Conv2D(128, (3,3), activation='relu'))\n",
    "model.add(layers.MaxPooling2D((2,2)))\n",
    "model.add(layers.Flatten())  # Dense에 넣기 위해\n",
    "model.add(layers.Dropout(0.5))\n",
    "model.add(layers.Dense(512, activation='relu'))\n",
    "model.add(layers.Dense(1, activation='sigmoid'))"
   ]
  },
  {
   "cell_type": "code",
   "execution_count": 13,
   "id": "97933157",
   "metadata": {
    "scrolled": false
   },
   "outputs": [
    {
     "name": "stdout",
     "output_type": "stream",
     "text": [
      "Model: \"sequential\"\n",
      "_________________________________________________________________\n",
      " Layer (type)                Output Shape              Param #   \n",
      "=================================================================\n",
      " conv2d (Conv2D)             (None, 148, 148, 32)      896       \n",
      "                                                                 \n",
      " max_pooling2d (MaxPooling2D  (None, 74, 74, 32)       0         \n",
      " )                                                               \n",
      "                                                                 \n",
      " conv2d_1 (Conv2D)           (None, 72, 72, 64)        18496     \n",
      "                                                                 \n",
      " max_pooling2d_1 (MaxPooling  (None, 36, 36, 64)       0         \n",
      " 2D)                                                             \n",
      "                                                                 \n",
      " conv2d_2 (Conv2D)           (None, 34, 34, 128)       73856     \n",
      "                                                                 \n",
      " max_pooling2d_2 (MaxPooling  (None, 17, 17, 128)      0         \n",
      " 2D)                                                             \n",
      "                                                                 \n",
      " conv2d_3 (Conv2D)           (None, 15, 15, 128)       147584    \n",
      "                                                                 \n",
      " max_pooling2d_3 (MaxPooling  (None, 7, 7, 128)        0         \n",
      " 2D)                                                             \n",
      "                                                                 \n",
      " flatten (Flatten)           (None, 6272)              0         \n",
      "                                                                 \n",
      " dropout (Dropout)           (None, 6272)              0         \n",
      "                                                                 \n",
      " dense (Dense)               (None, 512)               3211776   \n",
      "                                                                 \n",
      " dense_1 (Dense)             (None, 1)                 513       \n",
      "                                                                 \n",
      "=================================================================\n",
      "Total params: 3,453,121\n",
      "Trainable params: 3,453,121\n",
      "Non-trainable params: 0\n",
      "_________________________________________________________________\n"
     ]
    }
   ],
   "source": [
    "model.summary()"
   ]
  },
  {
   "cell_type": "markdown",
   "id": "586f171a",
   "metadata": {},
   "source": [
    "* Conv2D 32\n",
    "input 3 (150 150)   \n",
    "weight 9 (3 3)   \n",
    "bias 32 (1 32)   \n",
    "output 32 (148 148)   \n",
    "param 896 =  (3*9*32) + (1*32)   \n",
    "   \n",
    "* MaxPooling2D   \n",
    "input 32 (148 148)   \n",
    "output 32 (74 74)   \n",
    "\n",
    "* Conv2D 64   \n",
    "input 32 (74 74)   \n",
    "weight 9 (3 3)   \n",
    "bias 64 (1 64)   \n",
    "output 64 (72 72)   \n",
    "param 18496 =  (32*9*64) + (1*64)   \n",
    "\n",
    "* MaxPooling2D   \n",
    "input 64 (72 72)   \n",
    "output 64 (36 36)   \n",
    "\n",
    "* Conv2D 128   \n",
    "input 64 (36 36)   \n",
    "weight 9 (3 3)    \n",
    "bias 128 (1 128)   \n",
    "output 128 (34 34)   \n",
    "param 73856 =  (64*9*128) + (1*128)    \n",
    "\n",
    "* MaxPooling2D   \n",
    "input 128 (34 34)   \n",
    "output 128 (17 17)   \n",
    "\n",
    "* Conv2D 128   \n",
    "input 128 (17 17)   \n",
    "weight 9 (3 3)    \n",
    "bias 128 (1 128)   \n",
    "output 128 (15 15)   \n",
    "param 147584 =  (128*9*128) + (1*128)   \n",
    "\n",
    "* MaxPooling2D   \n",
    "input 128 (15 15)   \n",
    "output 128 (7 7)   \n",
    "\n",
    "* Flatten   \n",
    "input 128 (7 7)   \n",
    "output 6272 = (7*7*128)   \n",
    "\n",
    "* Dense 512   \n",
    "input 6272   \n",
    "weight 512 (6272 512)    \n",
    "bias 512 (1 512)   \n",
    "output 512   \n",
    "param 3211776 =  (6272*512) + (1*512)   \n",
    "\n",
    "* Dense 1   \n",
    "input 512   \n",
    "weight 1 (512 1)    \n",
    "bias 1 (1 1)   \n",
    "output 1   \n",
    "param 513 =  (512*1) + (1*1)   "
   ]
  },
  {
   "cell_type": "code",
   "execution_count": 14,
   "id": "b2e7f265",
   "metadata": {},
   "outputs": [],
   "source": [
    "model.compile(loss='binary_crossentropy', optimizer='adam', metrics=['accuracy'])"
   ]
  },
  {
   "cell_type": "code",
   "execution_count": 15,
   "id": "83a0c63d",
   "metadata": {
    "scrolled": true
   },
   "outputs": [
    {
     "name": "stdout",
     "output_type": "stream",
     "text": [
      "Found 20000 images belonging to 2 classes.\n",
      "Found 5000 images belonging to 2 classes.\n"
     ]
    }
   ],
   "source": [
    "from tensorflow.keras.preprocessing.image import ImageDataGenerator\n",
    "\n",
    "train_datagen = ImageDataGenerator(rescale=1./255)  # 입력 feature를 0~1로 맞추기 위해, 소수 출력을 위해 1. 실수로 표기\n",
    "test_datagen = ImageDataGenerator(rescale=1./255)\n",
    "\n",
    "train_generator = train_datagen.flow_from_directory(\n",
    "    train_dir,  # 학습용 데이터 위치 지정\n",
    "    target_size=(150, 150),  # target 내의 jpg 크기 지정\n",
    "    batch_size=20,\n",
    "    class_mode='binary'  # 2개 클래스니까 cats, dogs, target[0]=cats, target[1]=dogs 알아서 레이블링 \n",
    ")\n",
    "\n",
    "validation_generator = test_datagen.flow_from_directory(\n",
    "    test_dir,\n",
    "    target_size=(150, 150), \n",
    "    batch_size=20,\n",
    "    class_mode='binary' \n",
    ")"
   ]
  },
  {
   "cell_type": "code",
   "execution_count": 16,
   "id": "c40ca555",
   "metadata": {
    "scrolled": true
   },
   "outputs": [
    {
     "name": "stdout",
     "output_type": "stream",
     "text": [
      "Epoch 1/30\n",
      "1000/1000 [==============================] - 278s 276ms/step - loss: 0.6620 - accuracy: 0.5877 - val_loss: 0.6470 - val_accuracy: 0.6174\n",
      "Epoch 2/30\n",
      "1000/1000 [==============================] - 221s 221ms/step - loss: 0.5599 - accuracy: 0.7091 - val_loss: 0.4919 - val_accuracy: 0.7562\n",
      "Epoch 3/30\n",
      "1000/1000 [==============================] - 218s 218ms/step - loss: 0.4725 - accuracy: 0.7745 - val_loss: 0.4350 - val_accuracy: 0.7980\n",
      "Epoch 4/30\n",
      "1000/1000 [==============================] - 220s 220ms/step - loss: 0.3986 - accuracy: 0.8212 - val_loss: 0.3884 - val_accuracy: 0.8280\n",
      "Epoch 5/30\n",
      "1000/1000 [==============================] - 231s 231ms/step - loss: 0.3507 - accuracy: 0.8461 - val_loss: 0.3362 - val_accuracy: 0.8492\n",
      "Epoch 6/30\n",
      "1000/1000 [==============================] - 220s 220ms/step - loss: 0.3004 - accuracy: 0.8728 - val_loss: 0.2994 - val_accuracy: 0.8724\n",
      "Epoch 7/30\n",
      "1000/1000 [==============================] - 220s 220ms/step - loss: 0.2597 - accuracy: 0.8886 - val_loss: 0.2776 - val_accuracy: 0.8858\n",
      "Epoch 8/30\n",
      "1000/1000 [==============================] - 227s 227ms/step - loss: 0.2260 - accuracy: 0.9068 - val_loss: 0.2906 - val_accuracy: 0.8734\n",
      "Epoch 9/30\n",
      "1000/1000 [==============================] - 223s 223ms/step - loss: 0.1979 - accuracy: 0.9188 - val_loss: 0.2654 - val_accuracy: 0.8916\n",
      "Epoch 10/30\n",
      "1000/1000 [==============================] - 226s 226ms/step - loss: 0.1850 - accuracy: 0.9263 - val_loss: 0.2729 - val_accuracy: 0.8832\n",
      "Epoch 11/30\n",
      "1000/1000 [==============================] - 226s 226ms/step - loss: 0.1636 - accuracy: 0.9335 - val_loss: 0.3011 - val_accuracy: 0.8774\n",
      "Epoch 12/30\n",
      "1000/1000 [==============================] - 228s 228ms/step - loss: 0.1396 - accuracy: 0.9439 - val_loss: 0.3077 - val_accuracy: 0.8866\n",
      "Epoch 13/30\n",
      "1000/1000 [==============================] - 233s 233ms/step - loss: 0.1310 - accuracy: 0.9481 - val_loss: 0.2660 - val_accuracy: 0.8942\n",
      "Epoch 14/30\n",
      "1000/1000 [==============================] - 220s 220ms/step - loss: 0.1090 - accuracy: 0.9582 - val_loss: 0.2821 - val_accuracy: 0.8934\n",
      "Epoch 15/30\n",
      "1000/1000 [==============================] - 219s 219ms/step - loss: 0.1030 - accuracy: 0.9600 - val_loss: 0.2985 - val_accuracy: 0.9002\n",
      "Epoch 16/30\n",
      "1000/1000 [==============================] - 223s 223ms/step - loss: 0.0918 - accuracy: 0.9664 - val_loss: 0.3287 - val_accuracy: 0.8866\n",
      "Epoch 17/30\n",
      "1000/1000 [==============================] - 236s 236ms/step - loss: 0.0884 - accuracy: 0.9675 - val_loss: 0.3039 - val_accuracy: 0.9020\n",
      "Epoch 18/30\n",
      "1000/1000 [==============================] - 222s 221ms/step - loss: 0.0823 - accuracy: 0.9700 - val_loss: 0.3108 - val_accuracy: 0.8932\n",
      "Epoch 19/30\n",
      "1000/1000 [==============================] - 223s 223ms/step - loss: 0.0796 - accuracy: 0.9710 - val_loss: 0.3046 - val_accuracy: 0.8944\n",
      "Epoch 20/30\n",
      "1000/1000 [==============================] - 226s 226ms/step - loss: 0.0685 - accuracy: 0.9748 - val_loss: 0.2913 - val_accuracy: 0.8956\n",
      "Epoch 21/30\n",
      "1000/1000 [==============================] - 223s 223ms/step - loss: 0.0717 - accuracy: 0.9724 - val_loss: 0.3219 - val_accuracy: 0.8966\n",
      "Epoch 22/30\n",
      "1000/1000 [==============================] - 216s 216ms/step - loss: 0.0677 - accuracy: 0.9773 - val_loss: 0.2917 - val_accuracy: 0.8980\n",
      "Epoch 23/30\n",
      "1000/1000 [==============================] - 216s 216ms/step - loss: 0.0631 - accuracy: 0.9779 - val_loss: 0.3373 - val_accuracy: 0.8920\n",
      "Epoch 24/30\n",
      "1000/1000 [==============================] - 216s 215ms/step - loss: 0.0604 - accuracy: 0.9782 - val_loss: 0.3478 - val_accuracy: 0.9002\n",
      "Epoch 25/30\n",
      "1000/1000 [==============================] - 216s 216ms/step - loss: 0.0567 - accuracy: 0.9809 - val_loss: 0.3853 - val_accuracy: 0.8972\n",
      "Epoch 26/30\n",
      "1000/1000 [==============================] - 216s 216ms/step - loss: 0.0580 - accuracy: 0.9801 - val_loss: 0.3570 - val_accuracy: 0.8996\n",
      "Epoch 27/30\n",
      "1000/1000 [==============================] - 216s 216ms/step - loss: 0.0547 - accuracy: 0.9811 - val_loss: 0.3106 - val_accuracy: 0.8998\n",
      "Epoch 28/30\n",
      "1000/1000 [==============================] - 216s 216ms/step - loss: 0.0578 - accuracy: 0.9803 - val_loss: 0.3274 - val_accuracy: 0.8974\n",
      "Epoch 29/30\n",
      "1000/1000 [==============================] - 215s 215ms/step - loss: 0.0559 - accuracy: 0.9809 - val_loss: 0.3843 - val_accuracy: 0.9030\n",
      "Epoch 30/30\n",
      "1000/1000 [==============================] - 215s 215ms/step - loss: 0.0529 - accuracy: 0.9823 - val_loss: 0.3708 - val_accuracy: 0.9016\n"
     ]
    }
   ],
   "source": [
    "history = model.fit(\n",
    "    train_generator,\n",
    "    epochs=30,\n",
    "    validation_data = validation_generator\n",
    ")"
   ]
  },
  {
   "cell_type": "markdown",
   "id": "1af6ad4d",
   "metadata": {},
   "source": [
    "32개의 결과를 얻기 위해 1장의 커널을 사용하지 않고 32장의 커널을 사용하는 이유는,   \n",
    "각 층의 여러 개 kernal을 두면 세밀해지기 때문이다.     \n",
    "그러나 kernel의 수와 세밀함은 비례하지 않다."
   ]
  },
  {
   "cell_type": "code",
   "execution_count": 1,
   "id": "badb0208",
   "metadata": {},
   "outputs": [
    {
     "ename": "NameError",
     "evalue": "name 'history' is not defined",
     "output_type": "error",
     "traceback": [
      "\u001b[1;31m---------------------------------------------------------------------------\u001b[0m",
      "\u001b[1;31mNameError\u001b[0m                                 Traceback (most recent call last)",
      "Cell \u001b[1;32mIn[1], line 3\u001b[0m\n\u001b[0;32m      1\u001b[0m \u001b[38;5;28;01mimport\u001b[39;00m \u001b[38;5;21;01mmatplotlib\u001b[39;00m\u001b[38;5;21;01m.\u001b[39;00m\u001b[38;5;21;01mpyplot\u001b[39;00m \u001b[38;5;28;01mas\u001b[39;00m \u001b[38;5;21;01mplt\u001b[39;00m\n\u001b[1;32m----> 3\u001b[0m acc \u001b[38;5;241m=\u001b[39m \u001b[43mhistory\u001b[49m\u001b[38;5;241m.\u001b[39mhistory[\u001b[38;5;124m'\u001b[39m\u001b[38;5;124maccuracy\u001b[39m\u001b[38;5;124m'\u001b[39m]\n\u001b[0;32m      4\u001b[0m val_acc \u001b[38;5;241m=\u001b[39m history\u001b[38;5;241m.\u001b[39mhistory[\u001b[38;5;124m'\u001b[39m\u001b[38;5;124mval_accuracy\u001b[39m\u001b[38;5;124m'\u001b[39m]\n\u001b[0;32m      5\u001b[0m loss \u001b[38;5;241m=\u001b[39m history\u001b[38;5;241m.\u001b[39mhistory[\u001b[38;5;124m'\u001b[39m\u001b[38;5;124mloss\u001b[39m\u001b[38;5;124m'\u001b[39m]\n",
      "\u001b[1;31mNameError\u001b[0m: name 'history' is not defined"
     ]
    }
   ],
   "source": [
    "import matplotlib.pyplot as plt\n",
    "\n",
    "acc = history.history['accuracy']\n",
    "val_acc = history.history['val_accuracy']\n",
    "loss = history.history['loss']\n",
    "val_loss = history.history['val_loss']\n",
    "\n",
    "epochs = range(len(acc))\n",
    "\n",
    "plt.plot(epochs, acc, 'ro', label='Training acc')\n",
    "plt.plot(epochs, val_acc, 'b', label='Validation acc')\n",
    "plt.title('Training and validation accuracy')\n",
    "plt.legend()\n",
    "\n",
    "plt.figure()\n",
    "\n",
    "plt.plot(epochs, loss, 'ro', label='Training loss')\n",
    "plt.plot(epochs, val_loss, 'b', label='Validation loss')\n",
    "plt.title('Training and validation loss')\n",
    "plt.legend()\n",
    "\n",
    "plt.show()"
   ]
  }
 ],
 "metadata": {
  "kernelspec": {
   "display_name": "Python 3 (ipykernel)",
   "language": "python",
   "name": "python3"
  },
  "language_info": {
   "codemirror_mode": {
    "name": "ipython",
    "version": 3
   },
   "file_extension": ".py",
   "mimetype": "text/x-python",
   "name": "python",
   "nbconvert_exporter": "python",
   "pygments_lexer": "ipython3",
   "version": "3.8.15"
  }
 },
 "nbformat": 4,
 "nbformat_minor": 5
}
