{
 "cells": [
  {
   "cell_type": "markdown",
   "id": "8c848be6",
   "metadata": {},
   "source": [
    "# 모두의 딥러닝 개정 3판 \n",
    "## 2장 딥러닝의 핵심 미리 보기"
   ]
  },
  {
   "cell_type": "markdown",
   "id": "3271cdb3",
   "metadata": {},
   "source": [
    "16개 feature   \n",
    "17번째는 target"
   ]
  },
  {
   "cell_type": "code",
   "execution_count": 1,
   "id": "1ed695b5",
   "metadata": {},
   "outputs": [],
   "source": [
    "from tensorflow.keras import models, layers\n",
    "import numpy as np"
   ]
  },
  {
   "cell_type": "code",
   "execution_count": 3,
   "id": "5037b445",
   "metadata": {},
   "outputs": [],
   "source": [
    "data_set = np.loadtxt('data/ThoraricSurgery3.csv', delimiter=',')  # delimiter:구분자\n",
    "X = data_set[:, :16]  # : 모든 행  # trainset\n",
    "y = data_set[:, 16]   # testset"
   ]
  },
  {
   "cell_type": "markdown",
   "id": "5a73421d",
   "metadata": {},
   "source": [
    "SubClassing : 하나에서 분화되었다가 다시 합처짐   \n",
    "Sequesntial Model : 층층이 쌓인 경우   \n",
    "\n",
    "Keras에서 제공하는 Fully Connected Layers  \n",
    "dense(출력 갯수, 입력 갯수, 활성화함수)   \n",
    "input 16 / hidden 30\n",
    "|   \n",
    "앞쪽의 출력이 뒷쪽의 입력이므로 출력, 입력생략, 활성화함수   \n",
    "\n",
    "입력층 weight 30 16\n",
    "입력층 bias 16\n",
    "\n",
    "은닉층 weight 16 1\n",
    "은닉층 bias 1"
   ]
  },
  {
   "cell_type": "code",
   "execution_count": null,
   "id": "852b710a",
   "metadata": {},
   "outputs": [],
   "source": [
    "model = models.Sequential()\n",
    "model.add(layers.Dense(30, input_dim=16, activation='relu'))\n",
    "model.add(layers.Dense(1, activation='sigmoid'))"
   ]
  }
 ],
 "metadata": {
  "kernelspec": {
   "display_name": "Python 3 (ipykernel)",
   "language": "python",
   "name": "python3"
  },
  "language_info": {
   "codemirror_mode": {
    "name": "ipython",
    "version": 3
   },
   "file_extension": ".py",
   "mimetype": "text/x-python",
   "name": "python",
   "nbconvert_exporter": "python",
   "pygments_lexer": "ipython3",
   "version": "3.8.15"
  }
 },
 "nbformat": 4,
 "nbformat_minor": 5
}
