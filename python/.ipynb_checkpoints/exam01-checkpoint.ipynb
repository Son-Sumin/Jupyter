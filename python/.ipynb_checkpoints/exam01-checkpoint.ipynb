{
 "cells": [
  {
   "cell_type": "markdown",
   "id": "9776743d",
   "metadata": {},
   "source": [
    "## List Comprehension"
   ]
  },
  {
   "cell_type": "code",
   "execution_count": 5,
   "id": "06d7bb7f",
   "metadata": {},
   "outputs": [
    {
     "name": "stdout",
     "output_type": "stream",
     "text": [
      "[0, 1, 2, 3, 4, 5, 6, 7, 8, 9]\n",
      "\n"
     ]
    }
   ],
   "source": [
    "result = []\n",
    "\n",
    "for i in range(10):\n",
    "    result.append(i)\n",
    "\n",
    "print(result)\n",
    "print()"
   ]
  },
  {
   "cell_type": "code",
   "execution_count": 6,
   "id": "db9bf02d",
   "metadata": {},
   "outputs": [
    {
     "name": "stdout",
     "output_type": "stream",
     "text": [
      "[0, 1, 2, 3, 4, 5, 6, 7, 8, 9]\n"
     ]
    }
   ],
   "source": [
    "result2 = [i for i in range(10)]\n",
    "print(result2)"
   ]
  },
  {
   "cell_type": "markdown",
   "id": "5d274d97",
   "metadata": {},
   "source": [
    "- List Comprehension   \n",
    "result와 result2 결과는 같지만 실행 속도 우세"
   ]
  },
  {
   "cell_type": "code",
   "execution_count": 13,
   "id": "f971afe2",
   "metadata": {},
   "outputs": [
    {
     "name": "stdout",
     "output_type": "stream",
     "text": [
      "[0, 2, 4, 6, 8]\n",
      "\n"
     ]
    }
   ],
   "source": [
    "result = []\n",
    "\n",
    "for i in range(10):\n",
    "    if i % 2 == 0:\n",
    "        result.append(i)\n",
    "\n",
    "print(result)\n",
    "print()"
   ]
  },
  {
   "cell_type": "code",
   "execution_count": null,
   "id": "353b969d",
   "metadata": {},
   "outputs": [],
   "source": [
    "result2 = [i for i in range(10) if i % 2 == 0]\n",
    "print(result2)"
   ]
  },
  {
   "cell_type": "markdown",
   "id": "8ecb6cab",
   "metadata": {},
   "source": [
    "- List Comprehension if문"
   ]
  },
  {
   "cell_type": "code",
   "execution_count": 14,
   "id": "ecfd982a",
   "metadata": {},
   "outputs": [
    {
     "name": "stdout",
     "output_type": "stream",
     "text": [
      "[0, 99, 2, 99, 4, 99, 6, 99, 8, 99]\n",
      "\n"
     ]
    }
   ],
   "source": [
    "result = []\n",
    "\n",
    "for i in range(10):\n",
    "    if i % 2 == 0:\n",
    "        result.append(i)\n",
    "    else:\n",
    "        result.append(99)\n",
    "\n",
    "print(result)\n",
    "print()"
   ]
  },
  {
   "cell_type": "code",
   "execution_count": 15,
   "id": "9d0a69d0",
   "metadata": {},
   "outputs": [
    {
     "name": "stdout",
     "output_type": "stream",
     "text": [
      "[0, 99, 2, 99, 4, 99, 6, 99, 8, 99]\n"
     ]
    }
   ],
   "source": [
    "result2 = [i  if i % 2 == 0 else 99 for i in range(10)]\n",
    "print(result2)"
   ]
  },
  {
   "cell_type": "markdown",
   "id": "4a21b270",
   "metadata": {},
   "source": [
    "- List Comprehension if문   \n",
    "else가 있다면 for문을 뒤로 빼기"
   ]
  },
  {
   "cell_type": "code",
   "execution_count": 18,
   "id": "dc5156c4",
   "metadata": {},
   "outputs": [
    {
     "name": "stdout",
     "output_type": "stream",
     "text": [
      "['AA', 'AB', 'AC', 'BA', 'BB', 'BC', 'CA', 'CB', 'CC']\n"
     ]
    }
   ],
   "source": [
    "result = []\n",
    "case1 = [\"A\", \"B\", \"C\"]\n",
    "case2 = [\"A\", \"B\", \"C\"]\n",
    "for i in case1:\n",
    "    for j in case2:\n",
    "        result.append(i + j)\n",
    "print(result)"
   ]
  },
  {
   "cell_type": "code",
   "execution_count": 20,
   "id": "d667f255",
   "metadata": {},
   "outputs": [
    {
     "name": "stdout",
     "output_type": "stream",
     "text": [
      "['AA', 'AB', 'AC', 'BA', 'BB', 'BC', 'CA', 'CB', 'CC']\n"
     ]
    }
   ],
   "source": [
    "result2 = [i + j for i in case1 for j in case2]\n",
    "print(result2)"
   ]
  },
  {
   "cell_type": "markdown",
   "id": "5769360a",
   "metadata": {},
   "source": [
    "- List Comprehension 이중 for문"
   ]
  },
  {
   "cell_type": "code",
   "execution_count": 22,
   "id": "00a039ce",
   "metadata": {},
   "outputs": [
    {
     "name": "stdout",
     "output_type": "stream",
     "text": [
      "['AB', 'AC', 'BA', 'BC', 'CA', 'CB']\n"
     ]
    }
   ],
   "source": [
    "result2 = [i + j for i in case1 for j in case2 if i != j ]\n",
    "print(result2)"
   ]
  },
  {
   "cell_type": "markdown",
   "id": "d73e9be4",
   "metadata": {},
   "source": [
    "- List Comprehension 이중 for문 + if문"
   ]
  },
  {
   "cell_type": "markdown",
   "id": "5a4e1b53",
   "metadata": {},
   "source": [
    "* Python은 list에 여러 타입 넣을 수 있음(속도느림)   \n",
    "* numpy list는 다른 타입 못 넣음(속도빠름)"
   ]
  },
  {
   "cell_type": "markdown",
   "id": "87317dcf",
   "metadata": {},
   "source": [
    "## Numpy"
   ]
  },
  {
   "cell_type": "code",
   "execution_count": 23,
   "id": "3b11a4e9",
   "metadata": {},
   "outputs": [],
   "source": [
    "import numpy as np"
   ]
  },
  {
   "cell_type": "markdown",
   "id": "d44ca95e",
   "metadata": {},
   "source": [
    "- 향후 numpy 함수 사용할 때 np."
   ]
  },
  {
   "cell_type": "code",
   "execution_count": 24,
   "id": "79fc2587",
   "metadata": {},
   "outputs": [
    {
     "name": "stdout",
     "output_type": "stream",
     "text": [
      "[0 1 2 3 4 5]\n"
     ]
    }
   ],
   "source": [
    "a1 = np.array([0,1,2,3,4,5])\n",
    "print(a1)"
   ]
  },
  {
   "cell_type": "markdown",
   "id": "a12461a0",
   "metadata": {},
   "source": [
    "- python과 numpy 배열 차이점: , 유무"
   ]
  },
  {
   "cell_type": "code",
   "execution_count": 25,
   "id": "85be1614",
   "metadata": {},
   "outputs": [
    {
     "name": "stdout",
     "output_type": "stream",
     "text": [
      "<class 'numpy.ndarray'>\n"
     ]
    }
   ],
   "source": [
    "print(type(a1))"
   ]
  },
  {
   "cell_type": "code",
   "execution_count": 26,
   "id": "5f2e7fcf",
   "metadata": {},
   "outputs": [
    {
     "name": "stdout",
     "output_type": "stream",
     "text": [
      "int32\n"
     ]
    }
   ],
   "source": [
    "print(a1.dtype)"
   ]
  },
  {
   "cell_type": "markdown",
   "id": "313b8272",
   "metadata": {},
   "source": [
    "- numpy 항목의 속성을 알고 싶을 때"
   ]
  },
  {
   "cell_type": "code",
   "execution_count": 27,
   "id": "60229f9d",
   "metadata": {},
   "outputs": [
    {
     "name": "stdout",
     "output_type": "stream",
     "text": [
      "[[1, 2, 3], [4, 5, 6], [7, 8, 9]]\n"
     ]
    }
   ],
   "source": [
    "list1 = [[1,2,3], [4,5,6], [7,8,9]]\n",
    "print(list1)"
   ]
  },
  {
   "cell_type": "markdown",
   "id": "5802233d",
   "metadata": {},
   "source": [
    "- python 2차원 배열"
   ]
  },
  {
   "cell_type": "markdown",
   "id": "395a9f27",
   "metadata": {},
   "source": [
    "list2 = np.array(list1)\n",
    "print(list2)"
   ]
  },
  {
   "cell_type": "markdown",
   "id": "69b38618",
   "metadata": {},
   "source": [
    "- numpy 2차원 배열"
   ]
  },
  {
   "cell_type": "code",
   "execution_count": 31,
   "id": "63b3f604",
   "metadata": {},
   "outputs": [
    {
     "name": "stdout",
     "output_type": "stream",
     "text": [
      "[0 2 4 6 8]\n"
     ]
    }
   ],
   "source": [
    "a = np.arange(0,10,2)\n",
    "print(a)"
   ]
  },
  {
   "cell_type": "code",
   "execution_count": 33,
   "id": "487f5175",
   "metadata": {},
   "outputs": [
    {
     "name": "stdout",
     "output_type": "stream",
     "text": [
      "[0 1 2 3 4 5 6 7 8 9]\n"
     ]
    }
   ],
   "source": [
    "a = np.arange(10)\n",
    "print(a)"
   ]
  },
  {
   "cell_type": "code",
   "execution_count": 34,
   "id": "295e07f0",
   "metadata": {},
   "outputs": [
    {
     "name": "stdout",
     "output_type": "stream",
     "text": [
      "[1 2 3 4 5 6 7 8 9]\n"
     ]
    }
   ],
   "source": [
    "a = np.arange(1, 10)\n",
    "print(a)"
   ]
  },
  {
   "cell_type": "code",
   "execution_count": 36,
   "id": "7b499481",
   "metadata": {},
   "outputs": [
    {
     "name": "stdout",
     "output_type": "stream",
     "text": [
      "[[ 0  1  2]\n",
      " [ 3  4  5]\n",
      " [ 6  7  8]\n",
      " [ 9 10 11]]\n"
     ]
    }
   ],
   "source": [
    "a = np.arange(12).reshape(4,3)\n",
    "print(a)"
   ]
  },
  {
   "cell_type": "code",
   "execution_count": 37,
   "id": "3fb5ad04",
   "metadata": {},
   "outputs": [
    {
     "name": "stdout",
     "output_type": "stream",
     "text": [
      "[[ 0  1  2]\n",
      " [ 3  4  5]\n",
      " [ 6  7  8]\n",
      " [ 9 10 11]]\n"
     ]
    }
   ],
   "source": [
    "a = np.arange(12).reshape(4,-1)\n",
    "print(a)"
   ]
  },
  {
   "cell_type": "code",
   "execution_count": 38,
   "id": "26700e6c",
   "metadata": {},
   "outputs": [
    {
     "name": "stdout",
     "output_type": "stream",
     "text": [
      "[[ 0  1  2]\n",
      " [ 3  4  5]\n",
      " [ 6  7  8]\n",
      " [ 9 10 11]]\n"
     ]
    }
   ],
   "source": [
    "a = np.arange(12).reshape(-1,3)\n",
    "print(a)"
   ]
  },
  {
   "cell_type": "code",
   "execution_count": 39,
   "id": "92226a6c",
   "metadata": {},
   "outputs": [
    {
     "ename": "ValueError",
     "evalue": "cannot reshape array of size 11 into shape (3)",
     "output_type": "error",
     "traceback": [
      "\u001b[1;31m---------------------------------------------------------------------------\u001b[0m",
      "\u001b[1;31mValueError\u001b[0m                                Traceback (most recent call last)",
      "Cell \u001b[1;32mIn[39], line 1\u001b[0m\n\u001b[1;32m----> 1\u001b[0m a \u001b[38;5;241m=\u001b[39m \u001b[43mnp\u001b[49m\u001b[38;5;241;43m.\u001b[39;49m\u001b[43marange\u001b[49m\u001b[43m(\u001b[49m\u001b[38;5;241;43m11\u001b[39;49m\u001b[43m)\u001b[49m\u001b[38;5;241;43m.\u001b[39;49m\u001b[43mreshape\u001b[49m\u001b[43m(\u001b[49m\u001b[38;5;241;43m-\u001b[39;49m\u001b[38;5;241;43m1\u001b[39;49m\u001b[43m,\u001b[49m\u001b[38;5;241;43m3\u001b[39;49m\u001b[43m)\u001b[49m\n\u001b[0;32m      2\u001b[0m \u001b[38;5;28mprint\u001b[39m(a)\n",
      "\u001b[1;31mValueError\u001b[0m: cannot reshape array of size 11 into shape (3)"
     ]
    }
   ],
   "source": [
    "a = np.arange(11).reshape(-1,3)\n",
    "print(a)"
   ]
  },
  {
   "cell_type": "markdown",
   "id": "b79e9471",
   "metadata": {},
   "source": [
    "- numpy는 배열 만들 때; arange\n",
    "- reshape(x, y); x * y 2차원 배열\n",
    "- -1; 알아서 해\n",
    "- 나머지가 남으면 에러"
   ]
  },
  {
   "cell_type": "code",
   "execution_count": 40,
   "id": "abcd2c0e",
   "metadata": {},
   "outputs": [
    {
     "name": "stdout",
     "output_type": "stream",
     "text": [
      "[ 1.  2.  3.  4.  5.  6.  7.  8.  9. 10.]\n"
     ]
    }
   ],
   "source": [
    "a = np.linspace(1, 10, 10)\n",
    "print(a)"
   ]
  },
  {
   "cell_type": "code",
   "execution_count": 41,
   "id": "b4efbd09",
   "metadata": {},
   "outputs": [
    {
     "name": "stdout",
     "output_type": "stream",
     "text": [
      "[ 1.          2.28571429  3.57142857  4.85714286  6.14285714  7.42857143\n",
      "  8.71428571 10.        ]\n"
     ]
    }
   ],
   "source": [
    "a = np.linspace(1, 10, 8)\n",
    "print(a)"
   ]
  },
  {
   "cell_type": "markdown",
   "id": "35469e08",
   "metadata": {},
   "source": [
    "- 1~10 8등분\n",
    "- . ; 실수"
   ]
  },
  {
   "cell_type": "code",
   "execution_count": 42,
   "id": "b3ce4d5b",
   "metadata": {},
   "outputs": [
    {
     "name": "stdout",
     "output_type": "stream",
     "text": [
      "[0.         0.16534698 0.33069396 0.49604095 0.66138793 0.82673491\n",
      " 0.99208189 1.15742887 1.32277585 1.48812284 1.65346982 1.8188168\n",
      " 1.98416378 2.14951076 2.31485774 2.48020473 2.64555171 2.81089869\n",
      " 2.97624567 3.14159265]\n"
     ]
    }
   ],
   "source": [
    "a = np.linspace(0, np.pi, 20)\n",
    "print(a)"
   ]
  },
  {
   "cell_type": "code",
   "execution_count": 43,
   "id": "25a2ef77",
   "metadata": {},
   "outputs": [
    {
     "name": "stdout",
     "output_type": "stream",
     "text": [
      "[0 0 0 0 0 0 0 0 0 0]\n",
      "[[0 0 0 0]\n",
      " [0 0 0 0]\n",
      " [0 0 0 0]]\n",
      "[1. 1. 1. 1. 1.]\n",
      "[[1. 1. 1. 1. 1.]\n",
      " [1. 1. 1. 1. 1.]\n",
      " [1. 1. 1. 1. 1.]]\n",
      "[[1. 0. 0.]\n",
      " [0. 1. 0.]\n",
      " [0. 0. 1.]]\n"
     ]
    }
   ],
   "source": [
    "a1 = np.zeros(10, int)\n",
    "print(a1)\n",
    "a2 = np.zeros((3, 4), int)\n",
    "print(a2)\n",
    "a3 = np.ones(5)\n",
    "print(a3)\n",
    "a4 = np.ones((3, 5))\n",
    "print(a4)\n",
    "a5 = np.eye(3)\n",
    "print(a5)"
   ]
  },
  {
   "cell_type": "markdown",
   "id": "5ea3d65c",
   "metadata": {},
   "source": [
    "- zeros; 0으로 채워진 배열 (기본 실수.)\n",
    "- ones; 1으로 채워진 배열 (기본 실수.)   \n",
    "zeros, ones는 matrix 크기 부여 가능\n",
    "- eye; 단위행렬 만들기"
   ]
  },
  {
   "cell_type": "code",
   "execution_count": null,
   "id": "e0d3165b",
   "metadata": {},
   "outputs": [],
   "source": []
  }
 ],
 "metadata": {
  "kernelspec": {
   "display_name": "Python 3 (ipykernel)",
   "language": "python",
   "name": "python3"
  },
  "language_info": {
   "codemirror_mode": {
    "name": "ipython",
    "version": 3
   },
   "file_extension": ".py",
   "mimetype": "text/x-python",
   "name": "python",
   "nbconvert_exporter": "python",
   "pygments_lexer": "ipython3",
   "version": "3.8.13"
  }
 },
 "nbformat": 4,
 "nbformat_minor": 5
}
