{
 "cells": [
  {
   "cell_type": "code",
   "execution_count": 1,
   "id": "66a6aba2",
   "metadata": {},
   "outputs": [],
   "source": [
    "import pandas as pd"
   ]
  },
  {
   "cell_type": "markdown",
   "id": "e5c3d46f",
   "metadata": {},
   "source": [
    "## PANDAS Series\n",
    "- index와 value 지원\n",
    "- value만 뽑을시 numpy로 출력\n",
    "- 여러 shape 지원"
   ]
  },
  {
   "cell_type": "code",
   "execution_count": 2,
   "id": "6f7ae6d7",
   "metadata": {},
   "outputs": [
    {
     "name": "stdout",
     "output_type": "stream",
     "text": [
      "0    10\n",
      "1    20\n",
      "2    30\n",
      "3    40\n",
      "4    50\n",
      "dtype: int64\n"
     ]
    }
   ],
   "source": [
    "s1 = pd.Series([10, 20, 30, 40, 50])\n",
    "print(s1)"
   ]
  },
  {
   "cell_type": "code",
   "execution_count": 3,
   "id": "740b7c5c",
   "metadata": {},
   "outputs": [
    {
     "name": "stdout",
     "output_type": "stream",
     "text": [
      "RangeIndex(start=0, stop=5, step=1)\n"
     ]
    }
   ],
   "source": [
    "print(s1.index)"
   ]
  },
  {
   "cell_type": "code",
   "execution_count": 4,
   "id": "1ae6c2f7",
   "metadata": {},
   "outputs": [
    {
     "name": "stdout",
     "output_type": "stream",
     "text": [
      "[10 20 30 40 50]\n"
     ]
    }
   ],
   "source": [
    "print(s1.values)"
   ]
  },
  {
   "cell_type": "code",
   "execution_count": 5,
   "id": "b47eafa8",
   "metadata": {},
   "outputs": [
    {
     "name": "stdout",
     "output_type": "stream",
     "text": [
      "<class 'numpy.ndarray'>\n"
     ]
    }
   ],
   "source": [
    "print(type(s1.values))"
   ]
  },
  {
   "cell_type": "code",
   "execution_count": 6,
   "id": "00cb01c8",
   "metadata": {},
   "outputs": [
    {
     "name": "stdout",
     "output_type": "stream",
     "text": [
      "0    a\n",
      "1    b\n",
      "2    c\n",
      "3    1\n",
      "4    2\n",
      "5    3\n",
      "dtype: object\n"
     ]
    }
   ],
   "source": [
    "s2 = pd.Series(['a', 'b', 'c', 1, 2, 3])\n",
    "print(s2)"
   ]
  },
  {
   "cell_type": "code",
   "execution_count": 8,
   "id": "f4c106ef",
   "metadata": {},
   "outputs": [
    {
     "name": "stdout",
     "output_type": "stream",
     "text": [
      "0    NaN\n",
      "1    1.0\n",
      "2    2.0\n",
      "dtype: float64\n"
     ]
    }
   ],
   "source": [
    "import numpy as np\n",
    "s3 = pd.Series([np.nan, 1, 2])\n",
    "print(s3)"
   ]
  },
  {
   "cell_type": "markdown",
   "id": "7ae3233d",
   "metadata": {},
   "source": [
    "- nan not a number; null(numpy 지원)"
   ]
  },
  {
   "cell_type": "code",
   "execution_count": 9,
   "id": "b69fb767",
   "metadata": {},
   "outputs": [
    {
     "name": "stdout",
     "output_type": "stream",
     "text": [
      "2020-03-20    200.0\n",
      "2020-03-21    187.0\n",
      "2020-03-22      NaN\n",
      "2020-03-23    210.0\n",
      "dtype: float64\n"
     ]
    }
   ],
   "source": [
    "index_date = ['2020-03-20', '2020-03-21', '2020-03-22', '2020-03-23']\n",
    "s4 = pd.Series([200, 187, np.nan, 210], index=index_date)\n",
    "print(s4)"
   ]
  },
  {
   "cell_type": "markdown",
   "id": "f0bc4636",
   "metadata": {},
   "source": [
    "- index 타입 지정 가능"
   ]
  },
  {
   "cell_type": "code",
   "execution_count": 11,
   "id": "4999beb3",
   "metadata": {},
   "outputs": [
    {
     "name": "stdout",
     "output_type": "stream",
     "text": [
      "국어    100\n",
      "영어     95\n",
      "수학    100\n",
      "dtype: int64\n"
     ]
    }
   ],
   "source": [
    "s5 = pd.Series({'국어':100, '영어':95, '수학':100})\n",
    "print(s5)"
   ]
  },
  {
   "cell_type": "code",
   "execution_count": 12,
   "id": "be04ec4a",
   "metadata": {},
   "outputs": [
    {
     "name": "stdout",
     "output_type": "stream",
     "text": [
      "DatetimeIndex(['2020-01-20', '2020-01-21', '2020-01-22', '2020-01-23',\n",
      "               '2020-01-24', '2020-01-25', '2020-01-26', '2020-01-27'],\n",
      "              dtype='datetime64[ns]', freq='D')\n"
     ]
    }
   ],
   "source": [
    "p = pd.date_range(start='2020-01-20', end='2020-01-27')\n",
    "print(p)"
   ]
  },
  {
   "cell_type": "markdown",
   "id": "21bca0a3",
   "metadata": {},
   "source": [
    "- datetime 지원(pandas)"
   ]
  },
  {
   "cell_type": "code",
   "execution_count": 13,
   "id": "eee26d26",
   "metadata": {},
   "outputs": [
    {
     "name": "stdout",
     "output_type": "stream",
     "text": [
      "DatetimeIndex(['2020-01-20', '2020-01-21', '2020-01-22', '2020-01-23',\n",
      "               '2020-01-24', '2020-01-25', '2020-01-26', '2020-01-27'],\n",
      "              dtype='datetime64[ns]', freq='D')\n"
     ]
    }
   ],
   "source": [
    "p = pd.date_range(start='2020/01/20', end='2020.01.27')\n",
    "print(p)"
   ]
  },
  {
   "cell_type": "markdown",
   "id": "5233fc5d",
   "metadata": {},
   "source": [
    "결과는 항상 .으로"
   ]
  },
  {
   "cell_type": "code",
   "execution_count": 14,
   "id": "3a5e6b67",
   "metadata": {},
   "outputs": [
    {
     "name": "stdout",
     "output_type": "stream",
     "text": [
      "DatetimeIndex(['2020-05-01', '2020-05-02', '2020-05-03', '2020-05-04',\n",
      "               '2020-05-05', '2020-05-06', '2020-05-07'],\n",
      "              dtype='datetime64[ns]', freq='D')\n"
     ]
    }
   ],
   "source": [
    "p = pd.date_range(start='2020-05-01', periods=7)\n",
    "print(p)"
   ]
  },
  {
   "cell_type": "markdown",
   "id": "bda7dee5",
   "metadata": {},
   "source": [
    "frequenct option: D(day) / W(week; 일요일이 시작)"
   ]
  },
  {
   "cell_type": "code",
   "execution_count": 15,
   "id": "272d6c1c",
   "metadata": {},
   "outputs": [
    {
     "name": "stdout",
     "output_type": "stream",
     "text": [
      "DatetimeIndex(['2020-01-01', '2020-01-03', '2020-01-05', '2020-01-07'], dtype='datetime64[ns]', freq='2D')\n"
     ]
    }
   ],
   "source": [
    "p = pd.date_range(start='2020-01-01', periods=4, freq='2D')\n",
    "print(p)"
   ]
  },
  {
   "cell_type": "code",
   "execution_count": 17,
   "id": "2ac1a772",
   "metadata": {},
   "outputs": [
    {
     "name": "stdout",
     "output_type": "stream",
     "text": [
      "DatetimeIndex(['2022-01-02', '2022-01-09', '2022-01-16', '2022-01-23',\n",
      "               '2022-01-30'],\n",
      "              dtype='datetime64[ns]', freq='W-SUN')\n"
     ]
    }
   ],
   "source": [
    "p = pd.date_range(start='2022-01-01', periods=5, freq='W')\n",
    "print(p)"
   ]
  },
  {
   "cell_type": "code",
   "execution_count": 18,
   "id": "153c1bf6",
   "metadata": {},
   "outputs": [
    {
     "name": "stdout",
     "output_type": "stream",
     "text": [
      "DatetimeIndex(['2022-01-03', '2022-01-10', '2022-01-17', '2022-01-24',\n",
      "               '2022-01-31'],\n",
      "              dtype='datetime64[ns]', freq='W-MON')\n"
     ]
    }
   ],
   "source": [
    "p = pd.date_range(start='2022-01-01', periods=5, freq='W-MON')\n",
    "print(p)"
   ]
  },
  {
   "cell_type": "markdown",
   "id": "cf864e7c",
   "metadata": {},
   "source": [
    "-  freq='W-MON'; 월요일부터 시작해서 5개 출력"
   ]
  },
  {
   "cell_type": "code",
   "execution_count": 19,
   "id": "9276e93c",
   "metadata": {},
   "outputs": [
    {
     "name": "stdout",
     "output_type": "stream",
     "text": [
      "DatetimeIndex(['2023-02-28', '2023-04-30', '2023-06-30', '2023-08-31',\n",
      "               '2023-10-31', '2023-12-31', '2024-02-29', '2024-04-30',\n",
      "               '2024-06-30', '2024-08-31', '2024-10-31', '2024-12-31'],\n",
      "              dtype='datetime64[ns]', freq='2M')\n"
     ]
    }
   ],
   "source": [
    "p = pd.date_range(start='2023-02-01', periods=12, freq='2M')\n",
    "print(p)"
   ]
  },
  {
   "cell_type": "markdown",
   "id": "c62ac8a3",
   "metadata": {},
   "source": [
    "freq='2M'; 해당 월 마지막 일부터 2달씩"
   ]
  },
  {
   "cell_type": "code",
   "execution_count": 20,
   "id": "f44169dd",
   "metadata": {},
   "outputs": [
    {
     "name": "stdout",
     "output_type": "stream",
     "text": [
      "DatetimeIndex(['2023-02-28', '2023-04-28', '2023-06-30', '2023-08-31',\n",
      "               '2023-10-31', '2023-12-29', '2024-02-29', '2024-04-30',\n",
      "               '2024-06-28', '2024-08-30', '2024-10-31', '2024-12-31'],\n",
      "              dtype='datetime64[ns]', freq='2BM')\n"
     ]
    }
   ],
   "source": [
    "p = pd.date_range(start='2023-02-01', periods=12, freq='2BM')\n",
    "print(p)"
   ]
  },
  {
   "cell_type": "markdown",
   "id": "c082da39",
   "metadata": {},
   "source": [
    "freq='2BM'; business month; 2달씩, 마지막 검정날"
   ]
  },
  {
   "cell_type": "code",
   "execution_count": 23,
   "id": "ae56a864",
   "metadata": {},
   "outputs": [
    {
     "name": "stdout",
     "output_type": "stream",
     "text": [
      "DatetimeIndex(['2023-04-01', '2023-07-01', '2023-10-01', '2024-01-01'], dtype='datetime64[ns]', freq='QS-JAN')\n"
     ]
    }
   ],
   "source": [
    "p = pd.date_range(start='2023-01-03', periods=4, freq='QS')\n",
    "print(p)"
   ]
  },
  {
   "cell_type": "markdown",
   "id": "24886bab",
   "metadata": {},
   "source": [
    "freq='QS': quarter start day"
   ]
  },
  {
   "cell_type": "code",
   "execution_count": 24,
   "id": "53f90c09",
   "metadata": {},
   "outputs": [
    {
     "name": "stdout",
     "output_type": "stream",
     "text": [
      "DatetimeIndex(['2020-01-01 08:00:00', '2020-01-01 09:00:00',\n",
      "               '2020-01-01 10:00:00', '2020-01-01 11:00:00',\n",
      "               '2020-01-01 12:00:00', '2020-01-01 13:00:00',\n",
      "               '2020-01-01 14:00:00', '2020-01-01 15:00:00',\n",
      "               '2020-01-01 16:00:00', '2020-01-01 17:00:00'],\n",
      "              dtype='datetime64[ns]', freq='H')\n"
     ]
    }
   ],
   "source": [
    "p = pd.date_range(start='2020-01-01 08:00', periods=10, freq='H')\n",
    "print(p)"
   ]
  },
  {
   "cell_type": "markdown",
   "id": "94403313",
   "metadata": {},
   "source": [
    "## PANDAS DataFrame"
   ]
  },
  {
   "cell_type": "code",
   "execution_count": 25,
   "id": "3a1d9d33",
   "metadata": {},
   "outputs": [
    {
     "name": "stdout",
     "output_type": "stream",
     "text": [
      "   0  1  2\n",
      "0  1  2  3\n",
      "1  4  5  6\n",
      "2  7  8  9\n"
     ]
    }
   ],
   "source": [
    "df = pd.DataFrame([[1, 2, 3], [4, 5, 6], [7, 8, 9]])\n",
    "print(df)"
   ]
  },
  {
   "cell_type": "markdown",
   "id": "c2b30003",
   "metadata": {},
   "source": [
    "index name, column name"
   ]
  },
  {
   "cell_type": "code",
   "execution_count": 26,
   "id": "6b72a181",
   "metadata": {},
   "outputs": [
    {
     "name": "stdout",
     "output_type": "stream",
     "text": [
      "[[1 2 3]\n",
      " [4 5 6]\n",
      " [7 8 9]]\n"
     ]
    }
   ],
   "source": [
    "print(df.values)"
   ]
  },
  {
   "cell_type": "code",
   "execution_count": 27,
   "id": "942f684e",
   "metadata": {},
   "outputs": [
    {
     "name": "stdout",
     "output_type": "stream",
     "text": [
      "             A   B   C\n",
      "2020-05-01   1   2   3\n",
      "2020-05-02   4   5   6\n",
      "2020-05-03   7   8   9\n",
      "2020-05-04  10  11  12\n"
     ]
    }
   ],
   "source": [
    "data = np.array([[1, 2, 3], [4, 5, 6], [7, 8, 9], [10, 11, 12]])\n",
    "index_date = pd.date_range('2020-05-01', periods=4)\n",
    "columns_list = ['A', 'B', 'C']\n",
    "df = pd.DataFrame(data, index=index_date, columns=columns_list)\n",
    "print(df)"
   ]
  },
  {
   "cell_type": "code",
   "execution_count": 29,
   "id": "b0a9fa95",
   "metadata": {},
   "outputs": [
    {
     "name": "stdout",
     "output_type": "stream",
     "text": [
      "     연도  지사  고객 수\n",
      "0  2015  서울   200\n",
      "1  2016  서울   250\n",
      "2  2016  부산   150\n",
      "3  2017  서울   300\n",
      "4  2017  부산   200\n"
     ]
    }
   ],
   "source": [
    "data = {'연도': [2015, 2016, 2016, 2017, 2017],\n",
    "        '지사': ['서울', '서울', '부산', '서울', '부산'],\n",
    "        '고객 수': [200, 250, 150, 300, 200]}\n",
    "df = pd.DataFrame(data)\n",
    "print(df)"
   ]
  },
  {
   "cell_type": "markdown",
   "id": "6d8d813b",
   "metadata": {},
   "source": [
    "dictionary 타입으로 주면   \n",
    "key - column name"
   ]
  },
  {
   "cell_type": "code",
   "execution_count": 30,
   "id": "56232423",
   "metadata": {},
   "outputs": [
    {
     "name": "stdout",
     "output_type": "stream",
     "text": [
      "0    11\n",
      "1    22\n",
      "2    33\n",
      "3    44\n",
      "4    55\n",
      "dtype: int64\n",
      "0     9\n",
      "1    18\n",
      "2    27\n",
      "3    36\n",
      "4    45\n",
      "dtype: int64\n",
      "0     10\n",
      "1     40\n",
      "2     90\n",
      "3    160\n",
      "4    250\n",
      "dtype: int64\n",
      "0    10.0\n",
      "1    10.0\n",
      "2    10.0\n",
      "3    10.0\n",
      "4    10.0\n",
      "dtype: float64\n"
     ]
    }
   ],
   "source": [
    "s1 = pd.Series([1, 2, 3, 4, 5])\n",
    "s2 = pd.Series([10, 20, 30, 40, 50])\n",
    "print(s1 + s2)\n",
    "print(s2 - s1)\n",
    "print(s1 * s2)\n",
    "print(s2 / s1)"
   ]
  },
  {
   "cell_type": "markdown",
   "id": "2a11f21b",
   "metadata": {},
   "source": [
    "numpy와 pandas 차이점   \n",
    "shape 달라도 지원   \n",
    "계산 못하면 nan"
   ]
  },
  {
   "cell_type": "code",
   "execution_count": 31,
   "id": "9f7a4fee",
   "metadata": {},
   "outputs": [
    {
     "name": "stdout",
     "output_type": "stream",
     "text": [
      "0    11.0\n",
      "1    22.0\n",
      "2    33.0\n",
      "3    44.0\n",
      "4     NaN\n",
      "dtype: float64\n"
     ]
    }
   ],
   "source": [
    "s3 = pd.Series([1, 2, 3, 4])\n",
    "s4 = pd.Series([10, 20, 30, 40, 50])\n",
    "print(s3 + s4)"
   ]
  },
  {
   "cell_type": "code",
   "execution_count": 32,
   "id": "f6d8b1ac",
   "metadata": {},
   "outputs": [
    {
     "name": "stdout",
     "output_type": "stream",
     "text": [
      "   A   B    C\n",
      "0  1  10  100\n",
      "1  2  20  200\n",
      "2  3  30  300\n",
      "3  4  40  400\n",
      "4  5  50  500\n",
      "   A   B    C\n",
      "0  6  60  600\n",
      "1  7  70  700\n",
      "2  8  80  800\n",
      "====================\n",
      "      A      B       C\n",
      "0   7.0   70.0   700.0\n",
      "1   9.0   90.0   900.0\n",
      "2  11.0  110.0  1100.0\n",
      "3   NaN    NaN     NaN\n",
      "4   NaN    NaN     NaN\n"
     ]
    }
   ],
   "source": [
    "data1 = {'A': [1, 2, 3, 4, 5],\n",
    "         'B': [10, 20, 30, 40, 50],\n",
    "         'C': [100, 200, 300, 400, 500]}\n",
    "df1 = pd.DataFrame(data1)\n",
    "print(df1)\n",
    "\n",
    "data2 = {'A': [6, 7, 8],\n",
    "         'B': [60, 70, 80],\n",
    "         'C': [600, 700, 800]}\n",
    "df2 = pd.DataFrame(data2)\n",
    "print(df2)\n",
    "print('='*20)\n",
    "print(df1 + df2)"
   ]
  },
  {
   "cell_type": "markdown",
   "id": "84a43d0e",
   "metadata": {},
   "source": [
    "int default ; 32int   \n",
    "float default; 64float"
   ]
  },
  {
   "cell_type": "code",
   "execution_count": 35,
   "id": "725c6ec6",
   "metadata": {},
   "outputs": [
    {
     "name": "stdout",
     "output_type": "stream",
     "text": [
      "          봄     여름     가을     겨울\n",
      "2012  256.5  770.6  363.5  139.3\n",
      "2013  264.3  567.5  231.2   59.9\n",
      "2014  215.9  599.8  293.1   76.9\n",
      "2015  223.2  387.1  247.7  109.1\n",
      "2016  312.8  446.2  381.6  108.1\n",
      "==============================\n",
      "봄     254.54\n",
      "여름    554.24\n",
      "가을    303.42\n",
      "겨울     98.66\n",
      "dtype: float64\n",
      "==============================\n",
      "봄      38.628267\n",
      "여름    148.888895\n",
      "가을     67.358496\n",
      "겨울     30.925523\n",
      "dtype: float64\n",
      "==============================\n",
      "2012    382.475\n",
      "2013    280.725\n",
      "2014    296.425\n",
      "2015    241.775\n",
      "2016    312.175\n",
      "dtype: float64\n",
      "==============================\n",
      "2012    274.472128\n",
      "2013    211.128782\n",
      "2014    221.150739\n",
      "2015    114.166760\n",
      "2016    146.548658\n",
      "dtype: float64\n",
      "==============================\n",
      "                봄          여름          가을          겨울\n",
      "count    5.000000    5.000000    5.000000    5.000000\n",
      "mean   254.540000  554.240000  303.420000   98.660000\n",
      "std     38.628267  148.888895   67.358496   30.925523\n",
      "min    215.900000  387.100000  231.200000   59.900000\n",
      "25%    223.200000  446.200000  247.700000   76.900000\n",
      "50%    256.500000  567.500000  293.100000  108.100000\n",
      "75%    264.300000  599.800000  363.500000  109.100000\n",
      "max    312.800000  770.600000  381.600000  139.300000\n"
     ]
    }
   ],
   "source": [
    "table_data3 = {'봄':  [256.5, 264.3, 215.9, 223.2, 312.8],\n",
    "              '여름': [770.6, 567.5, 599.8, 387.1, 446.2],\n",
    "              '가을': [363.5, 231.2, 293.1, 247.7, 381.6],\n",
    "              '겨울': [139.3, 59.9, 76.9, 109.1, 108.1]}\n",
    "columns_list = ['봄', '여름', '가을', '겨울']  # column 순서 정해줌\n",
    "index_list = ['2012', '2013', '2014', '2015', '2016']\n",
    "\n",
    "df3 = pd.DataFrame(table_data3, columns = columns_list, index = index_list)\n",
    "print(df3)\n",
    "print('='*30)\n",
    "print(df3.mean()) # 계절별  [5][4]로 생각\n",
    "print('='*30)\n",
    "print(df3.std())  # 계절별\n",
    "print('='*30)\n",
    "print(df3.mean(axis=1)) # 연도별\n",
    "print('='*30)\n",
    "print(df3.std(axis=1)) # 연도별\n",
    "print('='*30)\n",
    "print(df3.describe())"
   ]
  },
  {
   "cell_type": "markdown",
   "id": "2bde2a5f",
   "metadata": {},
   "source": [
    "df3.mean(axis=0) ; 디폴트; column 평균   \n",
    "df3.mean(axis=1) ; "
   ]
  },
  {
   "cell_type": "code",
   "execution_count": 36,
   "id": "d8424a46",
   "metadata": {},
   "outputs": [
    {
     "name": "stdout",
     "output_type": "stream",
     "text": [
      "      경부선 KTX  호남선 KTX  경전선 KTX  전라선 KTX  동해선 KTX\n",
      "2011    39060     7313     3627      309      NaN\n",
      "2012    39896     6967     4168     1771      NaN\n",
      "2013    42005     6873     4088     1954      NaN\n",
      "2014    43621     6626     4424     2244      NaN\n",
      "2015    41702     8675     4606     3146   2395.0\n",
      "2016    41266    10622     4984     3945   3786.0\n",
      "2017    32427     9228     5570     5766   6667.0\n"
     ]
    }
   ],
   "source": [
    "KTX_data = {'경부선 KTX': [39060, 39896, 42005, 43621, 41702, 41266, 32427],\n",
    "            '호남선 KTX': [7313, 6967, 6873, 6626, 8675, 10622, 9228],\n",
    "            '경전선 KTX': [3627, 4168, 4088, 4424, 4606, 4984, 5570],\n",
    "            '전라선 KTX': [309, 1771, 1954, 2244, 3146, 3945, 5766],\n",
    "            '동해선 KTX': [np.nan,np.nan, np.nan, np.nan, 2395, 3786, 6667]}\n",
    "col_list = ['경부선 KTX','호남선 KTX','경전선 KTX','전라선 KTX','동해선 KTX']\n",
    "index_list = ['2011', '2012', '2013', '2014', '2015', '2016', '2017']\n",
    "\n",
    "df_KTX = pd.DataFrame(KTX_data, columns = col_list, index = index_list)\n",
    "print(df_KTX)"
   ]
  },
  {
   "cell_type": "code",
   "execution_count": 37,
   "id": "f1c0abec",
   "metadata": {},
   "outputs": [
    {
     "data": {
      "text/html": [
       "<div>\n",
       "<style scoped>\n",
       "    .dataframe tbody tr th:only-of-type {\n",
       "        vertical-align: middle;\n",
       "    }\n",
       "\n",
       "    .dataframe tbody tr th {\n",
       "        vertical-align: top;\n",
       "    }\n",
       "\n",
       "    .dataframe thead th {\n",
       "        text-align: right;\n",
       "    }\n",
       "</style>\n",
       "<table border=\"1\" class=\"dataframe\">\n",
       "  <thead>\n",
       "    <tr style=\"text-align: right;\">\n",
       "      <th></th>\n",
       "      <th>경부선 KTX</th>\n",
       "      <th>호남선 KTX</th>\n",
       "      <th>경전선 KTX</th>\n",
       "      <th>전라선 KTX</th>\n",
       "      <th>동해선 KTX</th>\n",
       "    </tr>\n",
       "  </thead>\n",
       "  <tbody>\n",
       "    <tr>\n",
       "      <th>2011</th>\n",
       "      <td>39060</td>\n",
       "      <td>7313</td>\n",
       "      <td>3627</td>\n",
       "      <td>309</td>\n",
       "      <td>NaN</td>\n",
       "    </tr>\n",
       "    <tr>\n",
       "      <th>2012</th>\n",
       "      <td>39896</td>\n",
       "      <td>6967</td>\n",
       "      <td>4168</td>\n",
       "      <td>1771</td>\n",
       "      <td>NaN</td>\n",
       "    </tr>\n",
       "    <tr>\n",
       "      <th>2013</th>\n",
       "      <td>42005</td>\n",
       "      <td>6873</td>\n",
       "      <td>4088</td>\n",
       "      <td>1954</td>\n",
       "      <td>NaN</td>\n",
       "    </tr>\n",
       "    <tr>\n",
       "      <th>2014</th>\n",
       "      <td>43621</td>\n",
       "      <td>6626</td>\n",
       "      <td>4424</td>\n",
       "      <td>2244</td>\n",
       "      <td>NaN</td>\n",
       "    </tr>\n",
       "    <tr>\n",
       "      <th>2015</th>\n",
       "      <td>41702</td>\n",
       "      <td>8675</td>\n",
       "      <td>4606</td>\n",
       "      <td>3146</td>\n",
       "      <td>2395.0</td>\n",
       "    </tr>\n",
       "  </tbody>\n",
       "</table>\n",
       "</div>"
      ],
      "text/plain": [
       "      경부선 KTX  호남선 KTX  경전선 KTX  전라선 KTX  동해선 KTX\n",
       "2011    39060     7313     3627      309      NaN\n",
       "2012    39896     6967     4168     1771      NaN\n",
       "2013    42005     6873     4088     1954      NaN\n",
       "2014    43621     6626     4424     2244      NaN\n",
       "2015    41702     8675     4606     3146   2395.0"
      ]
     },
     "execution_count": 37,
     "metadata": {},
     "output_type": "execute_result"
    }
   ],
   "source": [
    "df_KTX.head()"
   ]
  },
  {
   "cell_type": "code",
   "execution_count": 38,
   "id": "a713d651",
   "metadata": {},
   "outputs": [
    {
     "data": {
      "text/html": [
       "<div>\n",
       "<style scoped>\n",
       "    .dataframe tbody tr th:only-of-type {\n",
       "        vertical-align: middle;\n",
       "    }\n",
       "\n",
       "    .dataframe tbody tr th {\n",
       "        vertical-align: top;\n",
       "    }\n",
       "\n",
       "    .dataframe thead th {\n",
       "        text-align: right;\n",
       "    }\n",
       "</style>\n",
       "<table border=\"1\" class=\"dataframe\">\n",
       "  <thead>\n",
       "    <tr style=\"text-align: right;\">\n",
       "      <th></th>\n",
       "      <th>경부선 KTX</th>\n",
       "      <th>호남선 KTX</th>\n",
       "      <th>경전선 KTX</th>\n",
       "      <th>전라선 KTX</th>\n",
       "      <th>동해선 KTX</th>\n",
       "    </tr>\n",
       "  </thead>\n",
       "  <tbody>\n",
       "    <tr>\n",
       "      <th>2013</th>\n",
       "      <td>42005</td>\n",
       "      <td>6873</td>\n",
       "      <td>4088</td>\n",
       "      <td>1954</td>\n",
       "      <td>NaN</td>\n",
       "    </tr>\n",
       "    <tr>\n",
       "      <th>2014</th>\n",
       "      <td>43621</td>\n",
       "      <td>6626</td>\n",
       "      <td>4424</td>\n",
       "      <td>2244</td>\n",
       "      <td>NaN</td>\n",
       "    </tr>\n",
       "    <tr>\n",
       "      <th>2015</th>\n",
       "      <td>41702</td>\n",
       "      <td>8675</td>\n",
       "      <td>4606</td>\n",
       "      <td>3146</td>\n",
       "      <td>2395.0</td>\n",
       "    </tr>\n",
       "    <tr>\n",
       "      <th>2016</th>\n",
       "      <td>41266</td>\n",
       "      <td>10622</td>\n",
       "      <td>4984</td>\n",
       "      <td>3945</td>\n",
       "      <td>3786.0</td>\n",
       "    </tr>\n",
       "    <tr>\n",
       "      <th>2017</th>\n",
       "      <td>32427</td>\n",
       "      <td>9228</td>\n",
       "      <td>5570</td>\n",
       "      <td>5766</td>\n",
       "      <td>6667.0</td>\n",
       "    </tr>\n",
       "  </tbody>\n",
       "</table>\n",
       "</div>"
      ],
      "text/plain": [
       "      경부선 KTX  호남선 KTX  경전선 KTX  전라선 KTX  동해선 KTX\n",
       "2013    42005     6873     4088     1954      NaN\n",
       "2014    43621     6626     4424     2244      NaN\n",
       "2015    41702     8675     4606     3146   2395.0\n",
       "2016    41266    10622     4984     3945   3786.0\n",
       "2017    32427     9228     5570     5766   6667.0"
      ]
     },
     "execution_count": 38,
     "metadata": {},
     "output_type": "execute_result"
    }
   ],
   "source": [
    "df_KTX.tail()"
   ]
  },
  {
   "cell_type": "code",
   "execution_count": 40,
   "id": "44e2c4c5",
   "metadata": {},
   "outputs": [
    {
     "data": {
      "text/html": [
       "<div>\n",
       "<style scoped>\n",
       "    .dataframe tbody tr th:only-of-type {\n",
       "        vertical-align: middle;\n",
       "    }\n",
       "\n",
       "    .dataframe tbody tr th {\n",
       "        vertical-align: top;\n",
       "    }\n",
       "\n",
       "    .dataframe thead th {\n",
       "        text-align: right;\n",
       "    }\n",
       "</style>\n",
       "<table border=\"1\" class=\"dataframe\">\n",
       "  <thead>\n",
       "    <tr style=\"text-align: right;\">\n",
       "      <th></th>\n",
       "      <th>경부선 KTX</th>\n",
       "      <th>호남선 KTX</th>\n",
       "      <th>경전선 KTX</th>\n",
       "      <th>전라선 KTX</th>\n",
       "      <th>동해선 KTX</th>\n",
       "    </tr>\n",
       "  </thead>\n",
       "  <tbody>\n",
       "    <tr>\n",
       "      <th>2011</th>\n",
       "      <td>39060</td>\n",
       "      <td>7313</td>\n",
       "      <td>3627</td>\n",
       "      <td>309</td>\n",
       "      <td>NaN</td>\n",
       "    </tr>\n",
       "    <tr>\n",
       "      <th>2012</th>\n",
       "      <td>39896</td>\n",
       "      <td>6967</td>\n",
       "      <td>4168</td>\n",
       "      <td>1771</td>\n",
       "      <td>NaN</td>\n",
       "    </tr>\n",
       "  </tbody>\n",
       "</table>\n",
       "</div>"
      ],
      "text/plain": [
       "      경부선 KTX  호남선 KTX  경전선 KTX  전라선 KTX  동해선 KTX\n",
       "2011    39060     7313     3627      309      NaN\n",
       "2012    39896     6967     4168     1771      NaN"
      ]
     },
     "execution_count": 40,
     "metadata": {},
     "output_type": "execute_result"
    }
   ],
   "source": [
    "df_KTX.head(2)"
   ]
  },
  {
   "cell_type": "code",
   "execution_count": 41,
   "id": "41662b91",
   "metadata": {},
   "outputs": [
    {
     "data": {
      "text/html": [
       "<div>\n",
       "<style scoped>\n",
       "    .dataframe tbody tr th:only-of-type {\n",
       "        vertical-align: middle;\n",
       "    }\n",
       "\n",
       "    .dataframe tbody tr th {\n",
       "        vertical-align: top;\n",
       "    }\n",
       "\n",
       "    .dataframe thead th {\n",
       "        text-align: right;\n",
       "    }\n",
       "</style>\n",
       "<table border=\"1\" class=\"dataframe\">\n",
       "  <thead>\n",
       "    <tr style=\"text-align: right;\">\n",
       "      <th></th>\n",
       "      <th>경부선 KTX</th>\n",
       "      <th>호남선 KTX</th>\n",
       "      <th>경전선 KTX</th>\n",
       "      <th>전라선 KTX</th>\n",
       "      <th>동해선 KTX</th>\n",
       "    </tr>\n",
       "  </thead>\n",
       "  <tbody>\n",
       "    <tr>\n",
       "      <th>2016</th>\n",
       "      <td>41266</td>\n",
       "      <td>10622</td>\n",
       "      <td>4984</td>\n",
       "      <td>3945</td>\n",
       "      <td>3786.0</td>\n",
       "    </tr>\n",
       "    <tr>\n",
       "      <th>2017</th>\n",
       "      <td>32427</td>\n",
       "      <td>9228</td>\n",
       "      <td>5570</td>\n",
       "      <td>5766</td>\n",
       "      <td>6667.0</td>\n",
       "    </tr>\n",
       "  </tbody>\n",
       "</table>\n",
       "</div>"
      ],
      "text/plain": [
       "      경부선 KTX  호남선 KTX  경전선 KTX  전라선 KTX  동해선 KTX\n",
       "2016    41266    10622     4984     3945   3786.0\n",
       "2017    32427     9228     5570     5766   6667.0"
      ]
     },
     "execution_count": 41,
     "metadata": {},
     "output_type": "execute_result"
    }
   ],
   "source": [
    "df_KTX.tail(2)"
   ]
  },
  {
   "cell_type": "markdown",
   "id": "6587315d",
   "metadata": {},
   "source": [
    "아무 숫자 안 넣으면 기본 10줄"
   ]
  },
  {
   "cell_type": "code",
   "execution_count": 42,
   "id": "405b1352",
   "metadata": {},
   "outputs": [
    {
     "name": "stdout",
     "output_type": "stream",
     "text": [
      "      경부선 KTX  호남선 KTX  경전선 KTX  전라선 KTX  동해선 KTX\n",
      "2012    39896     6967     4168     1771      NaN\n"
     ]
    }
   ],
   "source": [
    "print(df_KTX[1:2])"
   ]
  },
  {
   "cell_type": "code",
   "execution_count": 43,
   "id": "c6fc26be",
   "metadata": {},
   "outputs": [
    {
     "name": "stdout",
     "output_type": "stream",
     "text": [
      "      경부선 KTX  호남선 KTX  경전선 KTX  전라선 KTX  동해선 KTX\n",
      "2013    42005     6873     4088     1954      NaN\n",
      "2014    43621     6626     4424     2244      NaN\n",
      "2015    41702     8675     4606     3146   2395.0\n"
     ]
    }
   ],
   "source": [
    "print(df_KTX[2:5])"
   ]
  },
  {
   "cell_type": "code",
   "execution_count": 44,
   "id": "978b5a8d",
   "metadata": {},
   "outputs": [
    {
     "name": "stdout",
     "output_type": "stream",
     "text": [
      "경부선 KTX    39060.0\n",
      "호남선 KTX     7313.0\n",
      "경전선 KTX     3627.0\n",
      "전라선 KTX      309.0\n",
      "동해선 KTX        NaN\n",
      "Name: 2011, dtype: float64\n"
     ]
    }
   ],
   "source": [
    "print(df_KTX.loc['2011'])"
   ]
  },
  {
   "cell_type": "markdown",
   "id": "4110516f",
   "metadata": {},
   "source": [
    ".loc(index name)   \n",
    "series 객체로 나옴"
   ]
  },
  {
   "cell_type": "code",
   "execution_count": 45,
   "id": "df1d1352",
   "metadata": {},
   "outputs": [
    {
     "name": "stdout",
     "output_type": "stream",
     "text": [
      "<class 'pandas.core.series.Series'>\n"
     ]
    }
   ],
   "source": [
    "print(type(df_KTX.loc['2011']))"
   ]
  },
  {
   "cell_type": "code",
   "execution_count": 46,
   "id": "653644ea",
   "metadata": {},
   "outputs": [
    {
     "name": "stdout",
     "output_type": "stream",
     "text": [
      "      경부선 KTX  호남선 KTX  경전선 KTX  전라선 KTX  동해선 KTX\n",
      "2013    42005     6873     4088     1954      NaN\n",
      "2014    43621     6626     4424     2244      NaN\n",
      "2015    41702     8675     4606     3146   2395.0\n",
      "2016    41266    10622     4984     3945   3786.0\n"
     ]
    }
   ],
   "source": [
    "print(df_KTX.loc['2013':'2016'])"
   ]
  },
  {
   "cell_type": "markdown",
   "id": "d7783653",
   "metadata": {},
   "source": [
    "2016 포함됨 주의"
   ]
  },
  {
   "cell_type": "code",
   "execution_count": 47,
   "id": "afeed047",
   "metadata": {},
   "outputs": [
    {
     "name": "stdout",
     "output_type": "stream",
     "text": [
      "2011    39060\n",
      "2012    39896\n",
      "2013    42005\n",
      "2014    43621\n",
      "2015    41702\n",
      "2016    41266\n",
      "2017    32427\n",
      "Name: 경부선 KTX, dtype: int64\n"
     ]
    }
   ],
   "source": [
    "print(df_KTX['경부선 KTX'])"
   ]
  },
  {
   "cell_type": "markdown",
   "id": "d897c775",
   "metadata": {},
   "source": [
    "특정 column"
   ]
  },
  {
   "cell_type": "code",
   "execution_count": 48,
   "id": "df6a96bf",
   "metadata": {},
   "outputs": [
    {
     "name": "stdout",
     "output_type": "stream",
     "text": [
      "2012    39896\n",
      "2013    42005\n",
      "2014    43621\n",
      "Name: 경부선 KTX, dtype: int64\n"
     ]
    }
   ],
   "source": [
    "print(df_KTX['경부선 KTX']['2012':'2014'])"
   ]
  },
  {
   "cell_type": "markdown",
   "id": "32ac2ec5",
   "metadata": {},
   "source": [
    "특정 row column"
   ]
  },
  {
   "cell_type": "code",
   "execution_count": 49,
   "id": "81631f01",
   "metadata": {},
   "outputs": [
    {
     "name": "stdout",
     "output_type": "stream",
     "text": [
      "2012    39896\n",
      "2013    42005\n",
      "2014    43621\n",
      "Name: 경부선 KTX, dtype: int64\n"
     ]
    }
   ],
   "source": [
    "print(df_KTX['경부선 KTX'][1:4])"
   ]
  },
  {
   "cell_type": "code",
   "execution_count": 50,
   "id": "d567c086",
   "metadata": {},
   "outputs": [
    {
     "name": "stdout",
     "output_type": "stream",
     "text": [
      "10622.0\n",
      "========================================\n",
      "10622\n",
      "========================================\n",
      "10622\n",
      "========================================\n",
      "10622\n",
      "========================================\n",
      "10622\n"
     ]
    }
   ],
   "source": [
    "print(df_KTX.loc['2016']['호남선 KTX'])\n",
    "print('='*40)\n",
    "print(df_KTX.loc['2016','호남선 KTX'])\n",
    "print('='*40)\n",
    "print(df_KTX['호남선 KTX']['2016'])\n",
    "print('='*40)\n",
    "print(df_KTX['호남선 KTX'][5])\n",
    "print('='*40)\n",
    "print(df_KTX['호남선 KTX'].loc['2016'])"
   ]
  },
  {
   "cell_type": "code",
   "execution_count": 51,
   "id": "9ddd2985",
   "metadata": {},
   "outputs": [
    {
     "name": "stdout",
     "output_type": "stream",
     "text": [
      "            2011     2012     2013     2014     2015     2016     2017\n",
      "경부선 KTX  39060.0  39896.0  42005.0  43621.0  41702.0  41266.0  32427.0\n",
      "호남선 KTX   7313.0   6967.0   6873.0   6626.0   8675.0  10622.0   9228.0\n",
      "경전선 KTX   3627.0   4168.0   4088.0   4424.0   4606.0   4984.0   5570.0\n",
      "전라선 KTX    309.0   1771.0   1954.0   2244.0   3146.0   3945.0   5766.0\n",
      "동해선 KTX      NaN      NaN      NaN      NaN   2395.0   3786.0   6667.0\n"
     ]
    }
   ],
   "source": [
    "print(df_KTX.T)"
   ]
  },
  {
   "cell_type": "markdown",
   "id": "d178b4de",
   "metadata": {},
   "source": [
    "pandas 전치행렬 지원함"
   ]
  },
  {
   "cell_type": "code",
   "execution_count": 52,
   "id": "dd504bb2",
   "metadata": {},
   "outputs": [
    {
     "name": "stdout",
     "output_type": "stream",
     "text": [
      "      동해선 KTX  전라선 KTX  경전선 KTX  호남선 KTX  경부선 KTX\n",
      "2011      NaN      309     3627     7313    39060\n",
      "2012      NaN     1771     4168     6967    39896\n",
      "2013      NaN     1954     4088     6873    42005\n",
      "2014      NaN     2244     4424     6626    43621\n",
      "2015   2395.0     3146     4606     8675    41702\n",
      "2016   3786.0     3945     4984    10622    41266\n",
      "2017   6667.0     5766     5570     9228    32427\n"
     ]
    }
   ],
   "source": [
    "print(df_KTX[['동해선 KTX', '전라선 KTX', '경전선 KTX', '호남선 KTX', '경부선 KTX']])"
   ]
  },
  {
   "cell_type": "markdown",
   "id": "78815e74",
   "metadata": {},
   "source": [
    "colomn 원하는대로 순서 명시 가능"
   ]
  },
  {
   "cell_type": "code",
   "execution_count": null,
   "id": "364a00a7",
   "metadata": {},
   "outputs": [],
   "source": [
    "##-----------------------"
   ]
  },
  {
   "cell_type": "code",
   "execution_count": 56,
   "id": "f7b82558",
   "metadata": {},
   "outputs": [
    {
     "name": "stdout",
     "output_type": "stream",
     "text": [
      "   Class1  Class2\n",
      "0      95      91\n",
      "1      92      93\n",
      "2      98      97\n",
      "3     100      99\n"
     ]
    }
   ],
   "source": [
    "df1 = pd.DataFrame({'Class1': [95, 92, 98, 100], 'Class2': [91, 93, 97, 99]})\n",
    "print(df1)"
   ]
  },
  {
   "cell_type": "code",
   "execution_count": 55,
   "id": "4aa3170f",
   "metadata": {},
   "outputs": [
    {
     "name": "stdout",
     "output_type": "stream",
     "text": [
      "   Class1  Class2\n",
      "0      87      85\n",
      "1      89      90\n"
     ]
    }
   ],
   "source": [
    "df2 = pd.DataFrame({'Class1': [87, 89], 'Class2': [85, 90]})\n",
    "print(df2)"
   ]
  },
  {
   "cell_type": "code",
   "execution_count": 57,
   "id": "cfde2035",
   "metadata": {},
   "outputs": [
    {
     "name": "stdout",
     "output_type": "stream",
     "text": [
      "   Class1  Class2\n",
      "0      95      91\n",
      "1      92      93\n",
      "2      98      97\n",
      "3     100      99\n",
      "0      87      85\n",
      "1      89      90\n"
     ]
    },
    {
     "name": "stderr",
     "output_type": "stream",
     "text": [
      "C:\\Users\\BIT\\AppData\\Local\\Temp\\ipykernel_11044\\1388991793.py:1: FutureWarning: The frame.append method is deprecated and will be removed from pandas in a future version. Use pandas.concat instead.\n",
      "  print(df1.append(df2))\n"
     ]
    }
   ],
   "source": [
    "print(df1.append(df2))"
   ]
  },
  {
   "cell_type": "code",
   "execution_count": 58,
   "id": "df589b5f",
   "metadata": {},
   "outputs": [
    {
     "name": "stdout",
     "output_type": "stream",
     "text": [
      "   Class1  Class2\n",
      "0      95      91\n",
      "1      92      93\n",
      "2      98      97\n",
      "3     100      99\n",
      "4      87      85\n",
      "5      89      90\n"
     ]
    },
    {
     "name": "stderr",
     "output_type": "stream",
     "text": [
      "C:\\Users\\BIT\\AppData\\Local\\Temp\\ipykernel_11044\\231860784.py:1: FutureWarning: The frame.append method is deprecated and will be removed from pandas in a future version. Use pandas.concat instead.\n",
      "  print(df1.append(df2, ignore_index=True))\n"
     ]
    }
   ],
   "source": [
    "print(df1.append(df2, ignore_index=True))"
   ]
  },
  {
   "cell_type": "markdown",
   "id": "0f65a97f",
   "metadata": {},
   "source": [
    "ignore_index=True; 기존 원데이터 인덱스 무시하고 새롭게 붙여줌"
   ]
  },
  {
   "cell_type": "code",
   "execution_count": 59,
   "id": "c48692ad",
   "metadata": {},
   "outputs": [
    {
     "name": "stdout",
     "output_type": "stream",
     "text": [
      "   Class1  Class2\n",
      "0      95      91\n",
      "1      92      93\n",
      "2      98      97\n",
      "3     100      99\n",
      "4      87      85\n",
      "5      89      90\n"
     ]
    }
   ],
   "source": [
    "# print(df1.append(df2, ignore_index=True))\n",
    "print(pd.concat([df1, df2], ignore_index=True))"
   ]
  },
  {
   "cell_type": "code",
   "execution_count": 61,
   "id": "eafee6fd",
   "metadata": {},
   "outputs": [
    {
     "name": "stdout",
     "output_type": "stream",
     "text": [
      "   Class1\n",
      "0      96\n",
      "1      83\n"
     ]
    }
   ],
   "source": [
    "df3 = pd.DataFrame({'Class1': [96, 83]})\n",
    "print(df3)"
   ]
  },
  {
   "cell_type": "code",
   "execution_count": 62,
   "id": "8bc24467",
   "metadata": {},
   "outputs": [
    {
     "name": "stdout",
     "output_type": "stream",
     "text": [
      "   Class1  Class2\n",
      "0      87    85.0\n",
      "1      89    90.0\n",
      "2      96     NaN\n",
      "3      83     NaN\n"
     ]
    }
   ],
   "source": [
    "print(pd.concat([df2, df3], ignore_index=True))"
   ]
  },
  {
   "cell_type": "markdown",
   "id": "7c2691ff",
   "metadata": {},
   "source": [
    "concat; 데이터를 위아래로 붙여줌"
   ]
  },
  {
   "cell_type": "code",
   "execution_count": 64,
   "id": "9ec276d8",
   "metadata": {},
   "outputs": [
    {
     "name": "stdout",
     "output_type": "stream",
     "text": [
      "   Class3\n",
      "0      93\n",
      "1      91\n",
      "2      95\n",
      "3      98\n"
     ]
    }
   ],
   "source": [
    "df4 = pd.DataFrame({'Class3': [93, 91, 95, 98]})\n",
    "print(df4)"
   ]
  },
  {
   "cell_type": "code",
   "execution_count": 65,
   "id": "e6f3ae2c",
   "metadata": {},
   "outputs": [
    {
     "name": "stdout",
     "output_type": "stream",
     "text": [
      "   Class1  Class2\n",
      "0      95      91\n",
      "1      92      93\n",
      "2      98      97\n",
      "3     100      99\n"
     ]
    }
   ],
   "source": [
    "print(df1)"
   ]
  },
  {
   "cell_type": "markdown",
   "id": "6fe0a8eb",
   "metadata": {},
   "source": [
    "join; 데이터 좌우로 붙이기"
   ]
  },
  {
   "cell_type": "code",
   "execution_count": 66,
   "id": "b04befe7",
   "metadata": {},
   "outputs": [
    {
     "name": "stdout",
     "output_type": "stream",
     "text": [
      "   Class1  Class2  Class3\n",
      "0      95      91      93\n",
      "1      92      93      91\n",
      "2      98      97      95\n",
      "3     100      99      98\n"
     ]
    }
   ],
   "source": [
    "print(df1.join(df4))"
   ]
  },
  {
   "cell_type": "code",
   "execution_count": 68,
   "id": "64fd2101",
   "metadata": {},
   "outputs": [
    {
     "name": "stdout",
     "output_type": "stream",
     "text": [
      "  판매월  제품A  제품B\n",
      "0  1월  100   90\n",
      "1  2월  150  110\n",
      "2  3월  200  140\n",
      "3  4월  130  170\n"
     ]
    }
   ],
   "source": [
    "df_A_B = pd.DataFrame({'판매월': ['1월', '2월', '3월', '4월'],\n",
    "                       '제품A': [100, 150, 200, 130],\n",
    "                       '제품B': [90, 110, 140, 170]})\n",
    "print(df_A_B)"
   ]
  },
  {
   "cell_type": "code",
   "execution_count": 69,
   "id": "bf8eaea3",
   "metadata": {},
   "outputs": [
    {
     "name": "stdout",
     "output_type": "stream",
     "text": [
      "  판매월  제품C  제품D\n",
      "0  1월  112   90\n",
      "1  2월  141  110\n",
      "2  3월  203  140\n",
      "3  4월  134  170\n"
     ]
    }
   ],
   "source": [
    "df_C_D = pd.DataFrame({'판매월': ['1월', '2월', '3월', '4월'],\n",
    "                       '제품C': [112, 141, 203, 134],\n",
    "                       '제품D': [90, 110, 140, 170]})\n",
    "print(df_C_D)"
   ]
  },
  {
   "cell_type": "code",
   "execution_count": 70,
   "id": "a2a7a542",
   "metadata": {},
   "outputs": [
    {
     "name": "stdout",
     "output_type": "stream",
     "text": [
      "  판매월  제품A  제품B  제품C  제품D\n",
      "0  1월  100   90  112   90\n",
      "1  2월  150  110  141  110\n",
      "2  3월  200  140  203  140\n",
      "3  4월  130  170  134  170\n"
     ]
    }
   ],
   "source": [
    "print(df_A_B.merge(df_C_D))"
   ]
  },
  {
   "cell_type": "markdown",
   "id": "1ca6ab91",
   "metadata": {},
   "source": [
    "merge;   \n",
    "join과 비슷   \n",
    "차이점은 동일한 column 기준으로 합쳐짐"
   ]
  },
  {
   "cell_type": "code",
   "execution_count": 71,
   "id": "1e4adc16",
   "metadata": {},
   "outputs": [
    {
     "name": "stdout",
     "output_type": "stream",
     "text": [
      "  key  left\n",
      "0   A     1\n",
      "1   B     2\n",
      "2   C     3\n",
      "========================================\n",
      "  key  right\n",
      "0   A      4\n",
      "1   B      5\n",
      "2   D      6\n"
     ]
    }
   ],
   "source": [
    "df_left = pd.DataFrame({'key':['A','B','C'], 'left': [1, 2, 3]})\n",
    "print(df_left)\n",
    "print('='*40)\n",
    "df_right = pd.DataFrame({'key':['A','B','D'], 'right': [4, 5, 6]})\n",
    "print(df_right)"
   ]
  },
  {
   "cell_type": "code",
   "execution_count": 72,
   "id": "552efbe8",
   "metadata": {},
   "outputs": [
    {
     "name": "stdout",
     "output_type": "stream",
     "text": [
      "  key  left  right\n",
      "0   A     1    4.0\n",
      "1   B     2    5.0\n",
      "2   C     3    NaN\n"
     ]
    }
   ],
   "source": [
    "print(df_left.merge(df_right, how='left', on = 'key'))"
   ]
  },
  {
   "cell_type": "markdown",
   "id": "4fe057ea",
   "metadata": {},
   "source": [
    "[2순위]how; key 다른 것이 존재함, left 기준으로   \n",
    "[1순위] on; key 기준으로   \n",
    "left outer join 과 비슷   \n",
    "아래는 right outer join 과 비슷"
   ]
  },
  {
   "cell_type": "code",
   "execution_count": 73,
   "id": "de323d41",
   "metadata": {
    "scrolled": true
   },
   "outputs": [
    {
     "name": "stdout",
     "output_type": "stream",
     "text": [
      "  key  left  right\n",
      "0   A   1.0      4\n",
      "1   B   2.0      5\n",
      "2   D   NaN      6\n"
     ]
    }
   ],
   "source": [
    "print(df_left.merge(df_right, how='right', on = 'key'))"
   ]
  },
  {
   "cell_type": "code",
   "execution_count": 76,
   "id": "aa693d05",
   "metadata": {},
   "outputs": [
    {
     "name": "stdout",
     "output_type": "stream",
     "text": [
      "  key  left  right\n",
      "0   A   1.0    4.0\n",
      "1   B   2.0    5.0\n",
      "2   C   3.0    NaN\n",
      "3   D   NaN    6.0\n"
     ]
    }
   ],
   "source": [
    "print(df_left.merge(df_right, how='outer', on = 'key'))"
   ]
  },
  {
   "cell_type": "markdown",
   "id": "922c835a",
   "metadata": {},
   "source": [
    "- or"
   ]
  },
  {
   "cell_type": "code",
   "execution_count": 75,
   "id": "6cd77730",
   "metadata": {},
   "outputs": [
    {
     "name": "stdout",
     "output_type": "stream",
     "text": [
      "  key  left  right\n",
      "0   A     1      4\n",
      "1   B     2      5\n"
     ]
    }
   ],
   "source": [
    "print(df_left.merge(df_right, how='inner', on = 'key'))"
   ]
  },
  {
   "cell_type": "markdown",
   "id": "72273f96",
   "metadata": {},
   "source": [
    "- and"
   ]
  },
  {
   "cell_type": "code",
   "execution_count": null,
   "id": "92b3e171",
   "metadata": {},
   "outputs": [],
   "source": []
  }
 ],
 "metadata": {
  "kernelspec": {
   "display_name": "Python 3 (ipykernel)",
   "language": "python",
   "name": "python3"
  },
  "language_info": {
   "codemirror_mode": {
    "name": "ipython",
    "version": 3
   },
   "file_extension": ".py",
   "mimetype": "text/x-python",
   "name": "python",
   "nbconvert_exporter": "python",
   "pygments_lexer": "ipython3",
   "version": "3.8.13"
  }
 },
 "nbformat": 4,
 "nbformat_minor": 5
}
