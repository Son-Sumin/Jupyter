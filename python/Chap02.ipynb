{
 "cells": [
  {
   "cell_type": "markdown",
   "id": "5ea849bb",
   "metadata": {},
   "source": [
    "## 2.1 분류(Clsassification)와 회귀(Regression)  \n",
    "1. 분류  \n",
    "a. 분류는 미리 정의된 가능성 있는 여러 클래스 레이블 중 하나를 예측  \n",
    "b. 두 개의 클래스로 분류하는 건 이진 분류(binary classification), 셋 이상의 클래스로 분류하는 건 다중 분류(multiclass classification) 이라 함  \n",
    "\n",
    "2. 회귀  \n",
    "a. 연속적인 숫자(실수)를 예측  \n",
    "b. 사람의 교육 수준, 나이, 주거지를 바탕으로 연간 소득을 예측 또는 특정 농산물의 올 해 수확량 예측  \n",
    "c. 분류문제와 달리 회귀문제에서는 출력값의 작은 차이는 문제가 되지 않음"
   ]
  },
  {
   "cell_type": "code",
   "execution_count": null,
   "id": "83bee2a3",
   "metadata": {},
   "outputs": [],
   "source": []
  }
 ],
 "metadata": {
  "kernelspec": {
   "display_name": "Python 3 (ipykernel)",
   "language": "python",
   "name": "python3"
  },
  "language_info": {
   "codemirror_mode": {
    "name": "ipython",
    "version": 3
   },
   "file_extension": ".py",
   "mimetype": "text/x-python",
   "name": "python",
   "nbconvert_exporter": "python",
   "pygments_lexer": "ipython3",
   "version": "3.8.15"
  }
 },
 "nbformat": 4,
 "nbformat_minor": 5
}
