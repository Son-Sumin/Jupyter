{
 "cells": [
  {
   "cell_type": "markdown",
   "id": "542aaffa",
   "metadata": {},
   "source": [
    "# < List Comprehension >   \n",
    "- list comprehension 사용한 경우를 일반 문과 비교하면 처리속도 우세함"
   ]
  },
  {
   "cell_type": "code",
   "execution_count": 8,
   "id": "c150fa49",
   "metadata": {},
   "outputs": [
    {
     "name": "stdout",
     "output_type": "stream",
     "text": [
      "[0, 1, 2, 3, 4, 5, 6, 7, 8, 9]\n",
      "\n"
     ]
    }
   ],
   "source": [
    "result = []\n",
    "\n",
    "for i in range(10):\n",
    "    result.append(i)\n",
    "\n",
    "print(result)\n",
    "print()"
   ]
  },
  {
   "cell_type": "code",
   "execution_count": 6,
   "id": "5ed71069",
   "metadata": {},
   "outputs": [
    {
     "name": "stdout",
     "output_type": "stream",
     "text": [
      "[0, 1, 2, 3, 4, 5, 6, 7, 8, 9]\n"
     ]
    }
   ],
   "source": [
    "result2 = [i for i in range(10)]\n",
    "print(result2)"
   ]
  },
  {
   "cell_type": "markdown",
   "id": "e37e0d2e",
   "metadata": {},
   "source": [
    "- List Comprehension   \n",
    "result와 result2 결과는 같지만 실행 속도 우세     "
   ]
  },
  {
   "cell_type": "markdown",
   "id": "b94868df",
   "metadata": {},
   "source": [
    "      \n",
    "   \n",
    "\n",
    "### List Comprehension if문   \n",
    "- 순서   \n",
    "1. 변수, 변수 범위, if문   \n",
    "2. 변수, if문, else문, 변수 범위"
   ]
  },
  {
   "cell_type": "code",
   "execution_count": 9,
   "id": "493c9924",
   "metadata": {},
   "outputs": [
    {
     "name": "stdout",
     "output_type": "stream",
     "text": [
      "[0, 2, 4, 6, 8]\n",
      "\n"
     ]
    }
   ],
   "source": [
    "result = []\n",
    "\n",
    "for i in range(10):\n",
    "    if i % 2 == 0:\n",
    "        result.append(i)\n",
    "\n",
    "print(result)\n",
    "print()"
   ]
  },
  {
   "cell_type": "code",
   "execution_count": 5,
   "id": "30dc32da",
   "metadata": {},
   "outputs": [
    {
     "name": "stdout",
     "output_type": "stream",
     "text": [
      "[0, 2, 4, 6, 8]\n"
     ]
    }
   ],
   "source": [
    "# 순서 1.변수, 변수 범위, if문\n",
    "result2 = [i for i in range(10) if i % 2 == 0]\n",
    "print(result2)"
   ]
  },
  {
   "cell_type": "code",
   "execution_count": 6,
   "id": "d02b2330",
   "metadata": {},
   "outputs": [
    {
     "name": "stdout",
     "output_type": "stream",
     "text": [
      "[0, 99, 2, 99, 4, 99, 6, 99, 8, 99]\n",
      "\n"
     ]
    }
   ],
   "source": [
    "result = []\n",
    "\n",
    "for i in range(10):\n",
    "    if i % 2 == 0:\n",
    "        result.append(i)\n",
    "    else:\n",
    "        result.append(99)\n",
    "\n",
    "print(result)\n",
    "print()"
   ]
  },
  {
   "cell_type": "code",
   "execution_count": 7,
   "id": "af19f104",
   "metadata": {},
   "outputs": [
    {
     "name": "stdout",
     "output_type": "stream",
     "text": [
      "[0, 99, 2, 99, 4, 99, 6, 99, 8, 99]\n"
     ]
    }
   ],
   "source": [
    "# 순서 2.변수, if문, else문, 변수 범위\n",
    "result2 = [i  if i % 2 == 0 else 99 for i in range(10)]\n",
    "print(result2)"
   ]
  },
  {
   "cell_type": "markdown",
   "id": "cf86a8aa",
   "metadata": {},
   "source": [
    "      \n",
    "### List Comprehension 이중 for문"
   ]
  },
  {
   "cell_type": "code",
   "execution_count": 18,
   "id": "8da97cb5",
   "metadata": {},
   "outputs": [
    {
     "name": "stdout",
     "output_type": "stream",
     "text": [
      "['AA', 'AB', 'AC', 'BA', 'BB', 'BC', 'CA', 'CB', 'CC']\n"
     ]
    }
   ],
   "source": [
    "result = []\n",
    "case1 = [\"A\", \"B\", \"C\"]\n",
    "case2 = [\"A\", \"B\", \"C\"]\n",
    "for i in case1:\n",
    "    for j in case2:\n",
    "        result.append(i + j)\n",
    "print(result)"
   ]
  },
  {
   "cell_type": "code",
   "execution_count": 20,
   "id": "94a0b039",
   "metadata": {},
   "outputs": [
    {
     "name": "stdout",
     "output_type": "stream",
     "text": [
      "['AA', 'AB', 'AC', 'BA', 'BB', 'BC', 'CA', 'CB', 'CC']\n"
     ]
    }
   ],
   "source": [
    "result2 = [i + j for i in case1 for j in case2]\n",
    "print(result2)"
   ]
  },
  {
   "cell_type": "markdown",
   "id": "58f09554",
   "metadata": {},
   "source": [
    "#### List Comprehension 이중 for문 + if문"
   ]
  },
  {
   "cell_type": "code",
   "execution_count": 22,
   "id": "d92db317",
   "metadata": {},
   "outputs": [
    {
     "name": "stdout",
     "output_type": "stream",
     "text": [
      "['AB', 'AC', 'BA', 'BC', 'CA', 'CB']\n"
     ]
    }
   ],
   "source": [
    "result2 = [i + j for i in case1 for j in case2 if i != j ]\n",
    "print(result2)"
   ]
  },
  {
   "cell_type": "markdown",
   "id": "3e599395",
   "metadata": {},
   "source": [
    "* Python은 list에 여러 타입 넣을 수 있음(속도느림)   \n",
    "* numpy list는 다른 타입 못 넣음(속도빠름)"
   ]
  },
  {
   "cell_type": "markdown",
   "id": "fc243c51",
   "metadata": {},
   "source": [
    "# < Numpy >\n",
    "- Python -  list에 여러 타입(shape) 넣을 수 있음 (속도느림)\n",
    "- Numpy - list에 한 타입만 넣을 수 있음 (속도빠름)\n",
    "   \n",
    "- 결과상 python list는 \",\" 있고, numpy list는 \",\" 없다"
   ]
  },
  {
   "cell_type": "code",
   "execution_count": 11,
   "id": "f0ff2348",
   "metadata": {},
   "outputs": [],
   "source": [
    "import numpy as np"
   ]
  },
  {
   "cell_type": "markdown",
   "id": "5bd819b2",
   "metadata": {},
   "source": [
    "- 향후 numpy 함수 사용할 때 np."
   ]
  },
  {
   "cell_type": "code",
   "execution_count": 12,
   "id": "835ade33",
   "metadata": {},
   "outputs": [
    {
     "name": "stdout",
     "output_type": "stream",
     "text": [
      "[0 1 2 3 4 5]\n"
     ]
    }
   ],
   "source": [
    "a1 = np.array([0,1,2,3,4,5])\n",
    "print(a1)"
   ]
  },
  {
   "cell_type": "code",
   "execution_count": 13,
   "id": "99985ca8",
   "metadata": {},
   "outputs": [
    {
     "name": "stdout",
     "output_type": "stream",
     "text": [
      "<class 'numpy.ndarray'>\n"
     ]
    }
   ],
   "source": [
    "print(type(a1))  # type 확인"
   ]
  },
  {
   "cell_type": "code",
   "execution_count": 15,
   "id": "b8b4be56",
   "metadata": {},
   "outputs": [
    {
     "name": "stdout",
     "output_type": "stream",
     "text": [
      "int32\n"
     ]
    }
   ],
   "source": [
    "print(a1.dtype)  # 배열 항목의 속성 확인"
   ]
  },
  {
   "cell_type": "code",
   "execution_count": 19,
   "id": "6e9a7f86",
   "metadata": {},
   "outputs": [
    {
     "name": "stdout",
     "output_type": "stream",
     "text": [
      "[[1, 2, 3], [4, 5, 6], [7, 8, 9]]\n"
     ]
    }
   ],
   "source": [
    "list1 = [[1,2,3], [4,5,6], [7,8,9]]\n",
    "print(list1)"
   ]
  },
  {
   "cell_type": "markdown",
   "id": "781f4192",
   "metadata": {},
   "source": [
    "└> python 2차원 배열"
   ]
  },
  {
   "cell_type": "code",
   "execution_count": 20,
   "id": "08a36eb7",
   "metadata": {},
   "outputs": [
    {
     "name": "stdout",
     "output_type": "stream",
     "text": [
      "[[1 2 3]\n",
      " [4 5 6]\n",
      " [7 8 9]]\n"
     ]
    }
   ],
   "source": [
    "list2 = np.array(list1)\n",
    "print(list2)"
   ]
  },
  {
   "cell_type": "markdown",
   "id": "b49c9930",
   "metadata": {},
   "source": [
    "└> numpy 2차원 배열"
   ]
  },
  {
   "cell_type": "markdown",
   "id": "68852070",
   "metadata": {},
   "source": [
    "### np.arange   \n",
    "- numpy 배열 생성시 사용\n",
    "- np.arange(a,b,c) : a ~ b-1 중 c간격으로   \n",
    "- np.arange(a,b,c).reshape(x,y) : 위의 결과를 x*y matrix로   \n",
    "   * ab = xy 주의  (ab != xy 에러)\n",
    "   * x = -1 or y = -1 : x = -1 → x = ab/y  (y = -1 경우도 같은 원리)"
   ]
  },
  {
   "cell_type": "code",
   "execution_count": 21,
   "id": "08bdb4f7",
   "metadata": {},
   "outputs": [
    {
     "name": "stdout",
     "output_type": "stream",
     "text": [
      "[0 2 4 6 8]\n"
     ]
    }
   ],
   "source": [
    "a = np.arange(0,10,2)\n",
    "print(a)"
   ]
  },
  {
   "cell_type": "code",
   "execution_count": 22,
   "id": "8c31ae4a",
   "metadata": {},
   "outputs": [
    {
     "name": "stdout",
     "output_type": "stream",
     "text": [
      "[0 1 2 3 4 5 6 7 8 9]\n"
     ]
    }
   ],
   "source": [
    "a = np.arange(10)\n",
    "print(a)"
   ]
  },
  {
   "cell_type": "code",
   "execution_count": 23,
   "id": "ee34541f",
   "metadata": {},
   "outputs": [
    {
     "name": "stdout",
     "output_type": "stream",
     "text": [
      "[1 2 3 4 5 6 7 8 9]\n"
     ]
    }
   ],
   "source": [
    "a = np.arange(1, 10)\n",
    "print(a)"
   ]
  },
  {
   "cell_type": "code",
   "execution_count": 24,
   "id": "0275f42c",
   "metadata": {},
   "outputs": [
    {
     "name": "stdout",
     "output_type": "stream",
     "text": [
      "[[ 0  1  2]\n",
      " [ 3  4  5]\n",
      " [ 6  7  8]\n",
      " [ 9 10 11]]\n"
     ]
    }
   ],
   "source": [
    "a = np.arange(12).reshape(4,3)\n",
    "print(a)"
   ]
  },
  {
   "cell_type": "code",
   "execution_count": 25,
   "id": "717b8548",
   "metadata": {},
   "outputs": [
    {
     "name": "stdout",
     "output_type": "stream",
     "text": [
      "[[ 0  1  2]\n",
      " [ 3  4  5]\n",
      " [ 6  7  8]\n",
      " [ 9 10 11]]\n"
     ]
    }
   ],
   "source": [
    "a = np.arange(12).reshape(4,-1)\n",
    "print(a)"
   ]
  },
  {
   "cell_type": "code",
   "execution_count": 26,
   "id": "d81fdd7b",
   "metadata": {},
   "outputs": [
    {
     "name": "stdout",
     "output_type": "stream",
     "text": [
      "[[ 0  1  2]\n",
      " [ 3  4  5]\n",
      " [ 6  7  8]\n",
      " [ 9 10 11]]\n"
     ]
    }
   ],
   "source": [
    "a = np.arange(12).reshape(-1,3)\n",
    "print(a)"
   ]
  },
  {
   "cell_type": "code",
   "execution_count": 27,
   "id": "00411a8c",
   "metadata": {},
   "outputs": [
    {
     "ename": "ValueError",
     "evalue": "cannot reshape array of size 11 into shape (3)",
     "output_type": "error",
     "traceback": [
      "\u001b[1;31m---------------------------------------------------------------------------\u001b[0m",
      "\u001b[1;31mValueError\u001b[0m                                Traceback (most recent call last)",
      "Cell \u001b[1;32mIn[27], line 1\u001b[0m\n\u001b[1;32m----> 1\u001b[0m a \u001b[38;5;241m=\u001b[39m \u001b[43mnp\u001b[49m\u001b[38;5;241;43m.\u001b[39;49m\u001b[43marange\u001b[49m\u001b[43m(\u001b[49m\u001b[38;5;241;43m11\u001b[39;49m\u001b[43m)\u001b[49m\u001b[38;5;241;43m.\u001b[39;49m\u001b[43mreshape\u001b[49m\u001b[43m(\u001b[49m\u001b[38;5;241;43m-\u001b[39;49m\u001b[38;5;241;43m1\u001b[39;49m\u001b[43m,\u001b[49m\u001b[38;5;241;43m3\u001b[39;49m\u001b[43m)\u001b[49m\n\u001b[0;32m      2\u001b[0m \u001b[38;5;28mprint\u001b[39m(a)\n",
      "\u001b[1;31mValueError\u001b[0m: cannot reshape array of size 11 into shape (3)"
     ]
    }
   ],
   "source": [
    "a = np.arange(11).reshape(-1,3)\n",
    "print(a)"
   ]
  },
  {
   "cell_type": "markdown",
   "id": "41448e97",
   "metadata": {},
   "source": [
    "### np.linspace   \n",
    "- np.linspace(a, b, c) : a ~ b-1 중 c등분\n",
    "- 숫자. : 실수 의미   \n",
    "- zeros, ones, eye\n",
    "- element-wise operation"
   ]
  },
  {
   "cell_type": "code",
   "execution_count": 40,
   "id": "e608b9b2",
   "metadata": {},
   "outputs": [
    {
     "name": "stdout",
     "output_type": "stream",
     "text": [
      "[ 1.  2.  3.  4.  5.  6.  7.  8.  9. 10.]\n"
     ]
    }
   ],
   "source": [
    "a = np.linspace(1, 10, 10)\n",
    "print(a)"
   ]
  },
  {
   "cell_type": "code",
   "execution_count": 41,
   "id": "39e76301",
   "metadata": {},
   "outputs": [
    {
     "name": "stdout",
     "output_type": "stream",
     "text": [
      "[ 1.          2.28571429  3.57142857  4.85714286  6.14285714  7.42857143\n",
      "  8.71428571 10.        ]\n"
     ]
    }
   ],
   "source": [
    "a = np.linspace(1, 10, 8)\n",
    "print(a)"
   ]
  },
  {
   "cell_type": "code",
   "execution_count": 42,
   "id": "3824a32d",
   "metadata": {},
   "outputs": [
    {
     "name": "stdout",
     "output_type": "stream",
     "text": [
      "[0.         0.16534698 0.33069396 0.49604095 0.66138793 0.82673491\n",
      " 0.99208189 1.15742887 1.32277585 1.48812284 1.65346982 1.8188168\n",
      " 1.98416378 2.14951076 2.31485774 2.48020473 2.64555171 2.81089869\n",
      " 2.97624567 3.14159265]\n"
     ]
    }
   ],
   "source": [
    "a = np.linspace(0, np.pi, 20)\n",
    "print(a)"
   ]
  },
  {
   "cell_type": "code",
   "execution_count": 43,
   "id": "489e65b1",
   "metadata": {},
   "outputs": [
    {
     "name": "stdout",
     "output_type": "stream",
     "text": [
      "[0 0 0 0 0 0 0 0 0 0]\n",
      "[[0 0 0 0]\n",
      " [0 0 0 0]\n",
      " [0 0 0 0]]\n",
      "[1. 1. 1. 1. 1.]\n",
      "[[1. 1. 1. 1. 1.]\n",
      " [1. 1. 1. 1. 1.]\n",
      " [1. 1. 1. 1. 1.]]\n",
      "[[1. 0. 0.]\n",
      " [0. 1. 0.]\n",
      " [0. 0. 1.]]\n"
     ]
    }
   ],
   "source": [
    "a1 = np.zeros(10, int)\n",
    "print(a1)\n",
    "a2 = np.zeros((3, 4), int)\n",
    "print(a2)\n",
    "a3 = np.ones(5)\n",
    "print(a3)\n",
    "a4 = np.ones((3, 5))\n",
    "print(a4)\n",
    "a5 = np.eye(3)\n",
    "print(a5)"
   ]
  },
  {
   "cell_type": "markdown",
   "id": "185c6125",
   "metadata": {},
   "source": [
    "- 숫자 타입 지정하지 않으면 실수(기본)\n",
    "- matrix 크기 지정 가능   \n",
    "   \n",
    "- zeros : 0으로 채워진 배열   \n",
    "- ones :  1으로 채워진 배열   \n",
    "- eye : 단위행렬"
   ]
  },
  {
   "cell_type": "code",
   "execution_count": 28,
   "id": "7d8a511d",
   "metadata": {},
   "outputs": [
    {
     "name": "stdout",
     "output_type": "stream",
     "text": [
      "[10, 20, 30, 40, 1, 2, 3, 4]\n"
     ]
    }
   ],
   "source": [
    "list1 = [10, 20, 30, 40]\n",
    "list2 = [1, 2, 3, 4]\n",
    "print(list1 + list2)"
   ]
  },
  {
   "cell_type": "code",
   "execution_count": 29,
   "id": "459122b5",
   "metadata": {},
   "outputs": [
    {
     "name": "stdout",
     "output_type": "stream",
     "text": [
      "[11 22 33 44]\n"
     ]
    }
   ],
   "source": [
    "import numpy as np\n",
    "a1 = np.array(list1)\n",
    "a2 = np.array(list2)\n",
    "print(a1 + a2)"
   ]
  },
  {
   "cell_type": "code",
   "execution_count": 30,
   "id": "69577553",
   "metadata": {},
   "outputs": [
    {
     "name": "stdout",
     "output_type": "stream",
     "text": [
      "[ True  True  True  True]\n"
     ]
    }
   ],
   "source": [
    "print(a1 > a2)"
   ]
  },
  {
   "cell_type": "markdown",
   "id": "1a41a2e6",
   "metadata": {},
   "source": [
    "- element-wise operation   \n",
    "python과 다르게 numpy는 항목끼리 사칙연산과 비교 가능   \n",
    "단, 두 항목은 shape 동일해야함"
   ]
  },
  {
   "cell_type": "code",
   "execution_count": 47,
   "id": "ca9b724f",
   "metadata": {},
   "outputs": [
    {
     "name": "stdout",
     "output_type": "stream",
     "text": [
      "15\n",
      "3.0\n",
      "1.4142135623730951\n",
      "2.0\n",
      "1\n",
      "5\n",
      "[ 1  3  6 10 15]\n",
      "[  1   2   6  24 120]\n"
     ]
    }
   ],
   "source": [
    "a1 = np.arange(1, 6)\n",
    "\n",
    "print(a1.sum())\n",
    "print(a1.mean())\n",
    "print(a1.std())\n",
    "print(a1.var())\n",
    "print(a1.min())\n",
    "print(a1.max())\n",
    "print(a1.cumsum())\n",
    "print(a1.cumprod())"
   ]
  },
  {
   "cell_type": "markdown",
   "id": "dff35373",
   "metadata": {},
   "source": [
    "- cumsum : 누적 합\n",
    "- cumprod : 누적 곱"
   ]
  },
  {
   "cell_type": "code",
   "execution_count": 48,
   "id": "fff6cfc2",
   "metadata": {},
   "outputs": [
    {
     "name": "stdout",
     "output_type": "stream",
     "text": [
      "[[0 1]\n",
      " [2 3]]\n",
      "[[3 2]\n",
      " [0 1]]\n",
      "--------------------\n",
      "[[0 1]\n",
      " [6 7]]\n",
      "[[0 1]\n",
      " [6 7]]\n",
      "--------------------\n",
      "[[0 2]\n",
      " [1 3]]\n",
      "[[0 2]\n",
      " [1 3]]\n",
      "[[0 2]\n",
      " [1 3]]\n",
      "--------------------\n",
      "[[-1.5  0.5]\n",
      " [ 1.   0. ]]\n",
      "-2.0\n"
     ]
    }
   ],
   "source": [
    "a = np.array([0, 1, 2, 3]).reshape(2, 2)\n",
    "print(a)\n",
    "\n",
    "b = np.array([3, 2, 0, 1]).reshape(2, 2)\n",
    "print(b)\n",
    "print('-'*20)\n",
    "print(a.dot(b)) # 행렬곱\n",
    "print(np.dot(a, b)) # 행렬곱\n",
    "print('-'*20)\n",
    "print(np.transpose(a)) # 전치행렬\n",
    "print(a.transpose()) # 전치행렬\n",
    "print(a.T) # 전치행렬\n",
    "print('-'*20)\n",
    "print(np.linalg.inv(a)) # 역행렬\n",
    "print(np.linalg.det(a)) # 행렬식"
   ]
  },
  {
   "cell_type": "markdown",
   "id": "61cec6b6",
   "metadata": {},
   "source": [
    "- numpy는 선형대수 지원"
   ]
  },
  {
   "cell_type": "code",
   "execution_count": 49,
   "id": "7c393eea",
   "metadata": {},
   "outputs": [
    {
     "name": "stdout",
     "output_type": "stream",
     "text": [
      "[10 30 40]\n",
      "[[10 20 30]\n",
      " [40 50 60]\n",
      " [70 80 90]]\n",
      "30\n",
      "[[10 20 30]\n",
      " [40 50 60]\n",
      " [70 80 97]]\n",
      "[40 50 60]\n",
      "--------------------\n",
      "[[10 20 30]\n",
      " [45 55 65]\n",
      " [70 80 97]]\n",
      "[[10 20 30]\n",
      " [45 55 65]\n",
      " [75 85 95]]\n",
      "--------------------\n",
      "[10 85]\n"
     ]
    }
   ],
   "source": [
    "a = np.array([0, 10, 20, 30, 40, 50])\n",
    "\n",
    "print(a[[1, 3, 4]])\n",
    "\n",
    "b = np.arange(10, 100, 10).reshape(3, 3)\n",
    "print(b)\n",
    "print(b[0, 2])\n",
    "b[2, 2] = 97\n",
    "print(b)\n",
    "print(b[1])\n",
    "print('-'*20)\n",
    "b[1] = np.array([45, 55, 65])\n",
    "print(b)\n",
    "b[2] = [75, 85, 95]\n",
    "print(b)\n",
    "print('-'*20)\n",
    "print(b[[0, 2], [0, 1]])"
   ]
  },
  {
   "cell_type": "markdown",
   "id": "b0d98a41",
   "metadata": {},
   "source": [
    "- b[[0, 2], [0, 1]]   \n",
    "[0, 0] = 10   \n",
    "[2, 1] = 85   \n",
    "[10, 85]"
   ]
  },
  {
   "cell_type": "code",
   "execution_count": 50,
   "id": "ada6293d",
   "metadata": {},
   "outputs": [
    {
     "name": "stdout",
     "output_type": "stream",
     "text": [
      "[4 5 6]\n",
      "[2 4 6]\n"
     ]
    }
   ],
   "source": [
    "a = np.array([1, 2, 3, 4, 5, 6])\n",
    "print(a[a > 3])\n",
    "print(a[(a % 2) == 0])"
   ]
  },
  {
   "cell_type": "markdown",
   "id": "84b0d32f",
   "metadata": {},
   "source": [
    "- [] 안에 식을 지원함"
   ]
  },
  {
   "cell_type": "code",
   "execution_count": 31,
   "id": "b92c828a",
   "metadata": {},
   "outputs": [
    {
     "name": "stdout",
     "output_type": "stream",
     "text": [
      "[10 20 30]\n",
      "[ 0 10 20]\n",
      "[20 30 40 50]\n",
      "[ 0 10 25 35 45 50]\n"
     ]
    }
   ],
   "source": [
    "a = np.array([0, 10, 20, 30, 40, 50])\n",
    "print(a[1:4])\n",
    "print(a[:3])\n",
    "print(a[2:])\n",
    "a[2:5] = np.array([25, 35, 45])\n",
    "print(a)"
   ]
  },
  {
   "cell_type": "code",
   "execution_count": 32,
   "id": "d4aee09f",
   "metadata": {},
   "outputs": [
    {
     "name": "stdout",
     "output_type": "stream",
     "text": [
      "[[10 20 30]\n",
      " [40 50 60]\n",
      " [70 80 90]]\n",
      "[[50 60]\n",
      " [80 90]]\n",
      "[[20 30]\n",
      " [50 60]\n",
      " [80 90]]\n",
      "[40 50]\n",
      "[[10 25 35]\n",
      " [40 55 65]\n",
      " [70 80 90]]\n"
     ]
    }
   ],
   "source": [
    "a = np.arange(10, 100, 10).reshape(3, 3)\n",
    "print(a)\n",
    "print(a[1:3, 1:3])\n",
    "print(a[:3, 1:])\n",
    "print(a[1][0:2])\n",
    "a[0:2, 1:3] = np.array([[25, 35], [55, 65]])\n",
    "print(a)"
   ]
  }
 ],
 "metadata": {
  "kernelspec": {
   "display_name": "Python 3 (ipykernel)",
   "language": "python",
   "name": "python3"
  },
  "language_info": {
   "codemirror_mode": {
    "name": "ipython",
    "version": 3
   },
   "file_extension": ".py",
   "mimetype": "text/x-python",
   "name": "python",
   "nbconvert_exporter": "python",
   "pygments_lexer": "ipython3",
   "version": "3.8.13"
  }
 },
 "nbformat": 4,
 "nbformat_minor": 5
}
