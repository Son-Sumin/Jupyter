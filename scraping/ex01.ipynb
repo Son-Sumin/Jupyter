{
 "cells": [
  {
   "cell_type": "markdown",
   "id": "10df5374",
   "metadata": {},
   "source": [
    "Crawling : 싹 갖고오기   \n",
    "Scraping : 원하는 부분 갖고오기   \n",
    "'크롤링'으로 혼용해서 사용함"
   ]
  },
  {
   "cell_type": "code",
   "execution_count": null,
   "id": "46969676",
   "metadata": {},
   "outputs": [],
   "source": []
  }
 ],
 "metadata": {
  "kernelspec": {
   "display_name": "Python 3 (ipykernel)",
   "language": "python",
   "name": "python3"
  },
  "language_info": {
   "codemirror_mode": {
    "name": "ipython",
    "version": 3
   },
   "file_extension": ".py",
   "mimetype": "text/x-python",
   "name": "python",
   "nbconvert_exporter": "python",
   "pygments_lexer": "ipython3",
   "version": "3.8.15"
  }
 },
 "nbformat": 4,
 "nbformat_minor": 5
}
