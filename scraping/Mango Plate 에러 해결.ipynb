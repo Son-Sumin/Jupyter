{
 "cells": [
  {
   "cell_type": "markdown",
   "id": "3ed7b88b",
   "metadata": {},
   "source": [
    "## 망고 플레이트 크롤링 관련 에러 발생 시 조시사항"
   ]
  },
  {
   "cell_type": "markdown",
   "id": "39f5b453",
   "metadata": {},
   "source": [
    "### [error 1]\n",
    "- 에러내용 : No module named 'chromedriver_autoinstaller'   \n",
    "  (chrome 관련 모듈이 없다는 에러 발생 시)   \n",
    "  <br>\n",
    "  \n",
    "- 해결방법\n",
    "  - Window terminal 또는 cmd 실행   \n",
    "  - 현재 폴더를 실행하는 곳 환경으로 가기   \n",
    "    (가상환경 사용 중이라면 가상환경으로 진입)   \n",
    "  - pip install chromedriver_autoinstaller   "
   ]
  },
  {
   "cell_type": "markdown",
   "id": "89734fb1",
   "metadata": {},
   "source": [
    "### [error 2]\n",
    "- 에러내용 : NoSuchElementException: Message: no such element: Unable to locate element: {\"method\":\"css selector\",\"selector\":\"element\"}   \n",
    "  <br>\n",
    "  \n",
    "- 해결방법\n",
    "  - driver.find_element(By모듈, 입력 파라미터)\n",
    "  - 입력 파라미터 : '태그', 설정한 변수\n",
    "  - 예시\n",
    "    - driver.find_element(By.CSS_SELECTOR, 'div.big_text.blue_text#red_text')   \n",
    "    - driver.find_element(By.CSS_SELECTOR, 설정한 변수)"
   ]
  },
  {
   "cell_type": "markdown",
   "id": "82d1aba6",
   "metadata": {},
   "source": []
  }
 ],
 "metadata": {
  "kernelspec": {
   "display_name": "Python 3 (ipykernel)",
   "language": "python",
   "name": "python3"
  },
  "language_info": {
   "codemirror_mode": {
    "name": "ipython",
    "version": 3
   },
   "file_extension": ".py",
   "mimetype": "text/x-python",
   "name": "python",
   "nbconvert_exporter": "python",
   "pygments_lexer": "ipython3",
   "version": "3.8.15"
  }
 },
 "nbformat": 4,
 "nbformat_minor": 5
}
