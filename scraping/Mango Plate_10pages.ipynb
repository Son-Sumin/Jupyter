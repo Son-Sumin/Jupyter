{
 "cells": [
  {
   "cell_type": "markdown",
   "id": "003eddc8",
   "metadata": {},
   "source": [
    "##  [망고플레이트 크롤링](https://www.mangoplate.com/)    \n",
    "### [참고 사이트](https://juwon2021.tistory.com/414)   "
   ]
  },
  {
   "cell_type": "markdown",
   "id": "f4a85a5f",
   "metadata": {},
   "source": [
    "### ** 시작 전 확인 사항 **\n",
    "  Window terminal에서   \n",
    "- conda activate   \n",
    "- conda activate ml-env   \n",
    "(ml-env) 환경 확인 후   \n",
    "- jupyter notebook   \n",
    "- conda install -c anaconda requests   \n",
    "- conda install bs4   \n",
    "- conda install lxml   \n",
    "- conda install -c conda-forge selenium   \n",
    "- conda install tqdm   \n",
    "- connda install -c conda-forge folium   \n",
    "- connda install -c conda-forge googlemaps   \n",
    "- pip install chromedriver-autoinstaller   "
   ]
  },
  {
   "cell_type": "markdown",
   "id": "b19d3cf3",
   "metadata": {},
   "source": [
    "### 페이지 10개 크롤링 (for문 활용)"
   ]
  },
  {
   "cell_type": "markdown",
   "id": "e59f15a5",
   "metadata": {},
   "source": []
  },
  {
   "cell_type": "markdown",
   "id": "8fcf736b",
   "metadata": {},
   "source": []
  }
 ],
 "metadata": {
  "kernelspec": {
   "display_name": "Python 3 (ipykernel)",
   "language": "python",
   "name": "python3"
  },
  "language_info": {
   "codemirror_mode": {
    "name": "ipython",
    "version": 3
   },
   "file_extension": ".py",
   "mimetype": "text/x-python",
   "name": "python",
   "nbconvert_exporter": "python",
   "pygments_lexer": "ipython3",
   "version": "3.8.15"
  }
 },
 "nbformat": 4,
 "nbformat_minor": 5
}
