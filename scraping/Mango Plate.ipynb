{
 "cells": [
  {
   "cell_type": "markdown",
   "id": "bd823631",
   "metadata": {},
   "source": [
    "##  [망고플레이트 크롤링](https://www.mangoplate.com/)    \n",
    "### [참고 사이트](https://juwon2021.tistory.com/414)   "
   ]
  },
  {
   "cell_type": "markdown",
   "id": "fa420554",
   "metadata": {},
   "source": [
    "### ** Window terminal에서\n",
    "- conda activate   \n",
    "- conda activate ml-env   \n",
    "(ml-env) 환경 확인 후   \n",
    "- jupyter notebook   \n",
    "- conda install -c anaconda requests   \n",
    "- conda install bs4   \n",
    "- conda install lxml   \n",
    "- conda install -c conda-forge selenium   \n",
    "- conda install tqdm   \n",
    "- connda install -c conda-forge folium   \n",
    "- connda install -c conda-forge googlemaps   \n",
    "- pip install chromedriver-autoinstaller   "
   ]
  },
  {
   "cell_type": "markdown",
   "id": "e074be77",
   "metadata": {},
   "source": [
    "### 1개씩 크롤링"
   ]
  },
  {
   "cell_type": "code",
   "execution_count": 4,
   "id": "ff83eaaa",
   "metadata": {},
   "outputs": [],
   "source": [
    "# 필요한 라이브러리를 임포트하기\n",
    "\n",
    "# 시스템\n",
    "import sys\n",
    "import os\n",
    "\n",
    "# 데이터 다루기\n",
    "import pandas as pd\n",
    "import numpy as np\n",
    "\n",
    "# selenium 크롤링\n",
    "from selenium import webdriver  \n",
    "from selenium.webdriver import ActionChains as AC\n",
    "from selenium.webdriver.support.ui import WebDriverWait\n",
    "from selenium.webdriver.support import expected_conditions as EC\n",
    "from selenium.webdriver.common.by import By\n",
    "\n",
    "# 크롬 드라이버\n",
    "import chromedriver_autoinstaller\n",
    "\n",
    "# beautifulsoup 크롤링\n",
    "import requests\n",
    "from bs4 import BeautifulSoup\n",
    "\n",
    "# lxml 크롤링\n",
    "import lxml.html\n",
    "\n",
    "# 시간 조절\n",
    "import time\n",
    "\n",
    "# 시간 측정\n",
    "from tqdm import notebook\n",
    "\n",
    "# 정규표현식\n",
    "import re\n",
    "\n",
    "# 경고 무시\n",
    "import warnings\n",
    "warnings.filterwarnings('ignore')"
   ]
  },
  {
   "cell_type": "code",
   "execution_count": 5,
   "id": "e1d8c127",
   "metadata": {},
   "outputs": [],
   "source": [
    "# 지역 키워드를 입력하기\n",
    "keyword = '강남'\n",
    "\n",
    "# page 정하기\n",
    "page = 1"
   ]
  },
  {
   "cell_type": "code",
   "execution_count": 8,
   "id": "8ad9312c",
   "metadata": {},
   "outputs": [],
   "source": [
    "# 크롬창 띄우기\n",
    "chrome_path = chromedriver_autoinstaller.install()\n",
    "driver = webdriver.Chrome(chrome_path)\n",
    "driver.maximize_window() # 창 최대화\n",
    "\n",
    "# 키워드가 입력된 망고플레이트 사이트에 들어가기\n",
    "driver.get(\" https://www.mangoplate.com/search/{0}?keyword={0}&page={1}\".format(keyword, page)) \n",
    "time.sleep(2)"
   ]
  },
  {
   "cell_type": "raw",
   "id": "21f6b98f",
   "metadata": {},
   "source": [
    "### 현재 광고창이 없어서 skip\n",
    "\n",
    "# 광고창 없애기\n",
    "\n",
    "# 광고창 iframe 접근하기\n",
    "driver.switch_to.frame(\"google_ads_iframe_/395211568/init/desktop_all_0\")\n",
    "\n",
    "# '다시 보지 않기' 버튼 클릭하기\n",
    "element = '#ad > div > button.ad_btn.ad_block_btn'\n",
    "driver.find_element_by_css_selector(element).click()\n",
    "\n",
    "# # 방법1\n",
    "# element = '#ad > div > button.ad_btn.ad_block_btn'\n",
    "# driver.find_element_by_css_selector(element).click()\n",
    "\n",
    "# # 방법2\n",
    "# element = '/html/body/div[2]/div/div/button[1]'\n",
    "# driver.find_element_by_xpath(element).click()\n",
    "\n",
    "# # 방법3\n",
    "# element = WebDriverWait(driver, 15).until(EC.presence_of_element_located((By.CSS_SELECTOR, '#ad > div > button.ad_btn.ad_block_btn')))\n",
    "# element.click()\n",
    "\n",
    "# # 방법4\n",
    "# from selenium.webdriver.common.keys import Keys\n",
    "# element=driver.find_element_by_partial_link_text(\"다시\")\n",
    "# element.send_keys(Keys.ENTER)"
   ]
  },
  {
   "cell_type": "raw",
   "id": "b0606606",
   "metadata": {},
   "source": [
    "# # 방법5\n",
    "# # 열려 있는 세션 개수 확인\n",
    "# popup_count = len(driver.window_handles)\n",
    "# i = popup_count\n",
    "\n",
    "# # 팝업창 제거\n",
    "# while i > 0:\n",
    "#     if i == 1:\n",
    "#         driver.switch_to.window(driver.window_handles[i-1])\n",
    "#         i = 0\n",
    "#         break\n",
    "#     else:\n",
    "#         driver.switch_to.window(driver.window_handles[i-1])\n",
    "#         driver.close()\n",
    "#         i -= 1\n",
    "        \n",
    "# # 현재 열려 있는 세션 확인\n",
    "# print(driver.window_handles)"
   ]
  },
  {
   "cell_type": "code",
   "execution_count": 9,
   "id": "31ae555b",
   "metadata": {},
   "outputs": [
    {
     "ename": "AttributeError",
     "evalue": "'WebDriver' object has no attribute 'find_element_by_css_selector'",
     "output_type": "error",
     "traceback": [
      "\u001b[1;31m-------------------------------------------------------------------\u001b[0m",
      "\u001b[1;31mAttributeError\u001b[0m                    Traceback (most recent call last)",
      "Cell \u001b[1;32mIn[9], line 3\u001b[0m\n\u001b[0;32m      1\u001b[0m \u001b[38;5;66;03m# 첫 번째 음식점 클릭\u001b[39;00m\n\u001b[0;32m      2\u001b[0m element \u001b[38;5;241m=\u001b[39m \u001b[38;5;124m'\u001b[39m\u001b[38;5;124mbody > main > article > div.column-wrapper > div > div > section > div.search-list-restaurants-inner-wrap > ul > li:nth-child(4) > div:nth-child(1) > figure > a > div > img\u001b[39m\u001b[38;5;124m'\u001b[39m\n\u001b[1;32m----> 3\u001b[0m \u001b[43mdriver\u001b[49m\u001b[38;5;241;43m.\u001b[39;49m\u001b[43mfind_element_by_css_selector\u001b[49m(element)\u001b[38;5;241m.\u001b[39mclick()\n",
      "\u001b[1;31mAttributeError\u001b[0m: 'WebDriver' object has no attribute 'find_element_by_css_selector'"
     ]
    }
   ],
   "source": [
    "# 첫 번째 음식점 클릭\n",
    "element = 'body > main > article > div.column-wrapper > div > div > section > div.search-list-restaurants-inner-wrap > ul > li:nth-child(4) > div:nth-child(1) > figure > a > div > img'\n",
    "driver.find_element(By.CSS_SELECTOR, element).click()"
   ]
  },
  {
   "cell_type": "code",
   "execution_count": 22,
   "id": "99483e43",
   "metadata": {},
   "outputs": [
    {
     "ename": "NoSuchElementException",
     "evalue": "Message: no such element: Unable to locate element: {\"method\":\"css selector\",\"selector\":\"element\"}\n  (Session info: chrome=110.0.5481.178)\nStacktrace:\nBacktrace:\n\t(No symbol) [0x007B3643]\n\t(No symbol) [0x00748981]\n\t(No symbol) [0x0064B35D]\n\t(No symbol) [0x0067D352]\n\t(No symbol) [0x0067D48B]\n\t(No symbol) [0x006B31F2]\n\t(No symbol) [0x0069B444]\n\t(No symbol) [0x006B10F5]\n\t(No symbol) [0x0069B1F6]\n\t(No symbol) [0x00670D57]\n\t(No symbol) [0x006724FD]\n\tGetHandleVerifier [0x00A2B5F2+2513186]\n\tGetHandleVerifier [0x00A5B730+2710112]\n\tGetHandleVerifier [0x00A5ECDC+2723852]\n\tGetHandleVerifier [0x00862250+640384]\n\t(No symbol) [0x00751142]\n\t(No symbol) [0x00756AD8]\n\t(No symbol) [0x00756BBB]\n\t(No symbol) [0x007609FB]\n\tBaseThreadInitThunk [0x763200F9+25]\n\tRtlGetAppContainerNamedObjectPath [0x773C7BBE+286]\n\tRtlGetAppContainerNamedObjectPath [0x773C7B8E+238]\n",
     "output_type": "error",
     "traceback": [
      "\u001b[1;31m---------------------------------------------------------------------------\u001b[0m",
      "\u001b[1;31mNoSuchElementException\u001b[0m                    Traceback (most recent call last)",
      "Cell \u001b[1;32mIn[22], line 3\u001b[0m\n\u001b[0;32m      1\u001b[0m \u001b[38;5;66;03m# 가게 이름 크롤링\u001b[39;00m\n\u001b[0;32m      2\u001b[0m element \u001b[38;5;241m=\u001b[39m \u001b[38;5;124m'\u001b[39m\u001b[38;5;124mbody > main > article > div.column-wrapper > div.column-contents > div > section.restaurant-detail > header > div.restaurant_title_wrap > span > h1\u001b[39m\u001b[38;5;124m'\u001b[39m\n\u001b[1;32m----> 3\u001b[0m title_raw \u001b[38;5;241m=\u001b[39m \u001b[43mdriver\u001b[49m\u001b[38;5;241;43m.\u001b[39;49m\u001b[43mfind_element\u001b[49m\u001b[43m(\u001b[49m\u001b[43mBy\u001b[49m\u001b[38;5;241;43m.\u001b[39;49m\u001b[43mCSS_SELECTOR\u001b[49m\u001b[43m,\u001b[49m\u001b[43m \u001b[49m\u001b[38;5;124;43m'\u001b[39;49m\u001b[38;5;124;43melement\u001b[39;49m\u001b[38;5;124;43m'\u001b[39;49m\u001b[43m)\u001b[49m\n\u001b[0;32m      4\u001b[0m time\u001b[38;5;241m.\u001b[39msleep(\u001b[38;5;241m2\u001b[39m)\n\u001b[0;32m      5\u001b[0m title \u001b[38;5;241m=\u001b[39m title_raw\u001b[38;5;241m.\u001b[39mtext\n",
      "File \u001b[1;32m~\\miniconda3\\envs\\ml-env\\lib\\site-packages\\selenium\\webdriver\\remote\\webdriver.py:830\u001b[0m, in \u001b[0;36mWebDriver.find_element\u001b[1;34m(self, by, value)\u001b[0m\n\u001b[0;32m    827\u001b[0m     by \u001b[38;5;241m=\u001b[39m By\u001b[38;5;241m.\u001b[39mCSS_SELECTOR\n\u001b[0;32m    828\u001b[0m     value \u001b[38;5;241m=\u001b[39m \u001b[38;5;124mf\u001b[39m\u001b[38;5;124m'\u001b[39m\u001b[38;5;124m[name=\u001b[39m\u001b[38;5;124m\"\u001b[39m\u001b[38;5;132;01m{\u001b[39;00mvalue\u001b[38;5;132;01m}\u001b[39;00m\u001b[38;5;124m\"\u001b[39m\u001b[38;5;124m]\u001b[39m\u001b[38;5;124m'\u001b[39m\n\u001b[1;32m--> 830\u001b[0m \u001b[38;5;28;01mreturn\u001b[39;00m \u001b[38;5;28;43mself\u001b[39;49m\u001b[38;5;241;43m.\u001b[39;49m\u001b[43mexecute\u001b[49m\u001b[43m(\u001b[49m\u001b[43mCommand\u001b[49m\u001b[38;5;241;43m.\u001b[39;49m\u001b[43mFIND_ELEMENT\u001b[49m\u001b[43m,\u001b[49m\u001b[43m \u001b[49m\u001b[43m{\u001b[49m\u001b[38;5;124;43m\"\u001b[39;49m\u001b[38;5;124;43musing\u001b[39;49m\u001b[38;5;124;43m\"\u001b[39;49m\u001b[43m:\u001b[49m\u001b[43m \u001b[49m\u001b[43mby\u001b[49m\u001b[43m,\u001b[49m\u001b[43m \u001b[49m\u001b[38;5;124;43m\"\u001b[39;49m\u001b[38;5;124;43mvalue\u001b[39;49m\u001b[38;5;124;43m\"\u001b[39;49m\u001b[43m:\u001b[49m\u001b[43m \u001b[49m\u001b[43mvalue\u001b[49m\u001b[43m}\u001b[49m\u001b[43m)\u001b[49m[\u001b[38;5;124m\"\u001b[39m\u001b[38;5;124mvalue\u001b[39m\u001b[38;5;124m\"\u001b[39m]\n",
      "File \u001b[1;32m~\\miniconda3\\envs\\ml-env\\lib\\site-packages\\selenium\\webdriver\\remote\\webdriver.py:440\u001b[0m, in \u001b[0;36mWebDriver.execute\u001b[1;34m(self, driver_command, params)\u001b[0m\n\u001b[0;32m    438\u001b[0m response \u001b[38;5;241m=\u001b[39m \u001b[38;5;28mself\u001b[39m\u001b[38;5;241m.\u001b[39mcommand_executor\u001b[38;5;241m.\u001b[39mexecute(driver_command, params)\n\u001b[0;32m    439\u001b[0m \u001b[38;5;28;01mif\u001b[39;00m response:\n\u001b[1;32m--> 440\u001b[0m     \u001b[38;5;28;43mself\u001b[39;49m\u001b[38;5;241;43m.\u001b[39;49m\u001b[43merror_handler\u001b[49m\u001b[38;5;241;43m.\u001b[39;49m\u001b[43mcheck_response\u001b[49m\u001b[43m(\u001b[49m\u001b[43mresponse\u001b[49m\u001b[43m)\u001b[49m\n\u001b[0;32m    441\u001b[0m     response[\u001b[38;5;124m\"\u001b[39m\u001b[38;5;124mvalue\u001b[39m\u001b[38;5;124m\"\u001b[39m] \u001b[38;5;241m=\u001b[39m \u001b[38;5;28mself\u001b[39m\u001b[38;5;241m.\u001b[39m_unwrap_value(response\u001b[38;5;241m.\u001b[39mget(\u001b[38;5;124m\"\u001b[39m\u001b[38;5;124mvalue\u001b[39m\u001b[38;5;124m\"\u001b[39m, \u001b[38;5;28;01mNone\u001b[39;00m))\n\u001b[0;32m    442\u001b[0m     \u001b[38;5;28;01mreturn\u001b[39;00m response\n",
      "File \u001b[1;32m~\\miniconda3\\envs\\ml-env\\lib\\site-packages\\selenium\\webdriver\\remote\\errorhandler.py:245\u001b[0m, in \u001b[0;36mErrorHandler.check_response\u001b[1;34m(self, response)\u001b[0m\n\u001b[0;32m    243\u001b[0m         alert_text \u001b[38;5;241m=\u001b[39m value[\u001b[38;5;124m\"\u001b[39m\u001b[38;5;124malert\u001b[39m\u001b[38;5;124m\"\u001b[39m]\u001b[38;5;241m.\u001b[39mget(\u001b[38;5;124m\"\u001b[39m\u001b[38;5;124mtext\u001b[39m\u001b[38;5;124m\"\u001b[39m)\n\u001b[0;32m    244\u001b[0m     \u001b[38;5;28;01mraise\u001b[39;00m exception_class(message, screen, stacktrace, alert_text)  \u001b[38;5;66;03m# type: ignore[call-arg]  # mypy is not smart enough here\u001b[39;00m\n\u001b[1;32m--> 245\u001b[0m \u001b[38;5;28;01mraise\u001b[39;00m exception_class(message, screen, stacktrace)\n",
      "\u001b[1;31mNoSuchElementException\u001b[0m: Message: no such element: Unable to locate element: {\"method\":\"css selector\",\"selector\":\"element\"}\n  (Session info: chrome=110.0.5481.178)\nStacktrace:\nBacktrace:\n\t(No symbol) [0x007B3643]\n\t(No symbol) [0x00748981]\n\t(No symbol) [0x0064B35D]\n\t(No symbol) [0x0067D352]\n\t(No symbol) [0x0067D48B]\n\t(No symbol) [0x006B31F2]\n\t(No symbol) [0x0069B444]\n\t(No symbol) [0x006B10F5]\n\t(No symbol) [0x0069B1F6]\n\t(No symbol) [0x00670D57]\n\t(No symbol) [0x006724FD]\n\tGetHandleVerifier [0x00A2B5F2+2513186]\n\tGetHandleVerifier [0x00A5B730+2710112]\n\tGetHandleVerifier [0x00A5ECDC+2723852]\n\tGetHandleVerifier [0x00862250+640384]\n\t(No symbol) [0x00751142]\n\t(No symbol) [0x00756AD8]\n\t(No symbol) [0x00756BBB]\n\t(No symbol) [0x007609FB]\n\tBaseThreadInitThunk [0x763200F9+25]\n\tRtlGetAppContainerNamedObjectPath [0x773C7BBE+286]\n\tRtlGetAppContainerNamedObjectPath [0x773C7B8E+238]\n"
     ]
    }
   ],
   "source": [
    "# 가게 이름 크롤링\n",
    "element = 'body > main > article > div.column-wrapper > div.column-contents > div > section.restaurant-detail > header > div.restaurant_title_wrap > span > h1'\n",
    "title_raw = driver.find_element(By.CSS_SELECTOR, 'element')\n",
    "title = title_raw.text\n",
    "print(title, type(title))"
   ]
  },
  {
   "cell_type": "code",
   "execution_count": null,
   "id": "c93c0e5d",
   "metadata": {},
   "outputs": [],
   "source": []
  }
 ],
 "metadata": {
  "kernelspec": {
   "display_name": "Python 3 (ipykernel)",
   "language": "python",
   "name": "python3"
  },
  "language_info": {
   "codemirror_mode": {
    "name": "ipython",
    "version": 3
   },
   "file_extension": ".py",
   "mimetype": "text/x-python",
   "name": "python",
   "nbconvert_exporter": "python",
   "pygments_lexer": "ipython3",
   "version": "3.8.15"
  }
 },
 "nbformat": 4,
 "nbformat_minor": 5
}
