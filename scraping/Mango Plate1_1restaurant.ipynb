{
 "cells": [
  {
   "cell_type": "markdown",
   "id": "bd823631",
   "metadata": {},
   "source": [
    "##  [망고플레이트 크롤링](https://www.mangoplate.com/)    \n",
    "- **가게 1개씩 크롤링**   \n",
    "- 참고 사이트 : https://juwon2021.tistory.com/414"
   ]
  },
  {
   "cell_type": "markdown",
   "id": "fa420554",
   "metadata": {},
   "source": [
    "### ** 시작 전 확인 사항 **\n",
    "  Window terminal에서   \n",
    "- conda activate   \n",
    "- conda activate ml-env   \n",
    "  (ml-env) 환경 확인 후   \n",
    "- jupyter notebook   \n",
    "- conda install -c anaconda requests   \n",
    "- conda install bs4   \n",
    "- conda install lxml   \n",
    "- conda install -c conda-forge selenium   \n",
    "- conda install tqdm   \n",
    "- connda install -c conda-forge folium   \n",
    "- connda install -c conda-forge googlemaps   \n",
    "- pip install chromedriver-autoinstaller   "
   ]
  },
  {
   "cell_type": "markdown",
   "id": "e074be77",
   "metadata": {},
   "source": [
    "### 가게 1개씩 크롤링"
   ]
  },
  {
   "cell_type": "code",
   "execution_count": 1,
   "id": "ff83eaaa",
   "metadata": {},
   "outputs": [],
   "source": [
    "# 필요한 라이브러리를 임포트하기\n",
    "\n",
    "# 시스템\n",
    "import sys\n",
    "import os\n",
    "\n",
    "# 데이터 다루기\n",
    "import pandas as pd\n",
    "import numpy as np\n",
    "\n",
    "# selenium 크롤링\n",
    "from selenium import webdriver  \n",
    "from selenium.webdriver import ActionChains as AC\n",
    "from selenium.webdriver.support.ui import WebDriverWait\n",
    "from selenium.webdriver.support import expected_conditions as EC\n",
    "from selenium.webdriver.common.by import By\n",
    "\n",
    "# 크롬 드라이버\n",
    "import chromedriver_autoinstaller\n",
    "\n",
    "# beautifulsoup 크롤링\n",
    "import requests\n",
    "from bs4 import BeautifulSoup\n",
    "\n",
    "# lxml 크롤링\n",
    "import lxml.html\n",
    "\n",
    "# 시간 조절\n",
    "import time\n",
    "\n",
    "# 시간 측정\n",
    "from tqdm import notebook\n",
    "\n",
    "# 정규표현식\n",
    "import re\n",
    "\n",
    "# 경고 무시\n",
    "import warnings\n",
    "warnings.filterwarnings('ignore')"
   ]
  },
  {
   "cell_type": "code",
   "execution_count": 2,
   "id": "e1d8c127",
   "metadata": {},
   "outputs": [],
   "source": [
    "# 지역 키워드를 입력하기\n",
    "keyword = '강남'\n",
    "\n",
    "# page 정하기\n",
    "page = 1"
   ]
  },
  {
   "cell_type": "code",
   "execution_count": 3,
   "id": "8ad9312c",
   "metadata": {},
   "outputs": [],
   "source": [
    "# 크롬창 띄우기\n",
    "chrome_path = chromedriver_autoinstaller.install()\n",
    "driver = webdriver.Chrome(chrome_path)\n",
    "driver.maximize_window() # 창 최대화\n",
    "\n",
    "# 키워드가 입력된 망고플레이트 사이트에 들어가기\n",
    "driver.get(\" https://www.mangoplate.com/search/{0}?keyword={0}&page={1}\".format(keyword, page)) \n",
    "time.sleep(2)"
   ]
  },
  {
   "cell_type": "raw",
   "id": "21f6b98f",
   "metadata": {},
   "source": [
    "### 현재 광고창이 없어서 skip\n",
    "\n",
    "# 광고창 없애기\n",
    "\n",
    "# 광고창 iframe 접근하기\n",
    "driver.switch_to.frame(\"google_ads_iframe_/395211568/init/desktop_all_0\")\n",
    "\n",
    "# '다시 보지 않기' 버튼 클릭하기\n",
    "element = '#ad > div > button.ad_btn.ad_block_btn'\n",
    "driver.find_element_by_css_selector(element).click()\n",
    "\n",
    "# # 방법1\n",
    "# element = '#ad > div > button.ad_btn.ad_block_btn'\n",
    "# driver.find_element_by_css_selector(element).click()\n",
    "\n",
    "# # 방법2\n",
    "# element = '/html/body/div[2]/div/div/button[1]'\n",
    "# driver.find_element_by_xpath(element).click()\n",
    "\n",
    "# # 방법3\n",
    "# element = WebDriverWait(driver, 15).until(EC.presence_of_element_located((By.CSS_SELECTOR, '#ad > div > button.ad_btn.ad_block_btn')))\n",
    "# element.click()\n",
    "\n",
    "# # 방법4\n",
    "# from selenium.webdriver.common.keys import Keys\n",
    "# element=driver.find_element_by_partial_link_text(\"다시\")\n",
    "# element.send_keys(Keys.ENTER)"
   ]
  },
  {
   "cell_type": "raw",
   "id": "b0606606",
   "metadata": {},
   "source": [
    "# # 방법5\n",
    "# # 열려 있는 세션 개수 확인\n",
    "# popup_count = len(driver.window_handles)\n",
    "# i = popup_count\n",
    "\n",
    "# # 팝업창 제거\n",
    "# while i > 0:\n",
    "#     if i == 1:\n",
    "#         driver.switch_to.window(driver.window_handles[i-1])\n",
    "#         i = 0\n",
    "#         break\n",
    "#     else:\n",
    "#         driver.switch_to.window(driver.window_handles[i-1])\n",
    "#         driver.close()\n",
    "#         i -= 1\n",
    "        \n",
    "# # 현재 열려 있는 세션 확인\n",
    "# print(driver.window_handles)"
   ]
  },
  {
   "cell_type": "code",
   "execution_count": 4,
   "id": "31ae555b",
   "metadata": {},
   "outputs": [],
   "source": [
    "# 첫 번째 음식점 클릭\n",
    "element = 'body > main > article > div.column-wrapper > div > div > section > div.search-list-restaurants-inner-wrap > ul > li:nth-child(1) > div:nth-child(1) > figure > a > div > img'\n",
    "driver.find_element(By.CSS_SELECTOR, element).click()"
   ]
  },
  {
   "cell_type": "code",
   "execution_count": 5,
   "id": "99483e43",
   "metadata": {},
   "outputs": [
    {
     "name": "stdout",
     "output_type": "stream",
     "text": [
      "미라이 <class 'str'>\n"
     ]
    }
   ],
   "source": [
    "# 가게 이름 크롤링\n",
    "element = 'body > main > article > div.column-wrapper > div.column-contents > div > section.restaurant-detail > header > div.restaurant_title_wrap > span > h1'\n",
    "title_raw = driver.find_element(By.CSS_SELECTOR, element)\n",
    "title = title_raw.text\n",
    "print(title, type(title))"
   ]
  },
  {
   "cell_type": "code",
   "execution_count": 6,
   "id": "c93c0e5d",
   "metadata": {},
   "outputs": [
    {
     "name": "stdout",
     "output_type": "stream",
     "text": [
      "4.8 <class 'str'>\n"
     ]
    }
   ],
   "source": [
    "# 가게 전체 평점 점수 크롤링\n",
    "element = 'body > main > article > div.column-wrapper > div.column-contents > div > section.restaurant-detail > header > div.restaurant_title_wrap > span > strong > span'\n",
    "total_raw = driver.find_element(By.CSS_SELECTOR, element)\n",
    "total = total_raw.text\n",
    "print(total, type(total))"
   ]
  },
  {
   "cell_type": "code",
   "execution_count": 7,
   "id": "eafa0928",
   "metadata": {},
   "outputs": [
    {
     "name": "stdout",
     "output_type": "stream",
     "text": [
      "510,329 <class 'str'>\n"
     ]
    }
   ],
   "source": [
    "# 조회수 크롤링\n",
    "try:\n",
    "    element = 'body > main > article > div.column-wrapper > div.column-contents > div > section.restaurant-detail > header > div.status.branch_none > span.cnt.hit'\n",
    "    view_raw = driver.find_element(By.CSS_SELECTOR, element)\n",
    "    view = view_raw.text\n",
    "except:\n",
    "    element = 'body > main > article > div.column-wrapper > div.column-contents > div > section.restaurant-detail > header > div.status > span.cnt.hit'\n",
    "    view_raw = driver.find_element(By.CSS_SELECTOR, element)\n",
    "    view = view_raw.text\n",
    "    \n",
    "print(view, type(view))\n"
   ]
  },
  {
   "cell_type": "code",
   "execution_count": 8,
   "id": "0b4af483",
   "metadata": {},
   "outputs": [
    {
     "name": "stdout",
     "output_type": "stream",
     "text": [
      "127 <class 'str'>\n"
     ]
    }
   ],
   "source": [
    "# 리뷰 개수 크롤링\n",
    "try:\n",
    "    element = 'body > main > article > div.column-wrapper > div.column-contents > div > section.restaurant-detail > header > div.status.branch_none > span.cnt.review'\n",
    "    review_raw = driver.find_element(By.CSS_SELECTOR, element)\n",
    "    num_review = review_raw.text\n",
    "\n",
    "except:\n",
    "    element = 'body > main > article > div.column-wrapper > div.column-contents > div > section.restaurant-detail > header > div.status > span.cnt.review'\n",
    "    review_raw = driver.find_element(By.CSS_SELECTOR, element)\n",
    "    num_review = review_raw.text\n",
    "\n",
    "print(num_review, type(num_review))"
   ]
  },
  {
   "cell_type": "code",
   "execution_count": 9,
   "id": "043dcffb",
   "metadata": {},
   "outputs": [
    {
     "name": "stdout",
     "output_type": "stream",
     "text": [
      "10,337 <class 'str'>\n"
     ]
    }
   ],
   "source": [
    "# 별표 개수 크롤링\n",
    "try:\n",
    "    element = 'body > main > article > div.column-wrapper > div.column-contents > div > section.restaurant-detail > header > div.status.branch_none > span.cnt.favorite'\n",
    "    star_raw = driver.find_element(By.CSS_SELECTOR, element)\n",
    "    num_star = star_raw.text\n",
    "\n",
    "except:\n",
    "    element = 'body > main > article > div.column-wrapper > div.column-contents > div > section.restaurant-detail > header > div.status > span.cnt.favorite'\n",
    "    star_raw = driver.find_element(By.CSS_SELECTOR, element)\n",
    "    num_star = star_raw.text\n",
    "\n",
    "print(num_star, type(num_star))"
   ]
  },
  {
   "cell_type": "code",
   "execution_count": 10,
   "id": "021c5fd0",
   "metadata": {},
   "outputs": [
    {
     "name": "stdout",
     "output_type": "stream",
     "text": [
      "['이자카야 / 오뎅 / 꼬치', '사시미8종 (2인)\\n41,000원\\n마구로치즈아에\\n19,000원\\n양갈비 스미비 야끼\\n23,000원\\n노도구로 시오 야끼\\n35,000원\\n규 스테이크\\n41,000원']\n"
     ]
    }
   ],
   "source": [
    "# 음식 종류 및 메뉴 크롤링\n",
    "element1 = 'body > main > article > div.column-wrapper > div.column-contents > div > section.restaurant-detail > table > tbody > tr:nth-child(3) > td > span'\n",
    "type_raw = driver.find_element(By.CSS_SELECTOR, element1)\n",
    "type_raw = type_raw.text\n",
    "food_type = type_raw\n",
    "\n",
    "try:\n",
    "    element2 = 'body > main > article > div.column-wrapper > div.column-contents > div > section.restaurant-detail > table > tbody > tr:nth-child(9) > td > ul'\n",
    "    menu_raw = driver.find_element(By.CSS_SELECTOR, element2)\n",
    "    food_menu = menu_raw.text\n",
    "    food_type = [type_raw, food_menu]\n",
    "except:\n",
    "    pass\n",
    "\n",
    "print(food_type)"
   ]
  },
  {
   "cell_type": "code",
   "execution_count": 11,
   "id": "a2fd5a79",
   "metadata": {},
   "outputs": [
    {
     "data": {
      "text/html": [
       "<div>\n",
       "<style scoped>\n",
       "    .dataframe tbody tr th:only-of-type {\n",
       "        vertical-align: middle;\n",
       "    }\n",
       "\n",
       "    .dataframe tbody tr th {\n",
       "        vertical-align: top;\n",
       "    }\n",
       "\n",
       "    .dataframe thead th {\n",
       "        text-align: right;\n",
       "    }\n",
       "</style>\n",
       "<table border=\"1\" class=\"dataframe\">\n",
       "  <thead>\n",
       "    <tr style=\"text-align: right;\">\n",
       "      <th></th>\n",
       "      <th>Title</th>\n",
       "      <th>Point</th>\n",
       "      <th>View</th>\n",
       "      <th>Review</th>\n",
       "      <th>Star</th>\n",
       "      <th>Type</th>\n",
       "    </tr>\n",
       "  </thead>\n",
       "  <tbody>\n",
       "    <tr>\n",
       "      <th>0</th>\n",
       "      <td>미라이</td>\n",
       "      <td>4.8</td>\n",
       "      <td>510,329</td>\n",
       "      <td>127</td>\n",
       "      <td>10,337</td>\n",
       "      <td>[이자카야 / 오뎅 / 꼬치, 사시미8종 (2인)\\n41,000원\\n마구로치즈아에\\...</td>\n",
       "    </tr>\n",
       "  </tbody>\n",
       "</table>\n",
       "</div>"
      ],
      "text/plain": [
       "  Title Point     View Review    Star  \\\n",
       "0   미라이   4.8  510,329    127  10,337   \n",
       "\n",
       "                                                Type  \n",
       "0  [이자카야 / 오뎅 / 꼬치, 사시미8종 (2인)\\n41,000원\\n마구로치즈아에\\...  "
      ]
     },
     "execution_count": 11,
     "metadata": {},
     "output_type": "execute_result"
    }
   ],
   "source": [
    "# 데이터 프레임 만들기\n",
    "a = {'Title' : title,\n",
    "     'Point' : total,\n",
    "     'View' : view,\n",
    "     'Review' : num_review,\n",
    "     'Star' : num_star,\n",
    "     'Type' : food_type}\n",
    "\n",
    "df = pd.DataFrame.from_dict(a, orient='index')\n",
    "df = df.transpose()\n",
    "df.head()"
   ]
  }
 ],
 "metadata": {
  "kernelspec": {
   "display_name": "Python 3 (ipykernel)",
   "language": "python",
   "name": "python3"
  },
  "language_info": {
   "codemirror_mode": {
    "name": "ipython",
    "version": 3
   },
   "file_extension": ".py",
   "mimetype": "text/x-python",
   "name": "python",
   "nbconvert_exporter": "python",
   "pygments_lexer": "ipython3",
   "version": "3.8.15"
  }
 },
 "nbformat": 4,
 "nbformat_minor": 5
}
