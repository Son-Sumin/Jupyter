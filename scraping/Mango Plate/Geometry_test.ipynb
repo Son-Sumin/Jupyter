{
 "cells": [
  {
   "cell_type": "markdown",
   "id": "9f7b5159",
   "metadata": {},
   "source": [
    "## 주소 ↔ 위도, 경도 변환 연습"
   ]
  },
  {
   "cell_type": "markdown",
   "id": "1aad8981",
   "metadata": {},
   "source": [
    "- 에러 내용 : No module named 'geopy'\n",
    "- 해결 방법 : cmd 열고 #pip install geopy"
   ]
  },
  {
   "cell_type": "code",
   "execution_count": 1,
   "id": "905258d3",
   "metadata": {},
   "outputs": [
    {
     "name": "stdout",
     "output_type": "stream",
     "text": [
      "37.5177\n",
      "127.0473\n"
     ]
    }
   ],
   "source": [
    "# 가입 없이 주소->좌표 변환\n",
    "from geopy.geocoders import Nominatim\n",
    "\n",
    "def geocoding(address):\n",
    "    geolocoder = Nominatim(user_agent = 'South Korea', timeout=None)\n",
    "    geo = geolocoder.geocode(address)\n",
    "    crd = {\"lat\": str(geo.latitude), \"lng\": str(geo.longitude)}\n",
    "\n",
    "    return crd\n",
    "\n",
    "crd = geocoding(\"서울 강남구\")\n",
    "print(crd['lat'])\n",
    "print(crd['lng'])"
   ]
  },
  {
   "cell_type": "code",
   "execution_count": 2,
   "id": "484e872c",
   "metadata": {},
   "outputs": [
    {
     "name": "stdout",
     "output_type": "stream",
     "text": [
      "교촌리, 상주시, 경상북도, 37107, 대한민국\n"
     ]
    }
   ],
   "source": [
    "# 가입 없이 좌표->주소 변환\n",
    "from geopy.geocoders import Nominatim\n",
    "\n",
    "def geocoding_reverse(lat_lng_str): \n",
    "    geolocoder = Nominatim(user_agent = 'South Korea', timeout=None)\n",
    "    address = geolocoder.reverse(lat_lng_str)\n",
    "\n",
    "    return address\n",
    "\n",
    "address = geocoding_reverse('36.5760732781656, 128.15935928504484')\n",
    "print(address)"
   ]
  },
  {
   "cell_type": "code",
   "execution_count": 3,
   "id": "50c4360d",
   "metadata": {},
   "outputs": [
    {
     "name": "stdout",
     "output_type": "stream",
     "text": [
      "{'lat': '37.5794', 'lng': '126.9754'}\n"
     ]
    }
   ],
   "source": [
    "# 현재위치 좌표 얻기\n",
    "import requests, json\n",
    "\n",
    "def current_location():\n",
    "    here_req = requests.get(\"http://www.geoplugin.net/json.gp\")\n",
    "\n",
    "    if (here_req.status_code != 200):\n",
    "        print(\"현재좌표를 불러올 수 없음\")\n",
    "    else:\n",
    "        location = json.loads(here_req.text)\n",
    "        crd = {\"lat\": str(location[\"geoplugin_latitude\"]), \"lng\": str(location[\"geoplugin_longitude\"])}\n",
    "\n",
    "    return crd\n",
    "\n",
    "crd = current_location()\n",
    "print(crd)"
   ]
  },
  {
   "cell_type": "code",
   "execution_count": 4,
   "id": "dd6e18b3",
   "metadata": {},
   "outputs": [
    {
     "name": "stdout",
     "output_type": "stream",
     "text": [
      "{'lat': '33.4621910539136', 'lng': '126.328972924341'}\n"
     ]
    }
   ],
   "source": [
    "# 카카오API를 사용하여 주소->좌표 변환\n",
    "import requests, json\n",
    "\n",
    "def get_location(address):\n",
    "  url = 'https://dapi.kakao.com/v2/local/search/address.json?query=' + address\n",
    "  # 'KaKaoAK '는 그대로 두시고 개인키만 지우고, REST API 키 입력\n",
    "  # ex) KakaoAK 6af8d4826f0e56c54bc794fa8a294\n",
    "  headers = {\"Authorization\": \"KakaoAK 개인키\"}\n",
    "  api_json = json.loads(str(requests.get(url,headers=headers).text))\n",
    "  address = api_json['documents'][0]['address']\n",
    "  crd = {\"lat\": str(address['y']), \"lng\": str(address['x'])}\n",
    "  address_name = address['address_name']\n",
    "\n",
    "  return crd\n",
    "\n",
    "crd = get_location(\"제주 애월읍\")\n",
    "print(crd)"
   ]
  },
  {
   "cell_type": "code",
   "execution_count": 5,
   "id": "ad7ada71",
   "metadata": {},
   "outputs": [
    {
     "name": "stdout",
     "output_type": "stream",
     "text": [
      "{'documents': [{'address_name': '경상북도 상주시 함창읍 교촌리',\n",
      "                'code': '4725025025',\n",
      "                'region_1depth_name': '경상북도',\n",
      "                'region_2depth_name': '상주시',\n",
      "                'region_3depth_name': '함창읍',\n",
      "                'region_4depth_name': '교촌리',\n",
      "                'region_type': 'B',\n",
      "                'x': 128.15947674840257,\n",
      "                'y': 36.57783918356101},\n",
      "               {'address_name': '경상북도 상주시 함창읍',\n",
      "                'code': '4725025000',\n",
      "                'region_1depth_name': '경상북도',\n",
      "                'region_2depth_name': '상주시',\n",
      "                'region_3depth_name': '함창읍',\n",
      "                'region_4depth_name': '',\n",
      "                'region_type': 'H',\n",
      "                'x': 128.17949216348367,\n",
      "                'y': 36.57013851206198}],\n",
      " 'meta': {'total_count': 2}}\n"
     ]
    }
   ],
   "source": [
    "# 카카오API를 사용하여 좌표->주소 변환\n",
    "import requests, json, pprint\n",
    "\n",
    "def get_address(lat, lng):\n",
    "    url = \"https://dapi.kakao.com/v2/local/geo/coord2regioncode.json?x=\"+lng+\"&y=\"+lat\n",
    "    # 'KaKaoAK '는 그대로 두시고 개인키만 지우고, REST API 키 입력\n",
    "    # ex) KakaoAK 6af8d4826f0e56c54bc794fa8a294\n",
    "    headers = {\"Authorization\": \"KakaoAK 개인키\"}\n",
    "    api_json = requests.get(url, headers=headers)\n",
    "    full_address = json.loads(api_json.text)\n",
    "\n",
    "    return full_address\n",
    "\n",
    "full_address = get_address('36.5760732781656', '128.15935928504484')\n",
    "pprint.pprint(full_address)"
   ]
  }
 ],
 "metadata": {
  "kernelspec": {
   "display_name": "Python 3 (ipykernel)",
   "language": "python",
   "name": "python3"
  },
  "language_info": {
   "codemirror_mode": {
    "name": "ipython",
    "version": 3
   },
   "file_extension": ".py",
   "mimetype": "text/x-python",
   "name": "python",
   "nbconvert_exporter": "python",
   "pygments_lexer": "ipython3",
   "version": "3.8.15"
  }
 },
 "nbformat": 4,
 "nbformat_minor": 5
}
