{
 "cells": [
  {
   "cell_type": "markdown",
   "id": "3ed7b88b",
   "metadata": {},
   "source": [
    "# 망고 플레이트 크롤링간 발생한 에러 해결방법\n",
    "\n",
    "* * *"
   ]
  },
  {
   "cell_type": "markdown",
   "id": "c131f0a6",
   "metadata": {},
   "source": [
    "## 코드 확인 : [Mango Plate1_1restaurant](https://github.com/Son-Sumin/ml_dl/blob/main/scraping/Mango%20Plate1_1restaurant.ipynb)"
   ]
  },
  {
   "cell_type": "markdown",
   "id": "39f5b453",
   "metadata": {},
   "source": [
    "### [error 1]\n",
    "- 에러내용 : No module named 'chromedriver_autoinstaller'   \n",
    "  (chrome 관련 모듈이 없다는 에러 발생 시)   \n",
    "  <br>\n",
    "  \n",
    "- 해결방법\n",
    "  - Window terminal 또는 cmd 실행   \n",
    "  - 현재 폴더를 실행하는 곳 환경으로 가기   \n",
    "    (가상환경 사용 중이라면 가상환경으로 진입)   \n",
    "  - pip install chromedriver_autoinstaller   "
   ]
  },
  {
   "cell_type": "markdown",
   "id": "2f2af0ef",
   "metadata": {},
   "source": [
    "### [error 2]\n",
    "- 에러내용 : NoSuchElementException: Message: no such element: Unable to locate element: {\"method\":\"css selector\",\"selector\":\"element\"}   \n",
    "  <br>\n",
    "  \n",
    "- 해결방법\n",
    "  - driver.find_element(By모듈, 입력 파라미터)\n",
    "  - 입력 파라미터 : '태그', 설정한 변수\n",
    "  - 예시\n",
    "    - driver.find_element(By.CSS_SELECTOR, 'div.big_text.blue_text#red_text')   \n",
    "    - driver.find_element(By.CSS_SELECTOR, 설정한 변수)"
   ]
  },
  {
   "cell_type": "markdown",
   "id": "ed5d565a",
   "metadata": {},
   "source": [
    "<br>\n",
    "\n",
    "* * *\n",
    "\n",
    "<br>"
   ]
  },
  {
   "cell_type": "markdown",
   "id": "83c62500",
   "metadata": {},
   "source": [
    "## 코드 확인 : [Mango Plate2_1page](https://github.com/Son-Sumin/ml_dl/blob/main/scraping/Mango%20Plate2_1page.ipynb)"
   ]
  },
  {
   "cell_type": "markdown",
   "id": "7f71dd8b",
   "metadata": {},
   "source": [
    "- 없음"
   ]
  },
  {
   "cell_type": "markdown",
   "id": "64b3addb",
   "metadata": {},
   "source": [
    "<br>\n",
    "\n",
    "* * *\n",
    "\n",
    "<br>"
   ]
  },
  {
   "cell_type": "markdown",
   "id": "5d0d9b66",
   "metadata": {},
   "source": [
    "## 코드 확인 : [Mango Plate3_10pages](https://github.com/Son-Sumin/ml_dl/blob/main/scraping/Mango%20Plate3_10pages.ipynb)"
   ]
  },
  {
   "cell_type": "markdown",
   "id": "d5f4186a",
   "metadata": {},
   "source": [
    "### [error 3]\n",
    "- 에러내용 : ElementClickInterceptedException: Message: element click intercepted: Element is not clickable at point (555, 16).   \n",
    "  (클릭하고자 하는 element 위에 다른 무언가가 있어서 발생하는 오류 메시지)\n",
    "  <br>\n",
    "  \n",
    "- 해결방법\n",
    "  - driver.execute_script(\"arguments[0].scrollIntoView();\", driver.find_element(By.CSS_SELECTOR, element))\n",
    "  - driver.find_element(By.CSS_SELECTOR, element)까지 스크롤 다운시키기"
   ]
  }
 ],
 "metadata": {
  "kernelspec": {
   "display_name": "Python 3 (ipykernel)",
   "language": "python",
   "name": "python3"
  },
  "language_info": {
   "codemirror_mode": {
    "name": "ipython",
    "version": 3
   },
   "file_extension": ".py",
   "mimetype": "text/x-python",
   "name": "python",
   "nbconvert_exporter": "python",
   "pygments_lexer": "ipython3",
   "version": "3.8.15"
  }
 },
 "nbformat": 4,
 "nbformat_minor": 5
}
