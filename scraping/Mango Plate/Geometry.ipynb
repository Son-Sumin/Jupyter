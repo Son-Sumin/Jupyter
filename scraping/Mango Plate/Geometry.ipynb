{
 "cells": [
  {
   "cell_type": "markdown",
   "id": "03c7f648",
   "metadata": {},
   "source": [
    "## MangoPlate Crawling\n",
    " - place.csv 생성(주소, 위도, 경도)\n",
    " - 참고사이트 : https://fhaktj8-18.tistory.com/entry/open-api\n",
    " - 개인키 저장하지 않도록 주의!!!"
   ]
  },
  {
   "cell_type": "code",
   "execution_count": 1,
   "id": "79ef973b",
   "metadata": {},
   "outputs": [],
   "source": [
    "import requests, json\n",
    "import pandas as pd\n",
    "import time"
   ]
  },
  {
   "cell_type": "code",
   "execution_count": 7,
   "id": "36cb4e87",
   "metadata": {},
   "outputs": [
    {
     "name": "stdout",
     "output_type": "stream",
     "text": [
      "                                               address\n",
      "0    서울특별시 강남구 논현로175길 6 B1<br><br> 지번 서울시 강남구 신사동 ...\n",
      "1    서울특별시 강남구 도산대로55길 26 하늘빌딩 1F<br><br> 지번 서울시 강남...\n",
      "2    서울특별시 강남구 언주로134길 24 2F<br><br> 지번 서울시 강남구 논현동...\n",
      "3    서울특별시 강남구 도산대로70길 9 2F<br><br> 지번 서울시 강남구 청담동 ...\n",
      "4    서울특별시 강남구 삼성로149길 7 B1<br><br> 지번 서울시 강남구 청담동 ...\n",
      "..                                                 ...\n",
      "195  서울특별시 강남구 테헤란로 610 B1<br><br> 지번 서울시 강남구 대치동 9...\n",
      "196    서울특별시 강남구 언주로 118<br><br> 지번 서울시 강남구 도곡동 467-24\n",
      "197  서울특별시 강남구 논현로151길 41 상운빌딩 102호<br><br> 지번 서울시 ...\n",
      "198     서울특별시 강남구 도산대로30길 39<br><br> 지번 서울시 강남구 논현동 75\n",
      "199  서울특별시 강남구 강남대로122길 14 B1<br><br> 지번 서울시 강남구 논현...\n",
      "\n",
      "[200 rows x 1 columns]\n"
     ]
    }
   ],
   "source": [
    "# 파일 불러오기\n",
    "data = pd.read_csv('data_project/place.csv')\n",
    "print(data)"
   ]
  },
  {
   "cell_type": "code",
   "execution_count": 3,
   "id": "2583f58b",
   "metadata": {},
   "outputs": [
    {
     "name": "stdout",
     "output_type": "stream",
     "text": [
      "<class 'pandas.core.frame.DataFrame'>\n",
      "RangeIndex: 200 entries, 0 to 199\n",
      "Data columns (total 1 columns):\n",
      " #   Column   Non-Null Count  Dtype \n",
      "---  ------   --------------  ----- \n",
      " 0   address  200 non-null    object\n",
      "dtypes: object(1)\n",
      "memory usage: 1.7+ KB\n"
     ]
    }
   ],
   "source": [
    "df.info()"
   ]
  },
  {
   "cell_type": "code",
   "execution_count": 8,
   "id": "cdd47b01",
   "metadata": {},
   "outputs": [],
   "source": [
    "def get_location(address):\n",
    "    url = 'https://dapi.kakao.com/v2/local/search/address.json?query=' + address\n",
    "    headers = {\"Authorization\": \"KakaoAK 개인키\"}\n",
    "    api_json = json.loads(str(requests.get(url,headers=headers).text))\n",
    "    return api_json"
   ]
  },
  {
   "cell_type": "raw",
   "id": "540ae1b1",
   "metadata": {},
   "source": [
    "# [도로명 주소] 가 있을 시 활용\n",
    "\n",
    "data = pd.read_csv('qwer.csv', encoding='utf-8')\n",
    " \n",
    " \n",
    "for i in range(0,200,1):\n",
    "    split=[]\n",
    "    if data['address'][i].endswith('>'):\n",
    "        split = data['address'][i].split('<') # split은 리스트 반환\n",
    "        data['address'][i] = split[0]"
   ]
  },
  {
   "cell_type": "code",
   "execution_count": 9,
   "id": "fc4bd08e",
   "metadata": {},
   "outputs": [],
   "source": [
    "def result_location(i):\n",
    "    api_json = get_location(data['address'][i])\n",
    "    if api_json['documents']:\n",
    "        address = api_json['documents'][0]['address']\n",
    "        data.loc[i,'x'] = address['x']; \n",
    "        data.loc[i,'y'] = address['y']        \n",
    "    else:\n",
    "        data.loc[i,'x'], data.loc[i,'y'] = None, None\n",
    "    print(i, '번째 변환 완료...')"
   ]
  },
  {
   "cell_type": "code",
   "execution_count": 10,
   "id": "6a7a75e5",
   "metadata": {},
   "outputs": [
    {
     "name": "stdout",
     "output_type": "stream",
     "text": [
      "0 번째 변환 완료...\n",
      "1 번째 변환 완료...\n",
      "2 번째 변환 완료...\n",
      "3 번째 변환 완료...\n",
      "4 번째 변환 완료...\n",
      "5 번째 변환 완료...\n",
      "6 번째 변환 완료...\n",
      "7 번째 변환 완료...\n",
      "8 번째 변환 완료...\n",
      "9 번째 변환 완료...\n",
      "10 번째 변환 완료...\n",
      "11 번째 변환 완료...\n",
      "12 번째 변환 완료...\n",
      "13 번째 변환 완료...\n",
      "14 번째 변환 완료...\n",
      "15 번째 변환 완료...\n",
      "16 번째 변환 완료...\n",
      "17 번째 변환 완료...\n",
      "18 번째 변환 완료...\n",
      "19 번째 변환 완료...\n",
      "20 번째 변환 완료...\n",
      "21 번째 변환 완료...\n",
      "22 번째 변환 완료...\n",
      "23 번째 변환 완료...\n",
      "24 번째 변환 완료...\n",
      "25 번째 변환 완료...\n",
      "26 번째 변환 완료...\n",
      "27 번째 변환 완료...\n",
      "28 번째 변환 완료...\n",
      "29 번째 변환 완료...\n",
      "30 번째 변환 완료...\n",
      "31 번째 변환 완료...\n",
      "32 번째 변환 완료...\n",
      "33 번째 변환 완료...\n",
      "34 번째 변환 완료...\n",
      "35 번째 변환 완료...\n",
      "36 번째 변환 완료...\n",
      "37 번째 변환 완료...\n",
      "38 번째 변환 완료...\n",
      "39 번째 변환 완료...\n",
      "40 번째 변환 완료...\n",
      "41 번째 변환 완료...\n",
      "42 번째 변환 완료...\n",
      "43 번째 변환 완료...\n",
      "44 번째 변환 완료...\n",
      "45 번째 변환 완료...\n",
      "46 번째 변환 완료...\n",
      "47 번째 변환 완료...\n",
      "48 번째 변환 완료...\n",
      "49 번째 변환 완료...\n",
      "50 번째 변환 완료...\n",
      "51 번째 변환 완료...\n",
      "52 번째 변환 완료...\n",
      "53 번째 변환 완료...\n",
      "54 번째 변환 완료...\n",
      "55 번째 변환 완료...\n",
      "56 번째 변환 완료...\n",
      "57 번째 변환 완료...\n",
      "58 번째 변환 완료...\n",
      "59 번째 변환 완료...\n",
      "60 번째 변환 완료...\n",
      "61 번째 변환 완료...\n",
      "62 번째 변환 완료...\n",
      "63 번째 변환 완료...\n",
      "64 번째 변환 완료...\n",
      "65 번째 변환 완료...\n",
      "66 번째 변환 완료...\n",
      "67 번째 변환 완료...\n",
      "68 번째 변환 완료...\n",
      "69 번째 변환 완료...\n",
      "70 번째 변환 완료...\n",
      "71 번째 변환 완료...\n",
      "72 번째 변환 완료...\n",
      "73 번째 변환 완료...\n",
      "74 번째 변환 완료...\n",
      "75 번째 변환 완료...\n",
      "76 번째 변환 완료...\n",
      "77 번째 변환 완료...\n",
      "78 번째 변환 완료...\n",
      "79 번째 변환 완료...\n",
      "80 번째 변환 완료...\n",
      "81 번째 변환 완료...\n",
      "82 번째 변환 완료...\n",
      "83 번째 변환 완료...\n",
      "84 번째 변환 완료...\n",
      "85 번째 변환 완료...\n",
      "86 번째 변환 완료...\n",
      "87 번째 변환 완료...\n",
      "88 번째 변환 완료...\n",
      "89 번째 변환 완료...\n",
      "90 번째 변환 완료...\n",
      "91 번째 변환 완료...\n",
      "92 번째 변환 완료...\n",
      "93 번째 변환 완료...\n",
      "94 번째 변환 완료...\n",
      "95 번째 변환 완료...\n",
      "96 번째 변환 완료...\n",
      "97 번째 변환 완료...\n",
      "98 번째 변환 완료...\n",
      "99 번째 변환 완료...\n",
      "100 번째 변환 완료...\n",
      "101 번째 변환 완료...\n",
      "102 번째 변환 완료...\n",
      "103 번째 변환 완료...\n",
      "104 번째 변환 완료...\n",
      "105 번째 변환 완료...\n",
      "106 번째 변환 완료...\n",
      "107 번째 변환 완료...\n",
      "108 번째 변환 완료...\n",
      "109 번째 변환 완료...\n",
      "110 번째 변환 완료...\n",
      "111 번째 변환 완료...\n",
      "112 번째 변환 완료...\n",
      "113 번째 변환 완료...\n",
      "114 번째 변환 완료...\n",
      "115 번째 변환 완료...\n",
      "116 번째 변환 완료...\n",
      "117 번째 변환 완료...\n",
      "118 번째 변환 완료...\n",
      "119 번째 변환 완료...\n",
      "120 번째 변환 완료...\n",
      "121 번째 변환 완료...\n",
      "122 번째 변환 완료...\n",
      "123 번째 변환 완료...\n",
      "124 번째 변환 완료...\n",
      "125 번째 변환 완료...\n",
      "126 번째 변환 완료...\n",
      "127 번째 변환 완료...\n",
      "128 번째 변환 완료...\n",
      "129 번째 변환 완료...\n",
      "130 번째 변환 완료...\n",
      "131 번째 변환 완료...\n",
      "132 번째 변환 완료...\n",
      "133 번째 변환 완료...\n",
      "134 번째 변환 완료...\n",
      "135 번째 변환 완료...\n",
      "136 번째 변환 완료...\n",
      "137 번째 변환 완료...\n",
      "138 번째 변환 완료...\n",
      "139 번째 변환 완료...\n",
      "140 번째 변환 완료...\n",
      "141 번째 변환 완료...\n",
      "142 번째 변환 완료...\n",
      "143 번째 변환 완료...\n",
      "144 번째 변환 완료...\n",
      "145 번째 변환 완료...\n",
      "146 번째 변환 완료...\n",
      "147 번째 변환 완료...\n",
      "148 번째 변환 완료...\n",
      "149 번째 변환 완료...\n",
      "150 번째 변환 완료...\n",
      "151 번째 변환 완료...\n",
      "152 번째 변환 완료...\n",
      "153 번째 변환 완료...\n",
      "154 번째 변환 완료...\n",
      "155 번째 변환 완료...\n",
      "156 번째 변환 완료...\n",
      "157 번째 변환 완료...\n",
      "158 번째 변환 완료...\n",
      "159 번째 변환 완료...\n",
      "160 번째 변환 완료...\n",
      "161 번째 변환 완료...\n",
      "162 번째 변환 완료...\n",
      "163 번째 변환 완료...\n",
      "164 번째 변환 완료...\n",
      "165 번째 변환 완료...\n",
      "166 번째 변환 완료...\n",
      "167 번째 변환 완료...\n",
      "168 번째 변환 완료...\n",
      "169 번째 변환 완료...\n",
      "170 번째 변환 완료...\n",
      "171 번째 변환 완료...\n",
      "172 번째 변환 완료...\n",
      "173 번째 변환 완료...\n",
      "174 번째 변환 완료...\n",
      "175 번째 변환 완료...\n",
      "176 번째 변환 완료...\n",
      "177 번째 변환 완료...\n",
      "178 번째 변환 완료...\n",
      "179 번째 변환 완료...\n",
      "180 번째 변환 완료...\n",
      "181 번째 변환 완료...\n",
      "182 번째 변환 완료...\n",
      "183 번째 변환 완료...\n",
      "184 번째 변환 완료...\n",
      "185 번째 변환 완료...\n",
      "186 번째 변환 완료...\n",
      "187 번째 변환 완료...\n",
      "188 번째 변환 완료...\n",
      "189 번째 변환 완료...\n",
      "190 번째 변환 완료...\n",
      "191 번째 변환 완료...\n",
      "192 번째 변환 완료...\n",
      "193 번째 변환 완료...\n",
      "194 번째 변환 완료...\n",
      "195 번째 변환 완료...\n",
      "196 번째 변환 완료...\n",
      "197 번째 변환 완료...\n",
      "198 번째 변환 완료...\n",
      "199 번째 변환 완료...\n"
     ]
    }
   ],
   "source": [
    "i = 0\n",
    "while i<len(data['address']):\n",
    "    try:\n",
    "        result_location(i)\n",
    "        i+=1\n",
    "    except:\n",
    "        print('time.sleep 적용합니다.')\n",
    "        time.sleep(2)\n",
    "        result_location(i)\n",
    "        i+=1\n",
    "data.to_csv('include_xy.csv', encoding='utf-8-sig')"
   ]
  },
  {
   "cell_type": "markdown",
   "id": "3c3498c5",
   "metadata": {},
   "source": [
    "## ---------------------------------------------"
   ]
  },
  {
   "cell_type": "markdown",
   "id": "f4c0cc29",
   "metadata": {},
   "source": [
    "### 1개 주소-> 1개 좌표 변환"
   ]
  },
  {
   "cell_type": "code",
   "execution_count": 50,
   "id": "268ceac0",
   "metadata": {},
   "outputs": [
    {
     "name": "stdout",
     "output_type": "stream",
     "text": [
      "{'lat': '37.5196040321585', 'lng': '127.022575538236'}\n"
     ]
    }
   ],
   "source": [
    "# 카카오API를 사용하여 주소->좌표 변환\n",
    "import requests, json\n",
    "\n",
    "def get_location(address):\n",
    "  url = 'https://dapi.kakao.com/v2/local/search/address.json?query=' + address\n",
    "  # 'KaKaoAK '는 그대로 두시고 개인키만 지우고, REST API 키 입력\n",
    "  # ex) KakaoAK 6af8d4826f0e56c54bc794fa8a294\n",
    "  headers = {\"Authorization\": \"KakaoAK 개인키\"}\n",
    "  api_json = json.loads(str(requests.get(url,headers=headers).text))\n",
    "  address = api_json['documents'][0]['address']\n",
    "  crd = {\"lat\": str(address['y']), \"lng\": str(address['x'])}\n",
    "  address_name = address['address_name']\n",
    "\n",
    "  return crd\n",
    "\n",
    "crd = get_location(\"서울특별시 강남구 도산대로11길 32\")\n",
    "\n",
    "print(crd)"
   ]
  },
  {
   "cell_type": "markdown",
   "id": "ea46d5c3",
   "metadata": {},
   "source": [
    "## ---------------------------------------------"
   ]
  },
  {
   "cell_type": "markdown",
   "id": "59118620",
   "metadata": {},
   "source": [
    "### csv 주소 -> 좌표 변환"
   ]
  },
  {
   "cell_type": "code",
   "execution_count": null,
   "id": "a314350f",
   "metadata": {},
   "outputs": [],
   "source": [
    "import requests, json\n",
    "import pandas as pd\n",
    "import time"
   ]
  },
  {
   "cell_type": "code",
   "execution_count": null,
   "id": "90fc4ca7",
   "metadata": {},
   "outputs": [],
   "source": [
    "def get_location(address):\n",
    "    url = 'https://dapi.kakao.com/v2/local/search/address.json?query=' + address\n",
    "    # 'KaKaoAK '는 그대로 두시고 개인키만 지우고 입력해 주세요.\n",
    "    # ex) KakaoAK 6af8d4826f0e56c54bc794fa8a294\n",
    "    headers = {\"Authorization\": \"KakaoAK 개인키\"}\n",
    "    api_json = json.loads(str(requests.get(url,headers=headers).text))\n",
    "#   address = api_json['documents'][0]['address']\n",
    "    return api_json\n",
    " \n",
    "def result_location(i):\n",
    "    api_json = get_location(test_data['address'][i])\n",
    "    if api_json['documents']:\n",
    "        address = api_json['documents'][0]['address']\n",
    "        test_data.loc[i,'x'] = address['x']; \n",
    "        test_data.loc[i,'y'] = address['y']        \n",
    "    else:\n",
    "        test_data.loc[i,'x'], test_data.loc[i,'y'] = None, None\n",
    "    print(i, '번째 변환 완료...')"
   ]
  },
  {
   "cell_type": "code",
   "execution_count": null,
   "id": "1764cf61",
   "metadata": {},
   "outputs": [],
   "source": [
    "test_data = pd.read_csv('data_project/place.csv', encoding='utf-8')\n",
    " \n",
    " \n",
    "for i in range(0,200,1):\n",
    "    split=[]\n",
    "    if test_data['address'][i].endswith('지번 '):\n",
    "        split = test_data['address'][i].split('<') # split은 리스트 반환\n",
    "        test_data['address'][i] = split[0]\n",
    " \n",
    " \n",
    "i = 0\n",
    "while i<len(test_data['address']):\n",
    "    try:\n",
    "        result_location(i)\n",
    "        i+=1\n",
    "    except:\n",
    "        print('time.sleep 적용합니다.')\n",
    "        time.sleep(2)\n",
    "        result_location(i)\n",
    "        i+=1\n",
    "test_data.to_csv('include_xy.csv', encoding='utf-8-sig')"
   ]
  },
  {
   "cell_type": "markdown",
   "id": "6f39e624",
   "metadata": {},
   "source": [
    "## ---------------------------------------------"
   ]
  },
  {
   "cell_type": "markdown",
   "id": "dae72958",
   "metadata": {},
   "source": [
    "### 한 컬럼 내 일부 특정 문자 기준으로 잘라서 저장하기"
   ]
  },
  {
   "cell_type": "code",
   "execution_count": null,
   "id": "c4c33202",
   "metadata": {},
   "outputs": [],
   "source": [
    "import requests, json\n",
    "import pandas as pd\n",
    "import time"
   ]
  },
  {
   "cell_type": "code",
   "execution_count": null,
   "id": "82d1b8cb",
   "metadata": {},
   "outputs": [],
   "source": [
    "df = pd.read_csv('data_project/place.csv')"
   ]
  },
  {
   "cell_type": "code",
   "execution_count": null,
   "id": "1dafb9ae",
   "metadata": {},
   "outputs": [],
   "source": [
    "df['grp'] = df.address.str.split('<br><br> ').str[0]\n",
    "\n",
    "print(df)"
   ]
  },
  {
   "cell_type": "code",
   "execution_count": null,
   "id": "5dc5a172",
   "metadata": {},
   "outputs": [],
   "source": [
    "#정제 완료한 데이터를 csv로 저장\n",
    "df.to_csv('qwer.csv', encoding='utf-8-sig', index=False)"
   ]
  }
 ],
 "metadata": {
  "kernelspec": {
   "display_name": "Python 3 (ipykernel)",
   "language": "python",
   "name": "python3"
  },
  "language_info": {
   "codemirror_mode": {
    "name": "ipython",
    "version": 3
   },
   "file_extension": ".py",
   "mimetype": "text/x-python",
   "name": "python",
   "nbconvert_exporter": "python",
   "pygments_lexer": "ipython3",
   "version": "3.8.15"
  }
 },
 "nbformat": 4,
 "nbformat_minor": 5
}
