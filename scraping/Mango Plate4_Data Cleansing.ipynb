{
 "cells": [
  {
   "cell_type": "markdown",
   "id": "7cc3d251",
   "metadata": {},
   "source": [
    "##  [망고플레이트 크롤링](https://www.mangoplate.com/)    \n",
    "### [참고 사이트](https://juwon2021.tistory.com/414)   "
   ]
  },
  {
   "cell_type": "markdown",
   "id": "7a77ce6e",
   "metadata": {},
   "source": [
    "### ** 시작 전 확인 사항 **\n",
    "  Window terminal에서   \n",
    "- conda activate   \n",
    "- conda activate ml-env   \n",
    "(ml-env) 환경 확인 후   \n",
    "- jupyter notebook   \n",
    "- conda install -c anaconda requests   \n",
    "- conda install bs4   \n",
    "- conda install lxml   \n",
    "- conda install -c conda-forge selenium   \n",
    "- conda install tqdm   \n",
    "- connda install -c conda-forge folium   \n",
    "- connda install -c conda-forge googlemaps   \n",
    "- pip install chromedriver-autoinstaller   "
   ]
  },
  {
   "cell_type": "markdown",
   "id": "6b04efa4",
   "metadata": {},
   "source": [
    "### 데이터 정제(Data Cleansing)"
   ]
  },
  {
   "cell_type": "code",
   "execution_count": 1,
   "id": "e02e5d9e",
   "metadata": {},
   "outputs": [],
   "source": [
    "# 필요한 라이브러리를 임포트하기\n",
    "\n",
    "import sys # 시스템\n",
    "import os  # 시스템\n",
    "\n",
    "# 데이터 다루기\n",
    "import pandas as pd\n",
    "import numpy as np\n",
    "\n",
    "# selenium 크롤링\n",
    "from selenium import webdriver  \n",
    "from selenium.webdriver import ActionChains as AC\n",
    "from selenium.webdriver.support.ui import WebDriverWait\n",
    "from selenium.webdriver.support import expected_conditions as EC\n",
    "from selenium.webdriver.common.by import By\n",
    "\n",
    "# 크롬 드라이버\n",
    "import chromedriver_autoinstaller\n",
    "\n",
    "# beautifulsoup 크롤링\n",
    "import requests\n",
    "from bs4 import BeautifulSoup\n",
    "\n",
    "# lxml 크롤링\n",
    "import lxml.html\n",
    "\n",
    "# 시간 조절\n",
    "import time\n",
    "\n",
    "# 시간 측정\n",
    "from tqdm import notebook\n",
    "\n",
    "# 정규표현식\n",
    "import re\n",
    "\n",
    "# 경고 무시\n",
    "import warnings\n",
    "warnings.filterwarnings('ignore')\n",
    "\n",
    "from selenium.webdriver.common.keys import Keys"
   ]
  },
  {
   "cell_type": "code",
   "execution_count": null,
   "id": "e5b66bf5",
   "metadata": {},
   "outputs": [],
   "source": []
  }
 ],
 "metadata": {
  "kernelspec": {
   "display_name": "Python 3 (ipykernel)",
   "language": "python",
   "name": "python3"
  },
  "language_info": {
   "codemirror_mode": {
    "name": "ipython",
    "version": 3
   },
   "file_extension": ".py",
   "mimetype": "text/x-python",
   "name": "python",
   "nbconvert_exporter": "python",
   "pygments_lexer": "ipython3",
   "version": "3.8.15"
  }
 },
 "nbformat": 4,
 "nbformat_minor": 5
}
