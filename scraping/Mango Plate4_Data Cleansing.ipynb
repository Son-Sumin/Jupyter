{
 "cells": [
  {
   "cell_type": "markdown",
   "id": "6de9bbac",
   "metadata": {},
   "source": [
    "##  [망고플레이트 크롤링](https://www.mangoplate.com/)    \n",
    "- **데이터 정제(Data Cleansing)**   \n",
    "- 참고 사이트 : https://juwon2021.tistory.com/414"
   ]
  },
  {
   "cell_type": "markdown",
   "id": "99cd82c2",
   "metadata": {},
   "source": [
    "### ** 시작 전 확인 사항 **\n",
    "  Window terminal에서   \n",
    "- conda activate   \n",
    "- conda activate ml-env   \n",
    "(ml-env) 환경 확인 후   \n",
    "- jupyter notebook   \n",
    "- conda install -c anaconda requests   \n",
    "- conda install bs4   \n",
    "- conda install lxml   \n",
    "- conda install -c conda-forge selenium   \n",
    "- conda install tqdm   \n",
    "- connda install -c conda-forge folium   \n",
    "- connda install -c conda-forge googlemaps   \n",
    "- pip install chromedriver-autoinstaller   "
   ]
  },
  {
   "cell_type": "markdown",
   "id": "21cfb48b",
   "metadata": {},
   "source": [
    "* * *"
   ]
  },
  {
   "cell_type": "markdown",
   "id": "33c0619b",
   "metadata": {},
   "source": [
    "### 데이터 정제(Data Cleansing)"
   ]
  },
  {
   "cell_type": "code",
   "execution_count": 1,
   "id": "8eb0299c",
   "metadata": {},
   "outputs": [],
   "source": [
    "# 필요한 라이브러리를 임포트하기\n",
    "\n",
    "import sys # 시스템\n",
    "import os  # 시스템\n",
    "\n",
    "# 데이터 다루기\n",
    "import pandas as pd\n",
    "import numpy as np\n",
    "\n",
    "# selenium 크롤링\n",
    "from selenium import webdriver  \n",
    "from selenium.webdriver import ActionChains as AC\n",
    "from selenium.webdriver.support.ui import WebDriverWait\n",
    "from selenium.webdriver.support import expected_conditions as EC\n",
    "from selenium.webdriver.common.by import By\n",
    "\n",
    "# 크롬 드라이버\n",
    "import chromedriver_autoinstaller\n",
    "\n",
    "# beautifulsoup 크롤링\n",
    "import requests\n",
    "from bs4 import BeautifulSoup\n",
    "\n",
    "# lxml 크롤링\n",
    "import lxml.html\n",
    "\n",
    "# 시간 조절\n",
    "import time\n",
    "\n",
    "# 시간 측정\n",
    "from tqdm import notebook\n",
    "\n",
    "# 정규표현식\n",
    "import re\n",
    "\n",
    "# 경고 무시\n",
    "import warnings\n",
    "warnings.filterwarnings('ignore')\n",
    "\n",
    "from selenium.webdriver.common.keys import Keys"
   ]
  },
  {
   "cell_type": "code",
   "execution_count": 2,
   "id": "8c21405b",
   "metadata": {},
   "outputs": [],
   "source": [
    "# 저장한 csv 불러오기\n",
    "df1 = pd.read_csv('data/Gangnam1.csv')\n",
    "df2 = pd.read_csv('data/Gangnam2.csv')\n",
    "df3 = pd.read_csv('data/Gangnam3.csv')\n",
    "df4 = pd.read_csv('data/Gangnam4.csv')\n",
    "df5 = pd.read_csv('data/Gangnam5.csv')\n",
    "df6 = pd.read_csv('data/Gangnam6.csv')\n",
    "df7 = pd.read_csv('data/Gangnam7.csv')\n",
    "df8 = pd.read_csv('data/Gangnam8.csv')\n",
    "df9 = pd.read_csv('data/Gangnam9.csv')\n",
    "df10 = pd.read_csv('data/Gangnam10.csv')"
   ]
  },
  {
   "cell_type": "code",
   "execution_count": 3,
   "id": "ca60a00e",
   "metadata": {},
   "outputs": [
    {
     "data": {
      "text/html": [
       "<div>\n",
       "<style scoped>\n",
       "    .dataframe tbody tr th:only-of-type {\n",
       "        vertical-align: middle;\n",
       "    }\n",
       "\n",
       "    .dataframe tbody tr th {\n",
       "        vertical-align: top;\n",
       "    }\n",
       "\n",
       "    .dataframe thead th {\n",
       "        text-align: right;\n",
       "    }\n",
       "</style>\n",
       "<table border=\"1\" class=\"dataframe\">\n",
       "  <thead>\n",
       "    <tr style=\"text-align: right;\">\n",
       "      <th></th>\n",
       "      <th>title</th>\n",
       "      <th>Point</th>\n",
       "      <th>View</th>\n",
       "      <th>Review</th>\n",
       "      <th>Star</th>\n",
       "      <th>Type</th>\n",
       "    </tr>\n",
       "  </thead>\n",
       "  <tbody>\n",
       "    <tr>\n",
       "      <th>0</th>\n",
       "      <td>미라이</td>\n",
       "      <td>4.8</td>\n",
       "      <td>510,477</td>\n",
       "      <td>127</td>\n",
       "      <td>10,338</td>\n",
       "      <td>['이자카야 / 오뎅 / 꼬치', '사시미8종 (2인)\\n41,000원\\n마구로치즈...</td>\n",
       "    </tr>\n",
       "    <tr>\n",
       "      <th>1</th>\n",
       "      <td>시라카와</td>\n",
       "      <td>4.8</td>\n",
       "      <td>321,374</td>\n",
       "      <td>75</td>\n",
       "      <td>6,227</td>\n",
       "      <td>이자카야 / 오뎅 / 꼬치</td>\n",
       "    </tr>\n",
       "    <tr>\n",
       "      <th>2</th>\n",
       "      <td>페리지</td>\n",
       "      <td>4.8</td>\n",
       "      <td>52,571</td>\n",
       "      <td>39</td>\n",
       "      <td>1,467</td>\n",
       "      <td>['기타 양식', '페리지 에끌래어\\n8,000원\\n봉골레\\n31,000원\\n아뇰로...</td>\n",
       "    </tr>\n",
       "    <tr>\n",
       "      <th>3</th>\n",
       "      <td>상진식감</td>\n",
       "      <td>4.8</td>\n",
       "      <td>30,936</td>\n",
       "      <td>41</td>\n",
       "      <td>878</td>\n",
       "      <td>까스 요리</td>\n",
       "    </tr>\n",
       "    <tr>\n",
       "      <th>4</th>\n",
       "      <td>맛짱조개</td>\n",
       "      <td>4.8</td>\n",
       "      <td>130,259</td>\n",
       "      <td>64</td>\n",
       "      <td>3,855</td>\n",
       "      <td>['해산물 요리', '조개찜 (중)\\n48,000원\\n해물모듬\\n35,000원\\n가...</td>\n",
       "    </tr>\n",
       "    <tr>\n",
       "      <th>...</th>\n",
       "      <td>...</td>\n",
       "      <td>...</td>\n",
       "      <td>...</td>\n",
       "      <td>...</td>\n",
       "      <td>...</td>\n",
       "      <td>...</td>\n",
       "    </tr>\n",
       "    <tr>\n",
       "      <th>195</th>\n",
       "      <td>고료리 켄</td>\n",
       "      <td>4.3</td>\n",
       "      <td>94,597</td>\n",
       "      <td>22</td>\n",
       "      <td>2,458</td>\n",
       "      <td>정통 일식 / 일반 일식</td>\n",
       "    </tr>\n",
       "    <tr>\n",
       "      <th>196</th>\n",
       "      <td>쁠로13</td>\n",
       "      <td>4.3</td>\n",
       "      <td>87,215</td>\n",
       "      <td>81</td>\n",
       "      <td>3,159</td>\n",
       "      <td>베이커리</td>\n",
       "    </tr>\n",
       "    <tr>\n",
       "      <th>197</th>\n",
       "      <td>치즈룸</td>\n",
       "      <td>4.3</td>\n",
       "      <td>63,261</td>\n",
       "      <td>62</td>\n",
       "      <td>1,719</td>\n",
       "      <td>이탈리안</td>\n",
       "    </tr>\n",
       "    <tr>\n",
       "      <th>198</th>\n",
       "      <td>쎄쎄종</td>\n",
       "      <td>4.3</td>\n",
       "      <td>59,705</td>\n",
       "      <td>58</td>\n",
       "      <td>2,246</td>\n",
       "      <td>['카페 / 디저트', '아메리카노\\n4,500원\\n카페라떼\\n5,000원\\n오늘의...</td>\n",
       "    </tr>\n",
       "    <tr>\n",
       "      <th>199</th>\n",
       "      <td>파오파오</td>\n",
       "      <td>4.3</td>\n",
       "      <td>346,218</td>\n",
       "      <td>189</td>\n",
       "      <td>8,613</td>\n",
       "      <td>['한정식 / 백반 / 정통 한식', '고기만두 (9pcs)\\n4,500원\\n김치만...</td>\n",
       "    </tr>\n",
       "  </tbody>\n",
       "</table>\n",
       "<p>200 rows × 6 columns</p>\n",
       "</div>"
      ],
      "text/plain": [
       "     title  Point     View  Review    Star  \\\n",
       "0      미라이    4.8  510,477     127  10,338   \n",
       "1     시라카와    4.8  321,374      75   6,227   \n",
       "2      페리지    4.8   52,571      39   1,467   \n",
       "3     상진식감    4.8   30,936      41     878   \n",
       "4     맛짱조개    4.8  130,259      64   3,855   \n",
       "..     ...    ...      ...     ...     ...   \n",
       "195  고료리 켄    4.3   94,597      22   2,458   \n",
       "196   쁠로13    4.3   87,215      81   3,159   \n",
       "197    치즈룸    4.3   63,261      62   1,719   \n",
       "198    쎄쎄종    4.3   59,705      58   2,246   \n",
       "199   파오파오    4.3  346,218     189   8,613   \n",
       "\n",
       "                                                  Type  \n",
       "0    ['이자카야 / 오뎅 / 꼬치', '사시미8종 (2인)\\n41,000원\\n마구로치즈...  \n",
       "1                                       이자카야 / 오뎅 / 꼬치  \n",
       "2    ['기타 양식', '페리지 에끌래어\\n8,000원\\n봉골레\\n31,000원\\n아뇰로...  \n",
       "3                                                까스 요리  \n",
       "4    ['해산물 요리', '조개찜 (중)\\n48,000원\\n해물모듬\\n35,000원\\n가...  \n",
       "..                                                 ...  \n",
       "195                                      정통 일식 / 일반 일식  \n",
       "196                                               베이커리  \n",
       "197                                               이탈리안  \n",
       "198  ['카페 / 디저트', '아메리카노\\n4,500원\\n카페라떼\\n5,000원\\n오늘의...  \n",
       "199  ['한정식 / 백반 / 정통 한식', '고기만두 (9pcs)\\n4,500원\\n김치만...  \n",
       "\n",
       "[200 rows x 6 columns]"
      ]
     },
     "execution_count": 3,
     "metadata": {},
     "output_type": "execute_result"
    }
   ],
   "source": [
    "df_list = [df1, df2, df3, df4, df5, df6, df7, df8, df9, df10]\n",
    "df_all = pd.concat(df_list, ignore_index=True)\n",
    "df_all"
   ]
  },
  {
   "cell_type": "code",
   "execution_count": 4,
   "id": "715cd21c",
   "metadata": {},
   "outputs": [],
   "source": [
    "# csv 파일 저장\n",
    "df_all.to_csv('Gangnam_Mango.csv', encoding='utf-8-sig', index=False)"
   ]
  },
  {
   "cell_type": "markdown",
   "id": "5cafa46a",
   "metadata": {},
   "source": [
    "* * *"
   ]
  },
  {
   "cell_type": "markdown",
   "id": "8c6f1681",
   "metadata": {},
   "source": [
    "### 결측치 존재 확인"
   ]
  },
  {
   "cell_type": "code",
   "execution_count": 5,
   "id": "d470ee09",
   "metadata": {},
   "outputs": [],
   "source": [
    "# 파일 불러오기\n",
    "df_all = pd.read_csv('data/Gangnam_Mango.csv')"
   ]
  },
  {
   "cell_type": "code",
   "execution_count": 6,
   "id": "05d5b403",
   "metadata": {},
   "outputs": [
    {
     "name": "stdout",
     "output_type": "stream",
     "text": [
      "<class 'pandas.core.frame.DataFrame'>\n",
      "RangeIndex: 200 entries, 0 to 199\n",
      "Data columns (total 6 columns):\n",
      " #   Column  Non-Null Count  Dtype  \n",
      "---  ------  --------------  -----  \n",
      " 0   title   200 non-null    object \n",
      " 1   Point   200 non-null    float64\n",
      " 2   View    200 non-null    object \n",
      " 3   Review  200 non-null    int64  \n",
      " 4   Star    200 non-null    object \n",
      " 5   Type    200 non-null    object \n",
      "dtypes: float64(1), int64(1), object(4)\n",
      "memory usage: 9.5+ KB\n"
     ]
    }
   ],
   "source": [
    "df_all.info()"
   ]
  },
  {
   "cell_type": "code",
   "execution_count": 7,
   "id": "2d218905",
   "metadata": {},
   "outputs": [
    {
     "name": "stdout",
     "output_type": "stream",
     "text": [
      "Index(['Title', 'Point', 'View', 'Review', 'Star', 'Type'], dtype='object')\n"
     ]
    }
   ],
   "source": [
    "### 열 이름 수정\n",
    "# 망고 데이터 이름 통일\n",
    "df_all.rename(columns = {'title' : 'Title'}, inplace=True)\n",
    "print(df_all.columns)"
   ]
  },
  {
   "cell_type": "markdown",
   "id": "c23074f3",
   "metadata": {},
   "source": [
    "* * *"
   ]
  },
  {
   "cell_type": "markdown",
   "id": "aea666d6",
   "metadata": {},
   "source": [
    "### type 열 정제"
   ]
  },
  {
   "cell_type": "code",
   "execution_count": 8,
   "id": "898d422f",
   "metadata": {},
   "outputs": [
    {
     "data": {
      "text/plain": [
       "0      [이자카야, 오뎅, 꼬치, 사시미, 종, 인, 원, 마구로치즈아에, 원, 양갈비, ...\n",
       "1                                         [이자카야, 오뎅, 꼬치]\n",
       "2      [기타, 양식, 페리지, 에끌래어, 원, 봉골레, 원, 아뇰로띠, 원, 안다리노, ...\n",
       "3                                               [까스, 요리]\n",
       "4      [해산물, 요리, 조개찜, 중, 원, 해물모듬, 원, 가리비숙회, 원, 포뜬산오징어...\n",
       "                             ...                        \n",
       "195                                     [정통, 일식, 일반, 일식]\n",
       "196                                               [베이커리]\n",
       "197                                               [이탈리안]\n",
       "198    [카페, 디저트, 아메리카노, 원, 카페라떼, 원, 오늘의, 밀크티, 원, 바닐라타...\n",
       "199         [한정식, 백반, 정통, 한식, 고기만두, 원, 김치만두, 원, 새우만두, 원]\n",
       "Name: Type, Length: 200, dtype: object"
      ]
     },
     "execution_count": 8,
     "metadata": {},
     "output_type": "execute_result"
    }
   ],
   "source": [
    "# 한글만 추출\n",
    "data = df_all.copy()\n",
    "# data['Type'] = data['Type'].str.findall('[a-z|A-Z|0-9|가-힣]+')\n",
    "data['Type'] = data['Type'].str.findall('[가-힣]+')\n",
    "data['Type']"
   ]
  },
  {
   "cell_type": "code",
   "execution_count": 9,
   "id": "5fc8ac05",
   "metadata": {},
   "outputs": [
    {
     "data": {
      "text/plain": [
       "0      이자카야 오뎅 꼬치 사시미 종 인 원 마구로치즈아에 원 양갈비 스미비 야끼 원 노도...\n",
       "1                                             이자카야 오뎅 꼬치\n",
       "2      기타 양식 페리지 에끌래어 원 봉골레 원 아뇰로띠 원 안다리노 윗 랍스타 원 텐더로인 원\n",
       "3                                                  까스 요리\n",
       "4          해산물 요리 조개찜 중 원 해물모듬 원 가리비숙회 원 포뜬산오징어 원 해물라면 원\n",
       "                             ...                        \n",
       "195                                          정통 일식 일반 일식\n",
       "196                                                 베이커리\n",
       "197                                                 이탈리안\n",
       "198      카페 디저트 아메리카노 원 카페라떼 원 오늘의 밀크티 원 바닐라타르트 원 코코오레 원\n",
       "199                    한정식 백반 정통 한식 고기만두 원 김치만두 원 새우만두 원\n",
       "Name: Type, Length: 200, dtype: object"
      ]
     },
     "execution_count": 9,
     "metadata": {},
     "output_type": "execute_result"
    }
   ],
   "source": [
    "# 공백문자로 word 단위로 문자열로 반환\n",
    "data['Type'] = data['Type'].apply(lambda x : (' ').join(x))\n",
    "data['Type']"
   ]
  },
  {
   "cell_type": "code",
   "execution_count": 10,
   "id": "e82eab64",
   "metadata": {},
   "outputs": [
    {
     "data": {
      "text/plain": [
       "0      이자카야 오뎅 꼬치 사시미 종 인  마구로치즈아에  양갈비 스미비 야끼  노도구로 ...\n",
       "1                                             이자카야 오뎅 꼬치\n",
       "2           기타 양식 페리지 에끌래어  봉골레  아뇰로띠  안다리노 윗 랍스타  텐더로인 \n",
       "3                                                  까스 요리\n",
       "4               해산물 요리 조개찜 중  해물모듬  가리비숙회  포뜬산오징어  해물라면 \n",
       "                             ...                        \n",
       "195                                          정통 일식 일반 일식\n",
       "196                                                 베이커리\n",
       "197                                                 이탈리안\n",
       "198           카페 디저트 아메리카노  카페라떼  오늘의 밀크티  바닐라타르트  코코오레 \n",
       "199                       한정식 백반 정통 한식 고기만두  김치만두  새우만두 \n",
       "Name: Type, Length: 200, dtype: object"
      ]
     },
     "execution_count": 10,
     "metadata": {},
     "output_type": "execute_result"
    }
   ],
   "source": [
    "# '원' 문자 제거\n",
    "data['Type'] = data['Type'].str.replace('원', '')\n",
    "data['Type']"
   ]
  },
  {
   "cell_type": "markdown",
   "id": "ed9a6da8",
   "metadata": {},
   "source": [
    "* * *"
   ]
  },
  {
   "cell_type": "markdown",
   "id": "9099291a",
   "metadata": {},
   "source": [
    "### 문자열에서 숫자형으로 변환 : View, Star 열"
   ]
  },
  {
   "cell_type": "markdown",
   "id": "59b4dd42",
   "metadata": {},
   "source": [
    "- View 열"
   ]
  },
  {
   "cell_type": "code",
   "execution_count": 11,
   "id": "3a5d94f9",
   "metadata": {},
   "outputs": [
    {
     "name": "stdout",
     "output_type": "stream",
     "text": [
      "0 \n",
      "\n",
      "0      510477\n",
      "1      321374\n",
      "2       52571\n",
      "3       30936\n",
      "4      130259\n",
      "        ...  \n",
      "195     94597\n",
      "196     87215\n",
      "197     63261\n",
      "198     59705\n",
      "199    346218\n",
      "Name: View, Length: 200, dtype: object\n"
     ]
    }
   ],
   "source": [
    "# 모든 원소들을 문자형으로 반환\n",
    "data['View'] = [str(x) for x in data['View']]\n",
    "data['View'] = data['View'].str.replace(',', '')\n",
    "print(data['View'].isna().sum(), '\\n')\n",
    "print(data['View'])"
   ]
  },
  {
   "cell_type": "code",
   "execution_count": 12,
   "id": "e2d896f9",
   "metadata": {},
   "outputs": [
    {
     "name": "stdout",
     "output_type": "stream",
     "text": [
      "<class 'pandas.core.frame.DataFrame'>\n",
      "RangeIndex: 200 entries, 0 to 199\n",
      "Data columns (total 6 columns):\n",
      " #   Column  Non-Null Count  Dtype  \n",
      "---  ------  --------------  -----  \n",
      " 0   Title   200 non-null    object \n",
      " 1   Point   200 non-null    float64\n",
      " 2   View    200 non-null    int32  \n",
      " 3   Review  200 non-null    int64  \n",
      " 4   Star    200 non-null    object \n",
      " 5   Type    200 non-null    object \n",
      "dtypes: float64(1), int32(1), int64(1), object(3)\n",
      "memory usage: 8.7+ KB\n"
     ]
    }
   ],
   "source": [
    "data['View'] = data['View'].astype(int)\n",
    "data.info()"
   ]
  },
  {
   "cell_type": "markdown",
   "id": "2336bd5c",
   "metadata": {},
   "source": [
    "- Star 열"
   ]
  },
  {
   "cell_type": "code",
   "execution_count": 13,
   "id": "9c3b838e",
   "metadata": {},
   "outputs": [
    {
     "data": {
      "text/plain": [
       "0      10,338\n",
       "1       6,227\n",
       "2       1,467\n",
       "3         878\n",
       "4       3,855\n",
       "        ...  \n",
       "195     2,458\n",
       "196     3,159\n",
       "197     1,719\n",
       "198     2,246\n",
       "199     8,613\n",
       "Name: Star, Length: 200, dtype: object"
      ]
     },
     "execution_count": 13,
     "metadata": {},
     "output_type": "execute_result"
    }
   ],
   "source": [
    "# 모든 원소들을 문자형으로 반환\n",
    "star_list = [str(x) for x in data['Star']]\n",
    "data['Star'] = star_list\n",
    "data['Star']"
   ]
  },
  {
   "cell_type": "code",
   "execution_count": 14,
   "id": "9bc950ff",
   "metadata": {},
   "outputs": [
    {
     "name": "stdout",
     "output_type": "stream",
     "text": [
      "0 \n",
      "\n",
      "0      10338\n",
      "1       6227\n",
      "2       1467\n",
      "3        878\n",
      "4       3855\n",
      "       ...  \n",
      "195     2458\n",
      "196     3159\n",
      "197     1719\n",
      "198     2246\n",
      "199     8613\n",
      "Name: Star, Length: 200, dtype: object\n"
     ]
    }
   ],
   "source": [
    "data['Star'] = data['Star'].str.replace(',', '')\n",
    "print(data['Star'].isna().sum(), '\\n')\n",
    "print(data['Star'])"
   ]
  },
  {
   "cell_type": "code",
   "execution_count": 16,
   "id": "accddf81",
   "metadata": {},
   "outputs": [
    {
     "name": "stdout",
     "output_type": "stream",
     "text": [
      "<class 'pandas.core.frame.DataFrame'>\n",
      "RangeIndex: 200 entries, 0 to 199\n",
      "Data columns (total 6 columns):\n",
      " #   Column  Non-Null Count  Dtype  \n",
      "---  ------  --------------  -----  \n",
      " 0   Title   200 non-null    object \n",
      " 1   Point   200 non-null    float64\n",
      " 2   View    200 non-null    int32  \n",
      " 3   Review  200 non-null    int64  \n",
      " 4   Star    200 non-null    int32  \n",
      " 5   Type    200 non-null    object \n",
      "dtypes: float64(1), int32(2), int64(1), object(2)\n",
      "memory usage: 7.9+ KB\n"
     ]
    }
   ],
   "source": [
    "data['Star'] = data['Star'].astype(int)\n",
    "data.info()"
   ]
  },
  {
   "cell_type": "code",
   "execution_count": 17,
   "id": "4e50731b",
   "metadata": {},
   "outputs": [],
   "source": [
    "#정제 완료한 데이터를 csv로 저장\n",
    "data.to_csv('mango_revise.csv', encoding='utf-8-sig', index=False)"
   ]
  }
 ],
 "metadata": {
  "kernelspec": {
   "display_name": "Python 3 (ipykernel)",
   "language": "python",
   "name": "python3"
  },
  "language_info": {
   "codemirror_mode": {
    "name": "ipython",
    "version": 3
   },
   "file_extension": ".py",
   "mimetype": "text/x-python",
   "name": "python",
   "nbconvert_exporter": "python",
   "pygments_lexer": "ipython3",
   "version": "3.8.15"
  }
 },
 "nbformat": 4,
 "nbformat_minor": 5
}
