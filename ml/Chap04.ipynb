{
 "cells": [
  {
   "cell_type": "markdown",
   "id": "363123d3",
   "metadata": {},
   "source": [
    "## 결정 트리 ( Decision Trees)\n",
    "- 결정 트리는 분류와 회귀 문제에 널리 사용하는 모델  \n",
    "- 기본적으로 결정 트리는 결정에 다다르기 위해 예/아니오 질문을 이어 나가면서 학습  \n",
    "- bears, hawks, penguins, dolphins 네 가지 동물을 구분한다고 가정  \n",
    "- 우리의 목표는 가능한 한 적은 예/아니오 질문으로 문제를 해결하는 것  \n",
    "- 날개가 있는 동물인지를 물어보면 가능성 있는 동물을 둘로 좁힐 수 있음  \n",
    "- 대답이 \"yes\" 이면 다음엔 hawks와 penguins를 구분할 수 있는 질문을 해야 함  \n",
    "- 예를 들면 날 수 있는 동물인지 물어봐야 함  \n",
    "- 만약 날개가 없다면 가능한 동물은 bears, dolphins 임  \n",
    "- 이 두 동물을 구분하기 위한 질문은 지느러미의 여부  \n",
    "- 연속된 질문들을 결정 트리로 나타내면 다음과 같음"
   ]
  },
  {
   "cell_type": "code",
   "execution_count": null,
   "id": "15a63994",
   "metadata": {},
   "outputs": [],
   "source": []
  }
 ],
 "metadata": {
  "kernelspec": {
   "display_name": "Python 3 (ipykernel)",
   "language": "python",
   "name": "python3"
  },
  "language_info": {
   "codemirror_mode": {
    "name": "ipython",
    "version": 3
   },
   "file_extension": ".py",
   "mimetype": "text/x-python",
   "name": "python",
   "nbconvert_exporter": "python",
   "pygments_lexer": "ipython3",
   "version": "3.8.15"
  }
 },
 "nbformat": 4,
 "nbformat_minor": 5
}
